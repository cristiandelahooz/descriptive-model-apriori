{
 "cells": [
  {
   "cell_type": "code",
   "execution_count": 1,
   "metadata": {
    "vscode": {
     "languageId": "r"
    }
   },
   "outputs": [],
   "source": [
    "#' # K-means Clustering Analysis\n",
    "#' \n",
    "#' This notebook performs K-means clustering analysis on a given dataset. The analysis includes data preprocessing, \n",
    "#' determining the optimal number of clusters, and visualizing the clustering results.\n",
    "#' \n",
    "#' ## Functions\n",
    "#' \n",
    "#' ### sum_two_numbers\n",
    "#' \n",
    "#' This function calculates the sum of two numbers.\n",
    "#' \n",
    "#' #### Parameters\n",
    "#' - `a`: A numeric value representing the first number.\n",
    "#' - `b`: A numeric value representing the second number.\n",
    "#' \n",
    "#' #### Returns\n",
    "#' - The sum of the two numbers.\n",
    "#' \n",
    "#' #### Examples\n",
    "#' ```r\n",
    "#' sum_two_numbers(3, 5)\n",
    "#' sum_two_numbers(-2, 7)\n",
    "#' ```\n",
    "#' \n",
    "#' #### Export\n",
    "#' # K-means Clustering and Visualization\n",
    "#' \n",
    "#' This script performs K-means clustering on specific columns of a dataset and visualizes the results.\n",
    "#' \n",
    "#' ## Libraries\n",
    "#' \n",
    "#' The following libraries are required:\n",
    "#' - `ggplot2`: For data visualization.\n",
    "#' - `dplyr`: For data manipulation.\n",
    "#' \n",
    "#' ## Data Loading\n",
    "#' \n",
    "#' The dataset is loaded from a CSV file named `datos_limpios.csv`.\n",
    "#' \n",
    "#' ## Functions\n",
    "#' \n",
    "#' ### `categorizar_kmeans`\n",
    "#' \n",
    "#' This function applies K-means clustering to a specified column of a dataframe and categorizes the data into clusters.\n",
    "#' \n",
    "#' #### Parameters\n",
    "#' - `data`: The dataframe containing the data.\n",
    "#' - `columna`: The name of the column to which K-means clustering will be applied.\n",
    "#' - `k`: The number of clusters to create (default is 3).\n",
    "#' \n",
    "#' #### Returns\n",
    "#' - The dataframe with an additional column indicating the cluster category for the specified column.\n",
    "#' \n",
    "#' ## Main Script\n",
    "#' \n",
    "#' The script applies the `categorizar_kmeans` function to a list of specified columns and prints the resulting dataframe. Optionally, it visualizes the distribution of categories for each column using histograms.\n",
    "#' \n",
    "#' ### Columns to be Clustered\n",
    "#' \n",
    "#' The columns to which K-means clustering is applied are:\n",
    "#' - `Asociacion`\n",
    "#' - `duracion_segundos`\n",
    "#' - `impresiones`\n",
    "#' - `vistas`\n",
    "#' - `suscriptores`\n",
    "#' \n",
    "#' ### Visualization\n",
    "#' \n",
    "#' Histograms are generated to visualize the distribution of categories for each column.\n",
    "#' - This function is exported for use in other scripts or packages.\n",
    "#' \n",
    "#' ```r\n",
    "#' sum_two_numbers <- function(a, b) {\n",
    "#'   return(a + b)\n",
    "#' }\n",
    "#' ```"
   ]
  },
  {
   "cell_type": "code",
   "execution_count": 2,
   "metadata": {
    "vscode": {
     "languageId": "r"
    }
   },
   "outputs": [
    {
     "name": "stderr",
     "output_type": "stream",
     "text": [
      "\n",
      "Attaching package: ‘dplyr’\n",
      "\n",
      "\n",
      "The following objects are masked from ‘package:stats’:\n",
      "\n",
      "    filter, lag\n",
      "\n",
      "\n",
      "The following objects are masked from ‘package:base’:\n",
      "\n",
      "    intersect, setdiff, setequal, union\n",
      "\n",
      "\n"
     ]
    }
   ],
   "source": [
    "# Cargar librerías necesarias\n",
    "library(ggplot2)\n",
    "library(dplyr)\n",
    "library(scales)"
   ]
  },
  {
   "cell_type": "code",
   "execution_count": 1,
   "metadata": {
    "vscode": {
     "languageId": "r"
    }
   },
   "outputs": [
    {
     "name": "stderr",
     "output_type": "stream",
     "text": [
      "Installing package into ‘/home/saratrasv/R/x86_64-pc-linux-gnu-library/4.3’\n",
      "(as ‘lib’ is unspecified)\n",
      "\n"
     ]
    }
   ],
   "source": [
    "install.packages(\"cluster\")\n",
    "library(cluster)\n"
   ]
  },
  {
   "cell_type": "code",
   "execution_count": 2,
   "metadata": {
    "vscode": {
     "languageId": "r"
    }
   },
   "outputs": [
    {
     "name": "stdout",
     "output_type": "stream",
     "text": [
      "\n",
      "Rangos para duracion_segundos :\n",
      "Rango Bajo : 24 - 57 \n",
      "Rango Medio : 195 - 323 \n",
      "Rango Alto : 399 - 443 \n",
      "Silhouette Score Promedio: 0.8006478 \n",
      "\n",
      "Rangos para impresiones :\n",
      "Rango Bajo : 235 - 2707 \n",
      "Rango Medio : 3450 - 6190 \n",
      "Rango Alto : 10523 - 11458 \n",
      "Silhouette Score Promedio: 0.7605541 \n",
      "\n",
      "Rangos para vistas :\n",
      "Rango Bajo : 38 - 163 \n",
      "Rango Medio : 212 - 278 \n",
      "Rango Alto : 394 - 597 \n",
      "Silhouette Score Promedio: 0.6596161 \n",
      "\n",
      "Rangos para suscriptores :\n",
      "Rango Bajo : 0 - 1 \n",
      "Rango Medio : 2 - 3 \n",
      "Rango Alto : 4 - 5 \n",
      "Silhouette Score Promedio: 0.6776471 \n"
     ]
    }
   ],
   "source": [
    "# Cargar el dataset limpio desde un archivo CSV\n",
    "df <- read.csv(\"../../datasets/datos_limpios.csv\")\n",
    "\n",
    "# Normalizar una columna\n",
    "normalizar <- function(x) {\n",
    "  return((x - min(x)) / (max(x) - min(x)))\n",
    "}\n",
    "\n",
    "obtener_rangos <- function(data, columna, k = 3) {\n",
    "  set.seed(123) # Reproducibilidad\n",
    "\n",
    "  # Normalizar la columna\n",
    "  columna_norm <- normalizar(data[[columna]])\n",
    "\n",
    "  # Aplicar K-means\n",
    "  kmeans_result <- kmeans(columna_norm, centers = k)\n",
    "\n",
    "  # Calcular el Silhouette Score\n",
    "  sil_score <- silhouette(kmeans_result$cluster, dist(columna_norm))\n",
    "  promedio_silhouette <- mean(sil_score[, 3])\n",
    "\n",
    "  # Ordenar los clusters por la media de los valores originales\n",
    "  orden_clusters <- order(tapply(data[[columna]], kmeans_result$cluster, mean))\n",
    "\n",
    "  # Asignar etiquetas ordenadas: Bajo, Medio, Alto\n",
    "  etiquetas <- c(\"Bajo\", \"Medio\", \"Alto\")\n",
    "\n",
    "  # Mostrar los rangos reales para cada categoría ordenada\n",
    "  for (i in 1:k) {\n",
    "    cluster_index <- orden_clusters[i]\n",
    "    valores_cluster <- data[[columna]][kmeans_result$cluster == cluster_index]\n",
    "    rango_min <- min(valores_cluster)\n",
    "    rango_max <- max(valores_cluster)\n",
    "    cat(\"Rango\", etiquetas[i], \":\", rango_min, \"-\", rango_max, \"\\n\")\n",
    "  }\n",
    "\n",
    "  # Mostrar el Silhouette Score promedio\n",
    "  cat(\"Silhouette Score Promedio:\", promedio_silhouette, \"\\n\")\n",
    "}\n",
    "\n",
    "# Aplicar y mostrar los rangos de cada columna seleccionada\n",
    "columnas <- c(\"duracion_segundos\", \"impresiones\", \"vistas\", \"suscriptores\")\n",
    "\n",
    "for (columna in columnas) {\n",
    "  cat(\"\\nRangos para\", columna, \":\\n\")\n",
    "  obtener_rangos(df, columna)\n",
    "}"
   ]
  },
  {
   "cell_type": "markdown",
   "metadata": {},
   "source": [
    "<div style=\"background-color: #FFFFE0; font-family: 'Times New Roman'; padding: 10px;\">    \n",
    "\n",
    "## discretize_data\n",
    "</div>\n",
    "\n",
    "<div style=\"background-color: #FFFFE0; font-family: 'Times New Roman'; padding: 10px;\">    \n",
    "    <p>\n",
    "        The code below performs the following tasks:\n",
    "    </p>\n",
    "    <ul>\n",
    "        <li>Loads the cleaned dataset from a CSV file named <code>datos_limpios.csv</code>.</li>\n",
    "        <li>Defines a function <code>normalizar</code> to normalize a given column of data.</li>\n",
    "        <li>Defines a function <code>obtener_rangos</code> that applies K-means clustering to a specified column, normalizes the column, and assigns ordered labels (Bajo, Medio, Alto) to the clusters based on the mean values of the original data.</li>\n",
    "        <li>Applies the <code>obtener_rangos</code> function to a list of specified columns (<code>duracion_segundos</code>, <code>impresiones</code>, <code>vistas</code>, <code>suscriptores</code>) and prints the real ranges for each ordered category.</li>\n",
    "    </ul>\n",
    "</div>"
   ]
  },
  {
   "cell_type": "code",
   "execution_count": null,
   "metadata": {
    "vscode": {
     "languageId": "r"
    }
   },
   "outputs": [],
   "source": [
    "library(arules)\n",
    "# create vector of values\n",
    "my_values <- read.csv(\"../../datasets/for_ranges.csv\")\n",
    "\n",
    "# discretize values in vector\n",
    "#discretize(my_values$duracion_promedio_vistas, method = \"interval\")\n",
    "#discretize(my_values$vistas)\n",
    "#discretize(my_values$tiempo_reproduccion_horas, method = \"interval\")\n",
    "#discretize(my_values$suscriptores, method = \"interval\")\n",
    "#discretize(my_values$impresiones, method = \"interval\")\n",
    "#discretize(my_values$ctr, method = \"interval\")"
   ]
  },
  {
   "cell_type": "code",
   "execution_count": null,
   "metadata": {
    "vscode": {
     "languageId": "r"
    }
   },
   "outputs": [],
   "source": []
  }
 ],
 "metadata": {
  "kernelspec": {
   "display_name": "R",
   "language": "R",
   "name": "ir"
  },
  "language_info": {
   "codemirror_mode": "r",
   "file_extension": ".r",
   "mimetype": "text/x-r-source",
   "name": "R",
   "pygments_lexer": "r",
   "version": "4.3.3"
  }
 },
 "nbformat": 4,
 "nbformat_minor": 2
}
