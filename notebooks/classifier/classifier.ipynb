{
 "cells": [
  {
   "cell_type": "code",
   "execution_count": 1,
   "metadata": {},
   "outputs": [],
   "source": [
    "import pandas as pd\n",
    "import numpy as np"
   ]
  },
  {
   "cell_type": "code",
   "execution_count": 2,
   "metadata": {},
   "outputs": [],
   "source": [
    "# Cargar el archivo CSV\n",
    "csv_path = \"../../datasets/transactions.csv\"  # Cambia por la ruta de tu archivo CSV\n",
    "df = pd.read_csv(csv_path)"
   ]
  },
  {
   "cell_type": "code",
   "execution_count": null,
   "metadata": {},
   "outputs": [
    {
     "name": "stdout",
     "output_type": "stream",
     "text": [
      "Clasificación completada. Archivo guardado en: ../../datasets/clasified_transactions.csv\n"
     ]
    }
   ],
   "source": [
    "# Columna(s) a analizar\n",
    "columns_to_analyze = [\n",
    "    \"duracion_segundos\",\n",
    "    \"promedio_tiempo_reproducido\",\n",
    "    \"impresiones\",\n",
    "    \"tasa_de_clicks\",\n",
    "    \"vistas\",\n",
    "]  # Cambia por las columnas que quieres analizar\n",
    "\n",
    "\n",
    "# Función para clasificar valores en bajos, medianos y altos\n",
    "def classify_values(column):\n",
    "    q1 = np.percentile(column, 25)  # Primer cuartil\n",
    "    q3 = np.percentile(column, 75)  # Tercer cuartil\n",
    "\n",
    "    def classify(value):\n",
    "        if value < q1:\n",
    "            return \"Bajo\"\n",
    "        elif value > q3:\n",
    "            return \"Alto\"\n",
    "        else:\n",
    "            return \"Mediano\"\n",
    "\n",
    "    return column.apply(classify)\n",
    "\n",
    "\n",
    "# Aplicar clasificación a las columnas seleccionadas\n",
    "for col in columns_to_analyze:\n",
    "    if col in df.columns:\n",
    "        df[f\"{col}classified\"] = classify_values(df[col])\n",
    "\n",
    "# Guardar el resultado en un nuevo archivo CSV\n",
    "output_path = (\n",
    "    \"../../datasets/clasified_transactions.csv\"  # Cambia por la ruta de salida\n",
    ")  # Cambia por la ruta de salida\n",
    "df.to_csv(output_path, index=False)\n",
    "\n",
    "print(f\"Clasificación completada. Archivo guardado en: {output_path}\")\n"
   ]
  }
 ],
 "metadata": {
  "kernelspec": {
   "display_name": "Python 3",
   "language": "python",
   "name": "python3"
  },
  "language_info": {
   "codemirror_mode": {
    "name": "ipython",
    "version": 3
   },
   "file_extension": ".py",
   "mimetype": "text/x-python",
   "name": "python",
   "nbconvert_exporter": "python",
   "pygments_lexer": "ipython3",
   "version": "3.12.3"
  }
 },
 "nbformat": 4,
 "nbformat_minor": 2
}
