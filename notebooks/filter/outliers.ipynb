{
 "cells": [
  {
   "cell_type": "code",
   "execution_count": 9,
   "metadata": {},
   "outputs": [],
   "source": [
    "import pandas as pd\n",
    "import matplotlib.pyplot as plt\n",
    "import seaborn as sns\n"
   ]
  },
  {
   "cell_type": "code",
   "execution_count": 10,
   "metadata": {},
   "outputs": [],
   "source": [
    "df = pd.read_csv(\"../../datasets/Asociacion.csv\")"
   ]
  },
  {
   "cell_type": "code",
   "execution_count": 11,
   "metadata": {},
   "outputs": [],
   "source": [
    "# Crear el boxplot para una columna específica\n",
    "# plt.figure(figsize=(8, 6))\n",
    "# sns.boxplot(x=df[\"impresiones\"], color=\"lightblue\")\n",
    "# plt.title(\"Boxplot de impresiones\")\n",
    "# plt.xlabel(\"Valores\")\n",
    "# plt.show()\n",
    "\n",
    "#\n",
    "# Calcular los outliers utilizando el método IQR\n",
    "def outliers(columna, to_return=False):\n",
    "    Q1 = df[columna].quantile(0.25)\n",
    "    Q3 = df[columna].quantile(0.75)\n",
    "    IQR = Q3 - Q1\n",
    "    limite_inferior = Q1 - 1.5 * IQR\n",
    "    limite_superior = Q3 + 1.5 * IQR\n",
    "    outliers = df[\n",
    "        (df[columna] < limite_inferior) | (df[columna] > limite_superior)\n",
    "    ]\n",
    "    print(\"Outliers encontrados(%s):\" % columna)\n",
    "    print(outliers[\"video_id\"])\n",
    "    if to_return:\n",
    "        return limite_inferior, limite_superior\n",
    "\n"
   ]
  },
  {
   "cell_type": "code",
   "execution_count": 12,
   "metadata": {},
   "outputs": [
    {
     "name": "stdout",
     "output_type": "stream",
     "text": [
      "Outliers encontrados(impresiones):\n",
      "0    nvWDAXOJRlE\n",
      "1    8EWRh-nRfxg\n",
      "2    G6gSSwpW0XA\n",
      "3    KO-I3woc1zA\n",
      "4    oTU_xrW4AXI\n",
      "Name: video_id, dtype: object\n",
      "\n",
      "\n",
      "Outliers encontrados(vistas):\n",
      "0    nvWDAXOJRlE\n",
      "1    8EWRh-nRfxg\n",
      "2    G6gSSwpW0XA\n",
      "3    KO-I3woc1zA\n",
      "Name: video_id, dtype: object\n",
      "\n",
      "\n",
      "Outliers encontrados(suscriptores):\n",
      "0     nvWDAXOJRlE\n",
      "1     8EWRh-nRfxg\n",
      "2     G6gSSwpW0XA\n",
      "3     KO-I3woc1zA\n",
      "23    CIWCru78WiY\n",
      "Name: video_id, dtype: object\n",
      "\n",
      "\n"
     ]
    }
   ],
   "source": [
    "# Función para eliminar outliers de múltiples columnas\n",
    "def to_filter_outliers(df, columna):\n",
    "   result = outliers(columna, to_return=True)\n",
    "   if result:\n",
    "        limite_inferior, limite_superior = result\n",
    "        return df[(df[columna] >= limite_inferior) & (df[columna] <= limite_superior)]\n",
    "   else:\n",
    "       print(\"No se encontraron outliers en la columna %s\" % columna)\n",
    "\n",
    "\n",
    "# Aplicar la función a las columnas seleccionadas\n",
    "columnas = [\"impresiones\", \"vistas\", \"suscriptores\"]\n",
    "for columna in columnas:\n",
    "    df_filtered = to_filter_outliers(df, columna)\n",
    "    print(\"\\n\")"
   ]
  },
  {
   "cell_type": "code",
   "execution_count": 13,
   "metadata": {},
   "outputs": [],
   "source": [
    "# Guardar el dataset limpio\n",
    "df_filtered.head()\n",
    "df_filtered.to_csv(\"../../datasets/data_without_outliers.csv\", index=False)"
   ]
  }
 ],
 "metadata": {
  "kernelspec": {
   "display_name": "Python 3",
   "language": "python",
   "name": "python3"
  },
  "language_info": {
   "codemirror_mode": {
    "name": "ipython",
    "version": 3
   },
   "file_extension": ".py",
   "mimetype": "text/x-python",
   "name": "python",
   "nbconvert_exporter": "python",
   "pygments_lexer": "ipython3",
   "version": "3.12.3"
  }
 },
 "nbformat": 4,
 "nbformat_minor": 2
}
