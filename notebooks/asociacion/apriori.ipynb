{
 "cells": [
  {
   "cell_type": "code",
   "execution_count": 31,
   "metadata": {
    "vscode": {
     "languageId": "r"
    }
   },
   "outputs": [],
   "source": [
    "#install.packages(\"tidyverse\")"
   ]
  },
  {
   "cell_type": "code",
   "execution_count": 32,
   "metadata": {
    "vscode": {
     "languageId": "r"
    }
   },
   "outputs": [],
   "source": [
    "library(tidyverse)"
   ]
  },
  {
   "cell_type": "code",
   "execution_count": 62,
   "metadata": {
    "vscode": {
     "languageId": "r"
    }
   },
   "outputs": [
    {
     "data": {
      "text/html": [
       "<table class=\"dataframe\">\n",
       "<caption>A data.frame: 21 × 2</caption>\n",
       "<thead>\n",
       "\t<tr><th scope=col>content_id</th><th scope=col>items</th></tr>\n",
       "\t<tr><th scope=col>&lt;int&gt;</th><th scope=col>&lt;chr&gt;</th></tr>\n",
       "</thead>\n",
       "<tbody>\n",
       "\t<tr><td> 1</td><td>duracion_promedio_vistas bajas, Friday, vistas altas, tiempo_reproduccion_horas altas, suscriptores altos, impresiones altas, ctr bajo, Trivia Facts Quiz, General, Blue        </td></tr>\n",
       "\t<tr><td> 2</td><td>duracion_promedio_vistas altas, Thursday, vistas altas, tiempo_reproduccion_horas altas, suscriptores media, impresiones altas, ctr medio, Entertainment Quiz, General, Blue    </td></tr>\n",
       "\t<tr><td> 3</td><td>duracion_promedio_vistas bajas, Friday, vistas altas, tiempo_reproduccion_horas bajas, suscriptores media, impresiones altas, ctr alto, Trivia Facts Quiz, Children, Pink       </td></tr>\n",
       "\t<tr><td> 4</td><td>duracion_promedio_vistas medias, Thursday, vistas altas, tiempo_reproduccion_horas medias, suscriptores media, impresiones altas, ctr medio, Entertainment Quiz, General, Blue  </td></tr>\n",
       "\t<tr><td> 5</td><td>duracion_promedio_vistas altas, Friday, vistas altas, tiempo_reproduccion_horas bajas, suscriptores bajos, impresiones altas, ctr bajo, Would You Rather, General, Yellow       </td></tr>\n",
       "\t<tr><td> 8</td><td>duracion_promedio_vistas medias, Thursday, vistas altas, tiempo_reproduccion_horas bajas, suscriptores bajos, impresiones altas, ctr medio, Holidays, General, Purple           </td></tr>\n",
       "\t<tr><td>15</td><td>duracion_promedio_vistas altas, Wednesday, vistas altas, tiempo_reproduccion_horas bajas, suscriptores bajos, impresiones altas, ctr bajo, Would You Rather, General, Purple    </td></tr>\n",
       "\t<tr><td>16</td><td>duracion_promedio_vistas medias, Thursday, vistas medias, tiempo_reproduccion_horas bajas, suscriptores bajos, impresiones medias, ctr bajo, Would You Rather, Children, Purple </td></tr>\n",
       "\t<tr><td>18</td><td>duracion_promedio_vistas altas, Friday, vistas medias, tiempo_reproduccion_horas bajas, suscriptores bajos, impresiones altas, ctr bajo, Would You Rather, General, White       </td></tr>\n",
       "\t<tr><td>19</td><td>duracion_promedio_vistas medias, Wednesday, vistas medias, tiempo_reproduccion_horas bajas, suscriptores bajos, impresiones medias, ctr medio, Nature Quiz, Children, Gray      </td></tr>\n",
       "\t<tr><td>20</td><td>duracion_promedio_vistas medias, Thursday, vistas medias, tiempo_reproduccion_horas bajas, suscriptores bajos, impresiones bajas, ctr medio, Nature Quiz, Children, Blue        </td></tr>\n",
       "\t<tr><td>21</td><td>duracion_promedio_vistas medias, Thursday, vistas medias, tiempo_reproduccion_horas bajas, suscriptores bajos, impresiones medias, ctr bajo, Trivia Facts Quiz, Children, Purple</td></tr>\n",
       "\t<tr><td>22</td><td>duracion_promedio_vistas bajas, Friday, vistas medias, tiempo_reproduccion_horas bajas, suscriptores bajos, impresiones medias, ctr bajo, Animals Quiz, Children, Blue          </td></tr>\n",
       "\t<tr><td>23</td><td>duracion_promedio_vistas bajas, Wednesday, vistas medias, tiempo_reproduccion_horas bajas, suscriptores bajos, impresiones bajas, ctr medio, Trivia Facts Quiz, Children, Gray  </td></tr>\n",
       "\t<tr><td>24</td><td>duracion_promedio_vistas bajas, Wednesday, vistas bajas, tiempo_reproduccion_horas bajas, suscriptores bajos, impresiones bajas, ctr alto, Animals Quiz, Children, Blue         </td></tr>\n",
       "\t<tr><td>25</td><td>duracion_promedio_vistas bajas, Thursday, vistas bajas, tiempo_reproduccion_horas bajas, suscriptores bajos, impresiones bajas, ctr medio, Trivia Facts Quiz, General, Blue     </td></tr>\n",
       "\t<tr><td>26</td><td>duracion_promedio_vistas bajas, Tuesday, vistas bajas, tiempo_reproduccion_horas bajas, suscriptores bajos, impresiones bajas, ctr alto, Trivia Facts Quiz, Children, Beige     </td></tr>\n",
       "\t<tr><td>27</td><td>duracion_promedio_vistas bajas, Wednesday, vistas bajas, tiempo_reproduccion_horas bajas, suscriptores bajos, impresiones bajas, ctr alto, Trivia Facts Quiz, Children, Blue    </td></tr>\n",
       "\t<tr><td>28</td><td>duracion_promedio_vistas bajas, Thursday, vistas bajas, tiempo_reproduccion_horas bajas, suscriptores bajos, impresiones bajas, ctr bajo, Trivia Facts Quiz, Children, Pink     </td></tr>\n",
       "\t<tr><td>29</td><td>duracion_promedio_vistas medias, Thursday, vistas bajas, tiempo_reproduccion_horas bajas, suscriptores bajos, impresiones medias, ctr bajo, Entertainment Quiz, General, Blue   </td></tr>\n",
       "\t<tr><td>31</td><td>duracion_promedio_vistas medias, Sunday, vistas bajas, tiempo_reproduccion_horas bajas, suscriptores bajos, impresiones bajas, ctr medio, Holidays, General, Indigo             </td></tr>\n",
       "</tbody>\n",
       "</table>\n"
      ],
      "text/latex": [
       "A data.frame: 21 × 2\n",
       "\\begin{tabular}{ll}\n",
       " content\\_id & items\\\\\n",
       " <int> & <chr>\\\\\n",
       "\\hline\n",
       "\t  1 & duracion\\_promedio\\_vistas bajas, Friday, vistas altas, tiempo\\_reproduccion\\_horas altas, suscriptores altos, impresiones altas, ctr bajo, Trivia Facts Quiz, General, Blue        \\\\\n",
       "\t  2 & duracion\\_promedio\\_vistas altas, Thursday, vistas altas, tiempo\\_reproduccion\\_horas altas, suscriptores media, impresiones altas, ctr medio, Entertainment Quiz, General, Blue    \\\\\n",
       "\t  3 & duracion\\_promedio\\_vistas bajas, Friday, vistas altas, tiempo\\_reproduccion\\_horas bajas, suscriptores media, impresiones altas, ctr alto, Trivia Facts Quiz, Children, Pink       \\\\\n",
       "\t  4 & duracion\\_promedio\\_vistas medias, Thursday, vistas altas, tiempo\\_reproduccion\\_horas medias, suscriptores media, impresiones altas, ctr medio, Entertainment Quiz, General, Blue  \\\\\n",
       "\t  5 & duracion\\_promedio\\_vistas altas, Friday, vistas altas, tiempo\\_reproduccion\\_horas bajas, suscriptores bajos, impresiones altas, ctr bajo, Would You Rather, General, Yellow       \\\\\n",
       "\t  8 & duracion\\_promedio\\_vistas medias, Thursday, vistas altas, tiempo\\_reproduccion\\_horas bajas, suscriptores bajos, impresiones altas, ctr medio, Holidays, General, Purple           \\\\\n",
       "\t 15 & duracion\\_promedio\\_vistas altas, Wednesday, vistas altas, tiempo\\_reproduccion\\_horas bajas, suscriptores bajos, impresiones altas, ctr bajo, Would You Rather, General, Purple    \\\\\n",
       "\t 16 & duracion\\_promedio\\_vistas medias, Thursday, vistas medias, tiempo\\_reproduccion\\_horas bajas, suscriptores bajos, impresiones medias, ctr bajo, Would You Rather, Children, Purple \\\\\n",
       "\t 18 & duracion\\_promedio\\_vistas altas, Friday, vistas medias, tiempo\\_reproduccion\\_horas bajas, suscriptores bajos, impresiones altas, ctr bajo, Would You Rather, General, White       \\\\\n",
       "\t 19 & duracion\\_promedio\\_vistas medias, Wednesday, vistas medias, tiempo\\_reproduccion\\_horas bajas, suscriptores bajos, impresiones medias, ctr medio, Nature Quiz, Children, Gray      \\\\\n",
       "\t 20 & duracion\\_promedio\\_vistas medias, Thursday, vistas medias, tiempo\\_reproduccion\\_horas bajas, suscriptores bajos, impresiones bajas, ctr medio, Nature Quiz, Children, Blue        \\\\\n",
       "\t 21 & duracion\\_promedio\\_vistas medias, Thursday, vistas medias, tiempo\\_reproduccion\\_horas bajas, suscriptores bajos, impresiones medias, ctr bajo, Trivia Facts Quiz, Children, Purple\\\\\n",
       "\t 22 & duracion\\_promedio\\_vistas bajas, Friday, vistas medias, tiempo\\_reproduccion\\_horas bajas, suscriptores bajos, impresiones medias, ctr bajo, Animals Quiz, Children, Blue          \\\\\n",
       "\t 23 & duracion\\_promedio\\_vistas bajas, Wednesday, vistas medias, tiempo\\_reproduccion\\_horas bajas, suscriptores bajos, impresiones bajas, ctr medio, Trivia Facts Quiz, Children, Gray  \\\\\n",
       "\t 24 & duracion\\_promedio\\_vistas bajas, Wednesday, vistas bajas, tiempo\\_reproduccion\\_horas bajas, suscriptores bajos, impresiones bajas, ctr alto, Animals Quiz, Children, Blue         \\\\\n",
       "\t 25 & duracion\\_promedio\\_vistas bajas, Thursday, vistas bajas, tiempo\\_reproduccion\\_horas bajas, suscriptores bajos, impresiones bajas, ctr medio, Trivia Facts Quiz, General, Blue     \\\\\n",
       "\t 26 & duracion\\_promedio\\_vistas bajas, Tuesday, vistas bajas, tiempo\\_reproduccion\\_horas bajas, suscriptores bajos, impresiones bajas, ctr alto, Trivia Facts Quiz, Children, Beige     \\\\\n",
       "\t 27 & duracion\\_promedio\\_vistas bajas, Wednesday, vistas bajas, tiempo\\_reproduccion\\_horas bajas, suscriptores bajos, impresiones bajas, ctr alto, Trivia Facts Quiz, Children, Blue    \\\\\n",
       "\t 28 & duracion\\_promedio\\_vistas bajas, Thursday, vistas bajas, tiempo\\_reproduccion\\_horas bajas, suscriptores bajos, impresiones bajas, ctr bajo, Trivia Facts Quiz, Children, Pink     \\\\\n",
       "\t 29 & duracion\\_promedio\\_vistas medias, Thursday, vistas bajas, tiempo\\_reproduccion\\_horas bajas, suscriptores bajos, impresiones medias, ctr bajo, Entertainment Quiz, General, Blue   \\\\\n",
       "\t 31 & duracion\\_promedio\\_vistas medias, Sunday, vistas bajas, tiempo\\_reproduccion\\_horas bajas, suscriptores bajos, impresiones bajas, ctr medio, Holidays, General, Indigo             \\\\\n",
       "\\end{tabular}\n"
      ],
      "text/markdown": [
       "\n",
       "A data.frame: 21 × 2\n",
       "\n",
       "| content_id &lt;int&gt; | items &lt;chr&gt; |\n",
       "|---|---|\n",
       "|  1 | duracion_promedio_vistas bajas, Friday, vistas altas, tiempo_reproduccion_horas altas, suscriptores altos, impresiones altas, ctr bajo, Trivia Facts Quiz, General, Blue         |\n",
       "|  2 | duracion_promedio_vistas altas, Thursday, vistas altas, tiempo_reproduccion_horas altas, suscriptores media, impresiones altas, ctr medio, Entertainment Quiz, General, Blue     |\n",
       "|  3 | duracion_promedio_vistas bajas, Friday, vistas altas, tiempo_reproduccion_horas bajas, suscriptores media, impresiones altas, ctr alto, Trivia Facts Quiz, Children, Pink        |\n",
       "|  4 | duracion_promedio_vistas medias, Thursday, vistas altas, tiempo_reproduccion_horas medias, suscriptores media, impresiones altas, ctr medio, Entertainment Quiz, General, Blue   |\n",
       "|  5 | duracion_promedio_vistas altas, Friday, vistas altas, tiempo_reproduccion_horas bajas, suscriptores bajos, impresiones altas, ctr bajo, Would You Rather, General, Yellow        |\n",
       "|  8 | duracion_promedio_vistas medias, Thursday, vistas altas, tiempo_reproduccion_horas bajas, suscriptores bajos, impresiones altas, ctr medio, Holidays, General, Purple            |\n",
       "| 15 | duracion_promedio_vistas altas, Wednesday, vistas altas, tiempo_reproduccion_horas bajas, suscriptores bajos, impresiones altas, ctr bajo, Would You Rather, General, Purple     |\n",
       "| 16 | duracion_promedio_vistas medias, Thursday, vistas medias, tiempo_reproduccion_horas bajas, suscriptores bajos, impresiones medias, ctr bajo, Would You Rather, Children, Purple  |\n",
       "| 18 | duracion_promedio_vistas altas, Friday, vistas medias, tiempo_reproduccion_horas bajas, suscriptores bajos, impresiones altas, ctr bajo, Would You Rather, General, White        |\n",
       "| 19 | duracion_promedio_vistas medias, Wednesday, vistas medias, tiempo_reproduccion_horas bajas, suscriptores bajos, impresiones medias, ctr medio, Nature Quiz, Children, Gray       |\n",
       "| 20 | duracion_promedio_vistas medias, Thursday, vistas medias, tiempo_reproduccion_horas bajas, suscriptores bajos, impresiones bajas, ctr medio, Nature Quiz, Children, Blue         |\n",
       "| 21 | duracion_promedio_vistas medias, Thursday, vistas medias, tiempo_reproduccion_horas bajas, suscriptores bajos, impresiones medias, ctr bajo, Trivia Facts Quiz, Children, Purple |\n",
       "| 22 | duracion_promedio_vistas bajas, Friday, vistas medias, tiempo_reproduccion_horas bajas, suscriptores bajos, impresiones medias, ctr bajo, Animals Quiz, Children, Blue           |\n",
       "| 23 | duracion_promedio_vistas bajas, Wednesday, vistas medias, tiempo_reproduccion_horas bajas, suscriptores bajos, impresiones bajas, ctr medio, Trivia Facts Quiz, Children, Gray   |\n",
       "| 24 | duracion_promedio_vistas bajas, Wednesday, vistas bajas, tiempo_reproduccion_horas bajas, suscriptores bajos, impresiones bajas, ctr alto, Animals Quiz, Children, Blue          |\n",
       "| 25 | duracion_promedio_vistas bajas, Thursday, vistas bajas, tiempo_reproduccion_horas bajas, suscriptores bajos, impresiones bajas, ctr medio, Trivia Facts Quiz, General, Blue      |\n",
       "| 26 | duracion_promedio_vistas bajas, Tuesday, vistas bajas, tiempo_reproduccion_horas bajas, suscriptores bajos, impresiones bajas, ctr alto, Trivia Facts Quiz, Children, Beige      |\n",
       "| 27 | duracion_promedio_vistas bajas, Wednesday, vistas bajas, tiempo_reproduccion_horas bajas, suscriptores bajos, impresiones bajas, ctr alto, Trivia Facts Quiz, Children, Blue     |\n",
       "| 28 | duracion_promedio_vistas bajas, Thursday, vistas bajas, tiempo_reproduccion_horas bajas, suscriptores bajos, impresiones bajas, ctr bajo, Trivia Facts Quiz, Children, Pink      |\n",
       "| 29 | duracion_promedio_vistas medias, Thursday, vistas bajas, tiempo_reproduccion_horas bajas, suscriptores bajos, impresiones medias, ctr bajo, Entertainment Quiz, General, Blue    |\n",
       "| 31 | duracion_promedio_vistas medias, Sunday, vistas bajas, tiempo_reproduccion_horas bajas, suscriptores bajos, impresiones bajas, ctr medio, Holidays, General, Indigo              |\n",
       "\n"
      ],
      "text/plain": [
       "   content_id\n",
       "1   1        \n",
       "2   2        \n",
       "3   3        \n",
       "4   4        \n",
       "5   5        \n",
       "6   8        \n",
       "7  15        \n",
       "8  16        \n",
       "9  18        \n",
       "10 19        \n",
       "11 20        \n",
       "12 21        \n",
       "13 22        \n",
       "14 23        \n",
       "15 24        \n",
       "16 25        \n",
       "17 26        \n",
       "18 27        \n",
       "19 28        \n",
       "20 29        \n",
       "21 31        \n",
       "   items                                                                                                                                                                           \n",
       "1  duracion_promedio_vistas bajas, Friday, vistas altas, tiempo_reproduccion_horas altas, suscriptores altos, impresiones altas, ctr bajo, Trivia Facts Quiz, General, Blue        \n",
       "2  duracion_promedio_vistas altas, Thursday, vistas altas, tiempo_reproduccion_horas altas, suscriptores media, impresiones altas, ctr medio, Entertainment Quiz, General, Blue    \n",
       "3  duracion_promedio_vistas bajas, Friday, vistas altas, tiempo_reproduccion_horas bajas, suscriptores media, impresiones altas, ctr alto, Trivia Facts Quiz, Children, Pink       \n",
       "4  duracion_promedio_vistas medias, Thursday, vistas altas, tiempo_reproduccion_horas medias, suscriptores media, impresiones altas, ctr medio, Entertainment Quiz, General, Blue  \n",
       "5  duracion_promedio_vistas altas, Friday, vistas altas, tiempo_reproduccion_horas bajas, suscriptores bajos, impresiones altas, ctr bajo, Would You Rather, General, Yellow       \n",
       "6  duracion_promedio_vistas medias, Thursday, vistas altas, tiempo_reproduccion_horas bajas, suscriptores bajos, impresiones altas, ctr medio, Holidays, General, Purple           \n",
       "7  duracion_promedio_vistas altas, Wednesday, vistas altas, tiempo_reproduccion_horas bajas, suscriptores bajos, impresiones altas, ctr bajo, Would You Rather, General, Purple    \n",
       "8  duracion_promedio_vistas medias, Thursday, vistas medias, tiempo_reproduccion_horas bajas, suscriptores bajos, impresiones medias, ctr bajo, Would You Rather, Children, Purple \n",
       "9  duracion_promedio_vistas altas, Friday, vistas medias, tiempo_reproduccion_horas bajas, suscriptores bajos, impresiones altas, ctr bajo, Would You Rather, General, White       \n",
       "10 duracion_promedio_vistas medias, Wednesday, vistas medias, tiempo_reproduccion_horas bajas, suscriptores bajos, impresiones medias, ctr medio, Nature Quiz, Children, Gray      \n",
       "11 duracion_promedio_vistas medias, Thursday, vistas medias, tiempo_reproduccion_horas bajas, suscriptores bajos, impresiones bajas, ctr medio, Nature Quiz, Children, Blue        \n",
       "12 duracion_promedio_vistas medias, Thursday, vistas medias, tiempo_reproduccion_horas bajas, suscriptores bajos, impresiones medias, ctr bajo, Trivia Facts Quiz, Children, Purple\n",
       "13 duracion_promedio_vistas bajas, Friday, vistas medias, tiempo_reproduccion_horas bajas, suscriptores bajos, impresiones medias, ctr bajo, Animals Quiz, Children, Blue          \n",
       "14 duracion_promedio_vistas bajas, Wednesday, vistas medias, tiempo_reproduccion_horas bajas, suscriptores bajos, impresiones bajas, ctr medio, Trivia Facts Quiz, Children, Gray  \n",
       "15 duracion_promedio_vistas bajas, Wednesday, vistas bajas, tiempo_reproduccion_horas bajas, suscriptores bajos, impresiones bajas, ctr alto, Animals Quiz, Children, Blue         \n",
       "16 duracion_promedio_vistas bajas, Thursday, vistas bajas, tiempo_reproduccion_horas bajas, suscriptores bajos, impresiones bajas, ctr medio, Trivia Facts Quiz, General, Blue     \n",
       "17 duracion_promedio_vistas bajas, Tuesday, vistas bajas, tiempo_reproduccion_horas bajas, suscriptores bajos, impresiones bajas, ctr alto, Trivia Facts Quiz, Children, Beige     \n",
       "18 duracion_promedio_vistas bajas, Wednesday, vistas bajas, tiempo_reproduccion_horas bajas, suscriptores bajos, impresiones bajas, ctr alto, Trivia Facts Quiz, Children, Blue    \n",
       "19 duracion_promedio_vistas bajas, Thursday, vistas bajas, tiempo_reproduccion_horas bajas, suscriptores bajos, impresiones bajas, ctr bajo, Trivia Facts Quiz, Children, Pink     \n",
       "20 duracion_promedio_vistas medias, Thursday, vistas bajas, tiempo_reproduccion_horas bajas, suscriptores bajos, impresiones medias, ctr bajo, Entertainment Quiz, General, Blue   \n",
       "21 duracion_promedio_vistas medias, Sunday, vistas bajas, tiempo_reproduccion_horas bajas, suscriptores bajos, impresiones bajas, ctr medio, Holidays, General, Indigo             "
      ]
     },
     "metadata": {},
     "output_type": "display_data"
    }
   ],
   "source": [
    "datos <- read.csv(\"../../datasets/transactions.csv\")\n",
    "datos"
   ]
  },
  {
   "cell_type": "code",
   "execution_count": 72,
   "metadata": {
    "vscode": {
     "languageId": "r"
    }
   },
   "outputs": [],
   "source": [
    "datos$content_id <- NULL\n",
    "colnames(datos) <- c(\"items\")"
   ]
  },
  {
   "cell_type": "code",
   "execution_count": 73,
   "metadata": {
    "vscode": {
     "languageId": "r"
    }
   },
   "outputs": [
    {
     "data": {
      "text/html": [
       "<table class=\"dataframe\">\n",
       "<caption>A data.frame: 6 × 1</caption>\n",
       "<thead>\n",
       "\t<tr><th></th><th scope=col>items</th></tr>\n",
       "\t<tr><th></th><th scope=col>&lt;chr&gt;</th></tr>\n",
       "</thead>\n",
       "<tbody>\n",
       "\t<tr><th scope=row>1</th><td>duracion_promedio_vistas bajas, Friday, vistas altas, tiempo_reproduccion_horas altas, suscriptores altos, impresiones altas, ctr bajo, Trivia Facts Quiz, General, Blue      </td></tr>\n",
       "\t<tr><th scope=row>2</th><td>duracion_promedio_vistas altas, Thursday, vistas altas, tiempo_reproduccion_horas altas, suscriptores media, impresiones altas, ctr medio, Entertainment Quiz, General, Blue  </td></tr>\n",
       "\t<tr><th scope=row>3</th><td>duracion_promedio_vistas bajas, Friday, vistas altas, tiempo_reproduccion_horas bajas, suscriptores media, impresiones altas, ctr alto, Trivia Facts Quiz, Children, Pink     </td></tr>\n",
       "\t<tr><th scope=row>4</th><td>duracion_promedio_vistas medias, Thursday, vistas altas, tiempo_reproduccion_horas medias, suscriptores media, impresiones altas, ctr medio, Entertainment Quiz, General, Blue</td></tr>\n",
       "\t<tr><th scope=row>5</th><td>duracion_promedio_vistas altas, Friday, vistas altas, tiempo_reproduccion_horas bajas, suscriptores bajos, impresiones altas, ctr bajo, Would You Rather, General, Yellow     </td></tr>\n",
       "\t<tr><th scope=row>6</th><td>duracion_promedio_vistas medias, Thursday, vistas altas, tiempo_reproduccion_horas bajas, suscriptores bajos, impresiones altas, ctr medio, Holidays, General, Purple         </td></tr>\n",
       "</tbody>\n",
       "</table>\n"
      ],
      "text/latex": [
       "A data.frame: 6 × 1\n",
       "\\begin{tabular}{r|l}\n",
       "  & items\\\\\n",
       "  & <chr>\\\\\n",
       "\\hline\n",
       "\t1 & duracion\\_promedio\\_vistas bajas, Friday, vistas altas, tiempo\\_reproduccion\\_horas altas, suscriptores altos, impresiones altas, ctr bajo, Trivia Facts Quiz, General, Blue      \\\\\n",
       "\t2 & duracion\\_promedio\\_vistas altas, Thursday, vistas altas, tiempo\\_reproduccion\\_horas altas, suscriptores media, impresiones altas, ctr medio, Entertainment Quiz, General, Blue  \\\\\n",
       "\t3 & duracion\\_promedio\\_vistas bajas, Friday, vistas altas, tiempo\\_reproduccion\\_horas bajas, suscriptores media, impresiones altas, ctr alto, Trivia Facts Quiz, Children, Pink     \\\\\n",
       "\t4 & duracion\\_promedio\\_vistas medias, Thursday, vistas altas, tiempo\\_reproduccion\\_horas medias, suscriptores media, impresiones altas, ctr medio, Entertainment Quiz, General, Blue\\\\\n",
       "\t5 & duracion\\_promedio\\_vistas altas, Friday, vistas altas, tiempo\\_reproduccion\\_horas bajas, suscriptores bajos, impresiones altas, ctr bajo, Would You Rather, General, Yellow     \\\\\n",
       "\t6 & duracion\\_promedio\\_vistas medias, Thursday, vistas altas, tiempo\\_reproduccion\\_horas bajas, suscriptores bajos, impresiones altas, ctr medio, Holidays, General, Purple         \\\\\n",
       "\\end{tabular}\n"
      ],
      "text/markdown": [
       "\n",
       "A data.frame: 6 × 1\n",
       "\n",
       "| <!--/--> | items &lt;chr&gt; |\n",
       "|---|---|\n",
       "| 1 | duracion_promedio_vistas bajas, Friday, vistas altas, tiempo_reproduccion_horas altas, suscriptores altos, impresiones altas, ctr bajo, Trivia Facts Quiz, General, Blue       |\n",
       "| 2 | duracion_promedio_vistas altas, Thursday, vistas altas, tiempo_reproduccion_horas altas, suscriptores media, impresiones altas, ctr medio, Entertainment Quiz, General, Blue   |\n",
       "| 3 | duracion_promedio_vistas bajas, Friday, vistas altas, tiempo_reproduccion_horas bajas, suscriptores media, impresiones altas, ctr alto, Trivia Facts Quiz, Children, Pink      |\n",
       "| 4 | duracion_promedio_vistas medias, Thursday, vistas altas, tiempo_reproduccion_horas medias, suscriptores media, impresiones altas, ctr medio, Entertainment Quiz, General, Blue |\n",
       "| 5 | duracion_promedio_vistas altas, Friday, vistas altas, tiempo_reproduccion_horas bajas, suscriptores bajos, impresiones altas, ctr bajo, Would You Rather, General, Yellow      |\n",
       "| 6 | duracion_promedio_vistas medias, Thursday, vistas altas, tiempo_reproduccion_horas bajas, suscriptores bajos, impresiones altas, ctr medio, Holidays, General, Purple          |\n",
       "\n"
      ],
      "text/plain": [
       "  items                                                                                                                                                                         \n",
       "1 duracion_promedio_vistas bajas, Friday, vistas altas, tiempo_reproduccion_horas altas, suscriptores altos, impresiones altas, ctr bajo, Trivia Facts Quiz, General, Blue      \n",
       "2 duracion_promedio_vistas altas, Thursday, vistas altas, tiempo_reproduccion_horas altas, suscriptores media, impresiones altas, ctr medio, Entertainment Quiz, General, Blue  \n",
       "3 duracion_promedio_vistas bajas, Friday, vistas altas, tiempo_reproduccion_horas bajas, suscriptores media, impresiones altas, ctr alto, Trivia Facts Quiz, Children, Pink     \n",
       "4 duracion_promedio_vistas medias, Thursday, vistas altas, tiempo_reproduccion_horas medias, suscriptores media, impresiones altas, ctr medio, Entertainment Quiz, General, Blue\n",
       "5 duracion_promedio_vistas altas, Friday, vistas altas, tiempo_reproduccion_horas bajas, suscriptores bajos, impresiones altas, ctr bajo, Would You Rather, General, Yellow     \n",
       "6 duracion_promedio_vistas medias, Thursday, vistas altas, tiempo_reproduccion_horas bajas, suscriptores bajos, impresiones altas, ctr medio, Holidays, General, Purple         "
      ]
     },
     "metadata": {},
     "output_type": "display_data"
    }
   ],
   "source": [
    "write.csv(datos, \"../../datasets/transactions.csv\", quote = FALSE, row.names = TRUE)\n",
    "head(datos)"
   ]
  },
  {
   "cell_type": "code",
   "execution_count": 76,
   "metadata": {
    "vscode": {
     "languageId": "r"
    }
   },
   "outputs": [
    {
     "data": {
      "text/plain": [
       "transactions in sparse format with\n",
       " 22 transactions (rows) and\n",
       " 39 items (columns)"
      ]
     },
     "metadata": {},
     "output_type": "display_data"
    }
   ],
   "source": [
    "# IMPORTACIÓN DIRECTA DE LOS DATOS A UN OBJETO TIPO TRANSACTION\n",
    "# ==============================================================================\n",
    "library(arules)\n",
    "transacciones <- read.transactions(\n",
    "    file = \"../../datasets/transactions.csv\",\n",
    "    format = \"basket\",\n",
    "    sep = \",\",\n",
    "    cols = 1,\n",
    "    rm.duplicates = TRUE\n",
    ")\n",
    "transacciones\n",
    "\n"
   ]
  },
  {
   "cell_type": "code",
   "execution_count": 77,
   "metadata": {
    "vscode": {
     "languageId": "r"
    }
   },
   "outputs": [
    {
     "name": "stdout",
     "output_type": "stream",
     "text": [
      "     items                               transactionID\n",
      "[1]  {}                                          items\n",
      "[2]  {Blue,                                           \n",
      "      ctr bajo,                                       \n",
      "      duracion_promedio_vistas bajas,                 \n",
      "      Friday,                                         \n",
      "      General,                                        \n",
      "      impresiones altas,                              \n",
      "      suscriptores altos,                             \n",
      "      tiempo_reproduccion_horas altas,                \n",
      "      Trivia Facts Quiz,                              \n",
      "      vistas altas}                              1    \n",
      "[3]  {Blue,                                           \n",
      "      ctr medio,                                      \n",
      "      duracion_promedio_vistas altas,                 \n",
      "      Entertainment Quiz,                             \n",
      "      General,                                        \n",
      "      impresiones altas,                              \n",
      "      suscriptores media,                             \n",
      "      Thursday,                                       \n",
      "      tiempo_reproduccion_horas altas,                \n",
      "      vistas altas}                              2    \n",
      "[4]  {Children,                                       \n",
      "      ctr alto,                                       \n",
      "      duracion_promedio_vistas bajas,                 \n",
      "      Friday,                                         \n",
      "      impresiones altas,                              \n",
      "      Pink,                                           \n",
      "      suscriptores media,                             \n",
      "      tiempo_reproduccion_horas bajas,                \n",
      "      Trivia Facts Quiz,                              \n",
      "      vistas altas}                              3    \n",
      "[5]  {Blue,                                           \n",
      "      ctr medio,                                      \n",
      "      duracion_promedio_vistas medias,                \n",
      "      Entertainment Quiz,                             \n",
      "      General,                                        \n",
      "      impresiones altas,                              \n",
      "      suscriptores media,                             \n",
      "      Thursday,                                       \n",
      "      tiempo_reproduccion_horas medias,               \n",
      "      vistas altas}                              4    \n",
      "[6]  {ctr bajo,                                       \n",
      "      duracion_promedio_vistas altas,                 \n",
      "      Friday,                                         \n",
      "      General,                                        \n",
      "      impresiones altas,                              \n",
      "      suscriptores bajos,                             \n",
      "      tiempo_reproduccion_horas bajas,                \n",
      "      vistas altas,                                   \n",
      "      Would You Rather,                               \n",
      "      Yellow}                                    5    \n",
      "[7]  {ctr medio,                                      \n",
      "      duracion_promedio_vistas medias,                \n",
      "      General,                                        \n",
      "      Holidays,                                       \n",
      "      impresiones altas,                              \n",
      "      Purple,                                         \n",
      "      suscriptores bajos,                             \n",
      "      Thursday,                                       \n",
      "      tiempo_reproduccion_horas bajas,                \n",
      "      vistas altas}                              6    \n",
      "[8]  {ctr bajo,                                       \n",
      "      duracion_promedio_vistas altas,                 \n",
      "      General,                                        \n",
      "      impresiones altas,                              \n",
      "      Purple,                                         \n",
      "      suscriptores bajos,                             \n",
      "      tiempo_reproduccion_horas bajas,                \n",
      "      vistas altas,                                   \n",
      "      Wednesday,                                      \n",
      "      Would You Rather}                          7    \n",
      "[9]  {Children,                                       \n",
      "      ctr bajo,                                       \n",
      "      duracion_promedio_vistas medias,                \n",
      "      impresiones medias,                             \n",
      "      Purple,                                         \n",
      "      suscriptores bajos,                             \n",
      "      Thursday,                                       \n",
      "      tiempo_reproduccion_horas bajas,                \n",
      "      vistas medias,                                  \n",
      "      Would You Rather}                          8    \n",
      "[10] {ctr bajo,                                       \n",
      "      duracion_promedio_vistas altas,                 \n",
      "      Friday,                                         \n",
      "      General,                                        \n",
      "      impresiones altas,                              \n",
      "      suscriptores bajos,                             \n",
      "      tiempo_reproduccion_horas bajas,                \n",
      "      vistas medias,                                  \n",
      "      White,                                          \n",
      "      Would You Rather}                          9    \n",
      "[11] {Children,                                       \n",
      "      ctr medio,                                      \n",
      "      duracion_promedio_vistas medias,                \n",
      "      Gray,                                           \n",
      "      impresiones medias,                             \n",
      "      Nature Quiz,                                    \n",
      "      suscriptores bajos,                             \n",
      "      tiempo_reproduccion_horas bajas,                \n",
      "      vistas medias,                                  \n",
      "      Wednesday}                                 10   \n",
      "[12] {Blue,                                           \n",
      "      Children,                                       \n",
      "      ctr medio,                                      \n",
      "      duracion_promedio_vistas medias,                \n",
      "      impresiones bajas,                              \n",
      "      Nature Quiz,                                    \n",
      "      suscriptores bajos,                             \n",
      "      Thursday,                                       \n",
      "      tiempo_reproduccion_horas bajas,                \n",
      "      vistas medias}                             11   \n",
      "[13] {Children,                                       \n",
      "      ctr bajo,                                       \n",
      "      duracion_promedio_vistas medias,                \n",
      "      impresiones medias,                             \n",
      "      Purple,                                         \n",
      "      suscriptores bajos,                             \n",
      "      Thursday,                                       \n",
      "      tiempo_reproduccion_horas bajas,                \n",
      "      Trivia Facts Quiz,                              \n",
      "      vistas medias}                             12   \n",
      "[14] {Animals Quiz,                                   \n",
      "      Blue,                                           \n",
      "      Children,                                       \n",
      "      ctr bajo,                                       \n",
      "      duracion_promedio_vistas bajas,                 \n",
      "      Friday,                                         \n",
      "      impresiones medias,                             \n",
      "      suscriptores bajos,                             \n",
      "      tiempo_reproduccion_horas bajas,                \n",
      "      vistas medias}                             13   \n",
      "[15] {Children,                                       \n",
      "      ctr medio,                                      \n",
      "      duracion_promedio_vistas bajas,                 \n",
      "      Gray,                                           \n",
      "      impresiones bajas,                              \n",
      "      suscriptores bajos,                             \n",
      "      tiempo_reproduccion_horas bajas,                \n",
      "      Trivia Facts Quiz,                              \n",
      "      vistas medias,                                  \n",
      "      Wednesday}                                 14   \n",
      "[16] {Animals Quiz,                                   \n",
      "      Blue,                                           \n",
      "      Children,                                       \n",
      "      ctr alto,                                       \n",
      "      duracion_promedio_vistas bajas,                 \n",
      "      impresiones bajas,                              \n",
      "      suscriptores bajos,                             \n",
      "      tiempo_reproduccion_horas bajas,                \n",
      "      vistas bajas,                                   \n",
      "      Wednesday}                                 15   \n",
      "[17] {Blue,                                           \n",
      "      ctr medio,                                      \n",
      "      duracion_promedio_vistas bajas,                 \n",
      "      General,                                        \n",
      "      impresiones bajas,                              \n",
      "      suscriptores bajos,                             \n",
      "      Thursday,                                       \n",
      "      tiempo_reproduccion_horas bajas,                \n",
      "      Trivia Facts Quiz,                              \n",
      "      vistas bajas}                              16   \n",
      "[18] {Beige,                                          \n",
      "      Children,                                       \n",
      "      ctr alto,                                       \n",
      "      duracion_promedio_vistas bajas,                 \n",
      "      impresiones bajas,                              \n",
      "      suscriptores bajos,                             \n",
      "      tiempo_reproduccion_horas bajas,                \n",
      "      Trivia Facts Quiz,                              \n",
      "      Tuesday,                                        \n",
      "      vistas bajas}                              17   \n",
      "[19] {Blue,                                           \n",
      "      Children,                                       \n",
      "      ctr alto,                                       \n",
      "      duracion_promedio_vistas bajas,                 \n",
      "      impresiones bajas,                              \n",
      "      suscriptores bajos,                             \n",
      "      tiempo_reproduccion_horas bajas,                \n",
      "      Trivia Facts Quiz,                              \n",
      "      vistas bajas,                                   \n",
      "      Wednesday}                                 18   \n",
      "[20] {Children,                                       \n",
      "      ctr bajo,                                       \n",
      "      duracion_promedio_vistas bajas,                 \n",
      "      impresiones bajas,                              \n",
      "      Pink,                                           \n",
      "      suscriptores bajos,                             \n",
      "      Thursday,                                       \n",
      "      tiempo_reproduccion_horas bajas,                \n",
      "      Trivia Facts Quiz,                              \n",
      "      vistas bajas}                              19   \n",
      "[21] {Blue,                                           \n",
      "      ctr bajo,                                       \n",
      "      duracion_promedio_vistas medias,                \n",
      "      Entertainment Quiz,                             \n",
      "      General,                                        \n",
      "      impresiones medias,                             \n",
      "      suscriptores bajos,                             \n",
      "      Thursday,                                       \n",
      "      tiempo_reproduccion_horas bajas,                \n",
      "      vistas bajas}                              20   \n"
     ]
    }
   ],
   "source": [
    "inspect(transacciones[1:21])"
   ]
  },
  {
   "cell_type": "code",
   "execution_count": 78,
   "metadata": {
    "vscode": {
     "languageId": "r"
    }
   },
   "outputs": [
    {
     "data": {
      "text/html": [
       "<table class=\"dataframe\">\n",
       "<caption>A tibble: 6 × 2</caption>\n",
       "<thead>\n",
       "\t<tr><th scope=col>items</th><th scope=col>transactionID</th></tr>\n",
       "\t<tr><th scope=col>&lt;chr&gt;</th><th scope=col>&lt;chr&gt;</th></tr>\n",
       "</thead>\n",
       "<tbody>\n",
       "\t<tr><td>{}                                                                                                                                                                     </td><td>items</td></tr>\n",
       "\t<tr><td>{Blue,ctr bajo,duracion_promedio_vistas bajas,Friday,General,impresiones altas,suscriptores altos,tiempo_reproduccion_horas altas,Trivia Facts Quiz,vistas altas}      </td><td>1    </td></tr>\n",
       "\t<tr><td>{Blue,ctr medio,duracion_promedio_vistas altas,Entertainment Quiz,General,impresiones altas,suscriptores media,Thursday,tiempo_reproduccion_horas altas,vistas altas}  </td><td>2    </td></tr>\n",
       "\t<tr><td>{Children,ctr alto,duracion_promedio_vistas bajas,Friday,impresiones altas,Pink,suscriptores media,tiempo_reproduccion_horas bajas,Trivia Facts Quiz,vistas altas}     </td><td>3    </td></tr>\n",
       "\t<tr><td>{Blue,ctr medio,duracion_promedio_vistas medias,Entertainment Quiz,General,impresiones altas,suscriptores media,Thursday,tiempo_reproduccion_horas medias,vistas altas}</td><td>4    </td></tr>\n",
       "\t<tr><td>{ctr bajo,duracion_promedio_vistas altas,Friday,General,impresiones altas,suscriptores bajos,tiempo_reproduccion_horas bajas,vistas altas,Would You Rather,Yellow}     </td><td>5    </td></tr>\n",
       "</tbody>\n",
       "</table>\n"
      ],
      "text/latex": [
       "A tibble: 6 × 2\n",
       "\\begin{tabular}{ll}\n",
       " items & transactionID\\\\\n",
       " <chr> & <chr>\\\\\n",
       "\\hline\n",
       "\t \\{\\}                                                                                                                                                                      & items\\\\\n",
       "\t \\{Blue,ctr bajo,duracion\\_promedio\\_vistas bajas,Friday,General,impresiones altas,suscriptores altos,tiempo\\_reproduccion\\_horas altas,Trivia Facts Quiz,vistas altas\\}       & 1    \\\\\n",
       "\t \\{Blue,ctr medio,duracion\\_promedio\\_vistas altas,Entertainment Quiz,General,impresiones altas,suscriptores media,Thursday,tiempo\\_reproduccion\\_horas altas,vistas altas\\}   & 2    \\\\\n",
       "\t \\{Children,ctr alto,duracion\\_promedio\\_vistas bajas,Friday,impresiones altas,Pink,suscriptores media,tiempo\\_reproduccion\\_horas bajas,Trivia Facts Quiz,vistas altas\\}      & 3    \\\\\n",
       "\t \\{Blue,ctr medio,duracion\\_promedio\\_vistas medias,Entertainment Quiz,General,impresiones altas,suscriptores media,Thursday,tiempo\\_reproduccion\\_horas medias,vistas altas\\} & 4    \\\\\n",
       "\t \\{ctr bajo,duracion\\_promedio\\_vistas altas,Friday,General,impresiones altas,suscriptores bajos,tiempo\\_reproduccion\\_horas bajas,vistas altas,Would You Rather,Yellow\\}      & 5    \\\\\n",
       "\\end{tabular}\n"
      ],
      "text/markdown": [
       "\n",
       "A tibble: 6 × 2\n",
       "\n",
       "| items &lt;chr&gt; | transactionID &lt;chr&gt; |\n",
       "|---|---|\n",
       "| {}                                                                                                                                                                      | items |\n",
       "| {Blue,ctr bajo,duracion_promedio_vistas bajas,Friday,General,impresiones altas,suscriptores altos,tiempo_reproduccion_horas altas,Trivia Facts Quiz,vistas altas}       | 1     |\n",
       "| {Blue,ctr medio,duracion_promedio_vistas altas,Entertainment Quiz,General,impresiones altas,suscriptores media,Thursday,tiempo_reproduccion_horas altas,vistas altas}   | 2     |\n",
       "| {Children,ctr alto,duracion_promedio_vistas bajas,Friday,impresiones altas,Pink,suscriptores media,tiempo_reproduccion_horas bajas,Trivia Facts Quiz,vistas altas}      | 3     |\n",
       "| {Blue,ctr medio,duracion_promedio_vistas medias,Entertainment Quiz,General,impresiones altas,suscriptores media,Thursday,tiempo_reproduccion_horas medias,vistas altas} | 4     |\n",
       "| {ctr bajo,duracion_promedio_vistas altas,Friday,General,impresiones altas,suscriptores bajos,tiempo_reproduccion_horas bajas,vistas altas,Would You Rather,Yellow}      | 5     |\n",
       "\n"
      ],
      "text/plain": [
       "  items                                                                                                                                                                  \n",
       "1 {}                                                                                                                                                                     \n",
       "2 {Blue,ctr bajo,duracion_promedio_vistas bajas,Friday,General,impresiones altas,suscriptores altos,tiempo_reproduccion_horas altas,Trivia Facts Quiz,vistas altas}      \n",
       "3 {Blue,ctr medio,duracion_promedio_vistas altas,Entertainment Quiz,General,impresiones altas,suscriptores media,Thursday,tiempo_reproduccion_horas altas,vistas altas}  \n",
       "4 {Children,ctr alto,duracion_promedio_vistas bajas,Friday,impresiones altas,Pink,suscriptores media,tiempo_reproduccion_horas bajas,Trivia Facts Quiz,vistas altas}     \n",
       "5 {Blue,ctr medio,duracion_promedio_vistas medias,Entertainment Quiz,General,impresiones altas,suscriptores media,Thursday,tiempo_reproduccion_horas medias,vistas altas}\n",
       "6 {ctr bajo,duracion_promedio_vistas altas,Friday,General,impresiones altas,suscriptores bajos,tiempo_reproduccion_horas bajas,vistas altas,Would You Rather,Yellow}     \n",
       "  transactionID\n",
       "1 items        \n",
       "2 1            \n",
       "3 2            \n",
       "4 3            \n",
       "5 4            \n",
       "6 5            "
      ]
     },
     "metadata": {},
     "output_type": "display_data"
    }
   ],
   "source": [
    "df_transacciones <- as(transacciones, Class = \"data.frame\")\n",
    "# Para que el tamaño de la tabla se ajuste mejor, se convierte el dataframe a tibble\n",
    "as.tibble(df_transacciones) %>% head()"
   ]
  },
  {
   "cell_type": "markdown",
   "metadata": {},
   "source": [
    "<div style=\"background-color: #FFFFE0; font-family: 'Times New Roman'; padding: 10px;\">\n",
    "\n",
    "## Para extraer el tamaño de cada transacción se emplea la función size().\n",
    "</div>\n",
    "<div style=\"background-color: #FFFFE0; font-family: 'Times New Roman'; padding: 10px;\">\n",
    "    <p>\n",
    "        La función size() se utiliza para extraer el tamaño de cada transacción en el conjunto de datos.\n",
    "    </p>\n",
    "</div>"
   ]
  },
  {
   "cell_type": "code",
   "execution_count": 79,
   "metadata": {
    "vscode": {
     "languageId": "r"
    }
   },
   "outputs": [
    {
     "data": {
      "text/plain": [
       "   Min. 1st Qu.  Median    Mean 3rd Qu.    Max. \n",
       "  0.000  10.000  10.000   9.545  10.000  10.000 "
      ]
     },
     "metadata": {},
     "output_type": "display_data"
    }
   ],
   "source": [
    "tamanyos <- size(transacciones)\n",
    "summary(tamanyos)"
   ]
  },
  {
   "cell_type": "code",
   "execution_count": 82,
   "metadata": {
    "vscode": {
     "languageId": "r"
    }
   },
   "outputs": [
    {
     "data": {
      "text/html": [
       "<style>\n",
       ".dl-inline {width: auto; margin:0; padding: 0}\n",
       ".dl-inline>dt, .dl-inline>dd {float: none; width: auto; display: inline-block}\n",
       ".dl-inline>dt::after {content: \":\\0020\"; padding-right: .5ex}\n",
       ".dl-inline>dt:not(:first-of-type) {padding-left: .5ex}\n",
       "</style><dl class=dl-inline><dt>0%</dt><dd>0</dd><dt>10%</dt><dd>10</dd><dt>20%</dt><dd>10</dd><dt>30%</dt><dd>10</dd><dt>40%</dt><dd>10</dd><dt>50%</dt><dd>10</dd><dt>60%</dt><dd>10</dd><dt>70%</dt><dd>10</dd><dt>80%</dt><dd>10</dd><dt>90%</dt><dd>10</dd><dt>100%</dt><dd>10</dd></dl>\n"
      ],
      "text/latex": [
       "\\begin{description*}\n",
       "\\item[0\\textbackslash{}\\%] 0\n",
       "\\item[10\\textbackslash{}\\%] 10\n",
       "\\item[20\\textbackslash{}\\%] 10\n",
       "\\item[30\\textbackslash{}\\%] 10\n",
       "\\item[40\\textbackslash{}\\%] 10\n",
       "\\item[50\\textbackslash{}\\%] 10\n",
       "\\item[60\\textbackslash{}\\%] 10\n",
       "\\item[70\\textbackslash{}\\%] 10\n",
       "\\item[80\\textbackslash{}\\%] 10\n",
       "\\item[90\\textbackslash{}\\%] 10\n",
       "\\item[100\\textbackslash{}\\%] 10\n",
       "\\end{description*}\n"
      ],
      "text/markdown": [
       "0%\n",
       ":   010%\n",
       ":   1020%\n",
       ":   1030%\n",
       ":   1040%\n",
       ":   1050%\n",
       ":   1060%\n",
       ":   1070%\n",
       ":   1080%\n",
       ":   1090%\n",
       ":   10100%\n",
       ":   10\n",
       "\n"
      ],
      "text/plain": [
       "  0%  10%  20%  30%  40%  50%  60%  70%  80%  90% 100% \n",
       "   0   10   10   10   10   10   10   10   10   10   10 "
      ]
     },
     "metadata": {},
     "output_type": "display_data"
    }
   ],
   "source": [
    "quantile(tamanyos, probs = seq(0, 1, 0.1))"
   ]
  },
  {
   "cell_type": "code",
   "execution_count": 83,
   "metadata": {
    "vscode": {
     "languageId": "r"
    }
   },
   "outputs": [
    {
     "name": "stderr",
     "output_type": "stream",
     "text": [
      "\u001b[1m\u001b[22m`stat_bin()` using `bins = 30`. Pick better value with `binwidth`.\n"
     ]
    },
    {
     "data": {
      "image/png": "[encoded data removed]",
      "text/plain": [
       "plot without title"
      ]
     },
     "metadata": {
      "image/png": {
       "height": 420,
       "width": 420
      }
     },
     "output_type": "display_data"
    }
   ],
   "source": [
    "data.frame(tamanyos) %>%\n",
    "    ggplot(aes(x = tamanyos)) +\n",
    "    geom_histogram() +\n",
    "    labs(\n",
    "        title = \"Distribución del tamaño de las transacciones\",\n",
    "        x = \"Tamaño\"\n",
    "    ) +\n",
    "    theme_bw()"
   ]
  },
  {
   "cell_type": "code",
   "execution_count": 81,
   "metadata": {
    "vscode": {
     "languageId": "r"
    }
   },
   "outputs": [
    {
     "data": {
      "text/html": [
       "<style>\n",
       ".dl-inline {width: auto; margin:0; padding: 0}\n",
       ".dl-inline>dt, .dl-inline>dd {float: none; width: auto; display: inline-block}\n",
       ".dl-inline>dt::after {content: \":\\0020\"; padding-right: .5ex}\n",
       ".dl-inline>dt:not(:first-of-type) {padding-left: .5ex}\n",
       "</style><dl class=dl-inline><dt>tiempo_reproduccion_horas bajas</dt><dd>0.818181818181818</dd><dt>suscriptores bajos</dt><dd>0.772727272727273</dd><dt>Children</dt><dd>0.5</dd><dt>General</dt><dd>0.454545454545455</dd><dt>Blue</dt><dd>0.409090909090909</dd></dl>\n"
      ],
      "text/latex": [
       "\\begin{description*}\n",
       "\\item[tiempo\\textbackslash{}\\_reproduccion\\textbackslash{}\\_horas bajas] 0.818181818181818\n",
       "\\item[suscriptores bajos] 0.772727272727273\n",
       "\\item[Children] 0.5\n",
       "\\item[General] 0.454545454545455\n",
       "\\item[Blue] 0.409090909090909\n",
       "\\end{description*}\n"
      ],
      "text/markdown": [
       "tiempo_reproduccion_horas bajas\n",
       ":   0.818181818181818suscriptores bajos\n",
       ":   0.772727272727273Children\n",
       ":   0.5General\n",
       ":   0.454545454545455Blue\n",
       ":   0.409090909090909\n",
       "\n"
      ],
      "text/plain": [
       "tiempo_reproduccion_horas bajas              suscriptores bajos \n",
       "                      0.8181818                       0.7727273 \n",
       "                       Children                         General \n",
       "                      0.5000000                       0.4545455 \n",
       "                           Blue \n",
       "                      0.4090909 "
      ]
     },
     "metadata": {},
     "output_type": "display_data"
    }
   ],
   "source": [
    "frecuencia_items <- itemFrequency(x = transacciones, type = \"relative\")\n",
    "frecuencia_items %>%\n",
    "    sort(decreasing = TRUE) %>%\n",
    "    head(5)"
   ]
  },
  {
   "cell_type": "code",
   "execution_count": 84,
   "metadata": {
    "vscode": {
     "languageId": "r"
    }
   },
   "outputs": [
    {
     "name": "stdout",
     "output_type": "stream",
     "text": [
      "Apriori\n",
      "\n",
      "Parameter specification:\n",
      " confidence minval smax arem  aval originalSupport maxtime    support minlen\n",
      "         NA    0.1    1 none FALSE            TRUE       5 0.09090909      1\n",
      " maxlen            target  ext\n",
      "     20 frequent itemsets TRUE\n",
      "\n",
      "Algorithmic control:\n",
      " filter tree heap memopt load sort verbose\n",
      "    0.1 TRUE TRUE  FALSE TRUE    2    TRUE\n",
      "\n",
      "Absolute minimum support count: 2 \n",
      "\n",
      "set item appearances ...[0 item(s)] done [0.00s].\n",
      "set transactions ...[39 item(s), 22 transaction(s)] done [0.00s].\n",
      "sorting and recoding items ... [31 item(s)] done [0.00s].\n",
      "creating transaction tree ... done [0.00s].\n",
      "checking subsets of size 1 2 3 4 5 6 7 8 9 done [0.00s].\n",
      "sorting transactions ... done [0.00s].\n",
      "writing ... [2562 set(s)] done [0.00s].\n",
      "creating S4 object  ... done [0.00s].\n"
     ]
    }
   ],
   "source": [
    "soporte <- 2 / dim(transacciones)[1]\n",
    "itemsets <- apriori(\n",
    "    data = transacciones,\n",
    "    parameter = list(\n",
    "        support = soporte,\n",
    "        minlen = 1,\n",
    "        maxlen = 20,\n",
    "        target = \"frequent itemset\"\n",
    "    )\n",
    ")"
   ]
  },
  {
   "cell_type": "code",
   "execution_count": 85,
   "metadata": {
    "vscode": {
     "languageId": "r"
    }
   },
   "outputs": [
    {
     "data": {
      "text/plain": [
       "set of 2562 itemsets\n",
       "\n",
       "most frequent items:\n",
       "tiempo_reproduccion_horas bajas              suscriptores bajos \n",
       "                           1117                            1104 \n",
       "                       Children                        Thursday \n",
       "                            752                             536 \n",
       "                           Blue                         (Other) \n",
       "                            523                            6749 \n",
       "\n",
       "element (itemset/transaction) length distribution:sizes\n",
       "  1   2   3   4   5   6   7   8   9 \n",
       " 31 215 559 736 584 306 107  22   2 \n",
       "\n",
       "   Min. 1st Qu.  Median    Mean 3rd Qu.    Max. \n",
       "  1.000   3.000   4.000   4.208   5.000   9.000 \n",
       "\n",
       "summary of quality measures:\n",
       "    support            count       \n",
       " Min.   :0.09091   Min.   : 2.000  \n",
       " 1st Qu.:0.09091   1st Qu.: 2.000  \n",
       " Median :0.09091   Median : 2.000  \n",
       " Mean   :0.11475   Mean   : 2.525  \n",
       " 3rd Qu.:0.13636   3rd Qu.: 3.000  \n",
       " Max.   :0.81818   Max.   :18.000  \n",
       "\n",
       "includes transaction ID lists: FALSE \n",
       "\n",
       "mining info:\n",
       "          data ntransactions    support confidence\n",
       " transacciones            22 0.09090909          1\n",
       "                                                                                                                     call\n",
       " apriori(data = transacciones, parameter = list(support = soporte, minlen = 1, maxlen = 20, target = \"frequent itemset\"))"
      ]
     },
     "metadata": {},
     "output_type": "display_data"
    }
   ],
   "source": [
    "summary(itemsets)"
   ]
  },
  {
   "cell_type": "code",
   "execution_count": 86,
   "metadata": {
    "vscode": {
     "languageId": "r"
    }
   },
   "outputs": [
    {
     "name": "stdout",
     "output_type": "stream",
     "text": [
      "     items                               support count\n",
      "[1]  {tiempo_reproduccion_horas bajas} 0.8181818    18\n",
      "[2]  {suscriptores bajos}              0.7727273    17\n",
      "[3]  {suscriptores bajos,                             \n",
      "      tiempo_reproduccion_horas bajas} 0.7727273    17\n",
      "[4]  {Children}                        0.5000000    11\n",
      "[5]  {Children,                                       \n",
      "      tiempo_reproduccion_horas bajas} 0.5000000    11\n",
      "[6]  {General}                         0.4545455    10\n",
      "[7]  {Children,                                       \n",
      "      suscriptores bajos}              0.4545455    10\n",
      "[8]  {Children,                                       \n",
      "      suscriptores bajos,                             \n",
      "      tiempo_reproduccion_horas bajas} 0.4545455    10\n",
      "[9]  {Blue}                            0.4090909     9\n",
      "[10] {Thursday}                        0.4090909     9\n",
      "[11] {duracion_promedio_vistas bajas}  0.4090909     9\n",
      "[12] {ctr bajo}                        0.4090909     9\n",
      "[13] {Trivia Facts Quiz}               0.3636364     8\n",
      "[14] {duracion_promedio_vistas medias} 0.3636364     8\n",
      "[15] {impresiones bajas}               0.3636364     8\n",
      "[16] {impresiones altas}               0.3636364     8\n",
      "[17] {ctr medio}                       0.3636364     8\n",
      "[18] {impresiones bajas,                              \n",
      "      suscriptores bajos}              0.3636364     8\n",
      "[19] {impresiones bajas,                              \n",
      "      tiempo_reproduccion_horas bajas} 0.3636364     8\n",
      "[20] {duracion_promedio_vistas bajas,                 \n",
      "      tiempo_reproduccion_horas bajas} 0.3636364     8\n"
     ]
    }
   ],
   "source": [
    "# Se muestran los top 20 itemsets de mayor a menor soporte\n",
    "top_20_itemsets <- sort(itemsets, by = \"support\", decreasing = TRUE)[1:20]\n",
    "inspect(top_20_itemsets)"
   ]
  },
  {
   "cell_type": "code",
   "execution_count": 87,
   "metadata": {
    "vscode": {
     "languageId": "r"
    }
   },
   "outputs": [
    {
     "data": {
      "image/png": "[encoded data removed]",
      "text/plain": [
       "plot without title"
      ]
     },
     "metadata": {
      "image/png": {
       "height": 420,
       "width": 420
      }
     },
     "output_type": "display_data"
    }
   ],
   "source": [
    "# Para representarlos con ggplot se convierte a dataframe\n",
    "as(top_20_itemsets, Class = \"data.frame\") %>%\n",
    "    ggplot(aes(x = reorder(items, support), y = support)) +\n",
    "    geom_col() +\n",
    "    coord_flip() +\n",
    "    labs(title = \"Itemsets más frecuentes\", x = \"itemsets\") +\n",
    "    theme_bw()"
   ]
  },
  {
   "cell_type": "code",
   "execution_count": 88,
   "metadata": {
    "vscode": {
     "languageId": "r"
    }
   },
   "outputs": [
    {
     "name": "stdout",
     "output_type": "stream",
     "text": [
      "     items                                support count\n",
      "[1]  {suscriptores bajos,                              \n",
      "      tiempo_reproduccion_horas bajas}  0.7727273    17\n",
      "[2]  {Children,                                        \n",
      "      tiempo_reproduccion_horas bajas}  0.5000000    11\n",
      "[3]  {Children,                                        \n",
      "      suscriptores bajos}               0.4545455    10\n",
      "[4]  {Children,                                        \n",
      "      suscriptores bajos,                              \n",
      "      tiempo_reproduccion_horas bajas}  0.4545455    10\n",
      "[5]  {impresiones bajas,                               \n",
      "      suscriptores bajos}               0.3636364     8\n",
      "[6]  {impresiones bajas,                               \n",
      "      tiempo_reproduccion_horas bajas}  0.3636364     8\n",
      "[7]  {duracion_promedio_vistas bajas,                  \n",
      "      tiempo_reproduccion_horas bajas}  0.3636364     8\n",
      "[8]  {ctr bajo,                                        \n",
      "      suscriptores bajos}               0.3636364     8\n",
      "[9]  {ctr bajo,                                        \n",
      "      tiempo_reproduccion_horas bajas}  0.3636364     8\n",
      "[10] {impresiones bajas,                               \n",
      "      suscriptores bajos,                              \n",
      "      tiempo_reproduccion_horas bajas}  0.3636364     8\n",
      "[11] {ctr bajo,                                        \n",
      "      suscriptores bajos,                              \n",
      "      tiempo_reproduccion_horas bajas}  0.3636364     8\n",
      "[12] {impresiones altas,                               \n",
      "      vistas altas}                     0.3181818     7\n",
      "[13] {suscriptores bajos,                              \n",
      "      vistas medias}                    0.3181818     7\n",
      "[14] {tiempo_reproduccion_horas bajas,                 \n",
      "      vistas medias}                    0.3181818     7\n",
      "[15] {suscriptores bajos,                              \n",
      "      vistas bajas}                     0.3181818     7\n",
      "[16] {tiempo_reproduccion_horas bajas,                 \n",
      "      vistas bajas}                     0.3181818     7\n",
      "[17] {duracion_promedio_vistas bajas,                  \n",
      "      Trivia Facts Quiz}                0.3181818     7\n",
      "[18] {tiempo_reproduccion_horas bajas,                 \n",
      "      Trivia Facts Quiz}                0.3181818     7\n",
      "[19] {duracion_promedio_vistas medias,                 \n",
      "      suscriptores bajos}               0.3181818     7\n",
      "[20] {duracion_promedio_vistas medias,                 \n",
      "      tiempo_reproduccion_horas bajas}  0.3181818     7\n"
     ]
    }
   ],
   "source": [
    "# Se muestran los 20 itemsets más frecuentes formados por más de un item.\n",
    "inspect(sort(itemsets[size(itemsets) > 1], decreasing = TRUE)[1:20])"
   ]
  },
  {
   "cell_type": "code",
   "execution_count": 91,
   "metadata": {
    "vscode": {
     "languageId": "r"
    }
   },
   "outputs": [
    {
     "data": {
      "text/plain": [
       "set of 1669 itemsets "
      ]
     },
     "metadata": {},
     "output_type": "display_data"
    }
   ],
   "source": [
    "vector_vistas <- c(\"vistas medias\", \"vistas altas\")\n",
    "vector_impresiones <- c(\"impresiones bajas\", \"impresiones altas\")\n",
    "vector_suscriptores <- c(\"suscriptores bajos\")\n",
    "vector_tiempo_reproduccion <- c(\"tiempo_reproduccion_horas bajas\")\n",
    "vector_duracion_vistas <- c(\"duracion_promedio_vistas medias\", \"duracion_promedio_vistas altas\")\n",
    "\n",
    "itemsets_filtrado <- arules::subset(itemsets,\n",
    "    subset = items %ain% vector_vistas | items %ain% vector_impresiones | items %ain% vector_suscriptores |\n",
    "        items %ain% vector_tiempo_reproduccion | items %ain% vector_duracion_vistas\n",
    ")\n",
    "itemsets_filtrado"
   ]
  },
  {
   "cell_type": "code",
   "execution_count": 92,
   "metadata": {
    "vscode": {
     "languageId": "r"
    }
   },
   "outputs": [
    {
     "name": "stdout",
     "output_type": "stream",
     "text": [
      "     items                                           support    count\n",
      "[1]  {suscriptores bajos}                            0.77272727 17   \n",
      "[2]  {tiempo_reproduccion_horas bajas}               0.81818182 18   \n",
      "[3]  {Holidays, suscriptores bajos}                  0.09090909  2   \n",
      "[4]  {Holidays, tiempo_reproduccion_horas bajas}     0.09090909  2   \n",
      "[5]  {Pink, tiempo_reproduccion_horas bajas}         0.09090909  2   \n",
      "[6]  {Animals Quiz, suscriptores bajos}              0.09090909  2   \n",
      "[7]  {Animals Quiz, tiempo_reproduccion_horas bajas} 0.09090909  2   \n",
      "[8]  {Gray, suscriptores bajos}                      0.09090909  2   \n",
      "[9]  {Gray, tiempo_reproduccion_horas bajas}         0.09090909  2   \n",
      "[10] {Nature Quiz, suscriptores bajos}               0.09090909  2   \n"
     ]
    }
   ],
   "source": [
    "# Se muestran 10 de ellos\n",
    "inspect(itemsets_filtrado[1:10])"
   ]
  },
  {
   "cell_type": "code",
   "execution_count": 93,
   "metadata": {
    "vscode": {
     "languageId": "r"
    }
   },
   "outputs": [],
   "source": [
    "# Para encontrar los subsets dentro de un conjunto de itemsets, se compara el\n",
    "# conjunto de itemsets con sigo mismo.\n",
    "subsets <- is.subset(x = itemsets, y = itemsets, sparse = FALSE)"
   ]
  },
  {
   "cell_type": "code",
   "execution_count": 94,
   "metadata": {
    "vscode": {
     "languageId": "r"
    }
   },
   "outputs": [
    {
     "data": {
      "text/html": [
       "73232"
      ],
      "text/latex": [
       "73232"
      ],
      "text/markdown": [
       "73232"
      ],
      "text/plain": [
       "[1] 73232"
      ]
     },
     "metadata": {},
     "output_type": "display_data"
    }
   ],
   "source": [
    "# La suma de una matriz lógica devuelve el número de TRUEs\n",
    "sum(subsets)"
   ]
  },
  {
   "cell_type": "code",
   "execution_count": 106,
   "metadata": {
    "vscode": {
     "languageId": "r"
    }
   },
   "outputs": [
    {
     "name": "stdout",
     "output_type": "stream",
     "text": [
      "Apriori\n",
      "\n",
      "Parameter specification:\n",
      " confidence minval smax arem  aval originalSupport maxtime   support minlen\n",
      "        0.7    0.1    1 none FALSE            TRUE       5 0.3636364      1\n",
      " maxlen target  ext\n",
      "     10  rules TRUE\n",
      "\n",
      "Algorithmic control:\n",
      " filter tree heap memopt load sort verbose\n",
      "    0.1 TRUE TRUE  FALSE TRUE    2    TRUE\n",
      "\n",
      "Absolute minimum support count: 8 \n",
      "\n",
      "set item appearances ...[0 item(s)] done [0.00s].\n",
      "set transactions ...[39 item(s), 22 transaction(s)] done [0.00s].\n",
      "sorting and recoding items ... [13 item(s)] done [0.00s].\n",
      "creating transaction tree ... done [0.00s].\n",
      "checking subsets of size 1 2 3 done [0.00s].\n",
      "writing ... [17 rule(s)] done [0.00s].\n",
      "creating S4 object  ... done [0.00s].\n"
     ]
    }
   ],
   "source": [
    "soporte <- 8 / dim(transacciones)[1]\n",
    "reglas <- apriori(\n",
    "    data = transacciones,\n",
    "    parameter = list(\n",
    "        support = soporte,\n",
    "        confidence = 0.70,\n",
    "        # Se especifica que se creen reglas\n",
    "        target = \"rules\"\n",
    "    )\n",
    ")"
   ]
  },
  {
   "cell_type": "code",
   "execution_count": 107,
   "metadata": {
    "vscode": {
     "languageId": "r"
    }
   },
   "outputs": [
    {
     "data": {
      "text/plain": [
       "set of 17 rules\n",
       "\n",
       "rule length distribution (lhs + rhs):sizes\n",
       "1 2 3 \n",
       "2 9 6 \n",
       "\n",
       "   Min. 1st Qu.  Median    Mean 3rd Qu.    Max. \n",
       "  1.000   2.000   2.000   2.235   3.000   3.000 \n",
       "\n",
       "summary of quality measures:\n",
       "    support         confidence        coverage           lift      \n",
       " Min.   :0.3636   Min.   :0.7727   Min.   :0.3636   Min.   :1.000  \n",
       " 1st Qu.:0.3636   1st Qu.:0.8889   1st Qu.:0.3636   1st Qu.:1.150  \n",
       " Median :0.3636   Median :1.0000   Median :0.4091   Median :1.222  \n",
       " Mean   :0.4866   Mean   :0.9424   Mean   :0.5267   Mean   :1.183  \n",
       " 3rd Qu.:0.5000   3rd Qu.:1.0000   3rd Qu.:0.5000   3rd Qu.:1.222  \n",
       " Max.   :0.8182   Max.   :1.0000   Max.   :1.0000   Max.   :1.294  \n",
       "     count      \n",
       " Min.   : 8.00  \n",
       " 1st Qu.: 8.00  \n",
       " Median : 8.00  \n",
       " Mean   :10.71  \n",
       " 3rd Qu.:11.00  \n",
       " Max.   :18.00  \n",
       "\n",
       "mining info:\n",
       "          data ntransactions   support confidence\n",
       " transacciones            22 0.3636364        0.7\n",
       "                                                                                                   call\n",
       " apriori(data = transacciones, parameter = list(support = soporte, confidence = 0.7, target = \"rules\"))"
      ]
     },
     "metadata": {},
     "output_type": "display_data"
    }
   ],
   "source": [
    "summary(reglas)"
   ]
  },
  {
   "cell_type": "code",
   "execution_count": 108,
   "metadata": {
    "vscode": {
     "languageId": "r"
    }
   },
   "outputs": [
    {
     "name": "stdout",
     "output_type": "stream",
     "text": [
      "     lhs                                  rhs                                 support confidence  coverage     lift count\n",
      "[1]  {impresiones bajas}               => {suscriptores bajos}              0.3636364  1.0000000 0.3636364 1.294118     8\n",
      "[2]  {impresiones bajas}               => {tiempo_reproduccion_horas bajas} 0.3636364  1.0000000 0.3636364 1.222222     8\n",
      "[3]  {Children}                        => {tiempo_reproduccion_horas bajas} 0.5000000  1.0000000 0.5000000 1.222222    11\n",
      "[4]  {suscriptores bajos}              => {tiempo_reproduccion_horas bajas} 0.7727273  1.0000000 0.7727273 1.222222    17\n",
      "[5]  {impresiones bajas,                                                                                                 \n",
      "      suscriptores bajos}              => {tiempo_reproduccion_horas bajas} 0.3636364  1.0000000 0.3636364 1.222222     8\n",
      "[6]  {impresiones bajas,                                                                                                 \n",
      "      tiempo_reproduccion_horas bajas} => {suscriptores bajos}              0.3636364  1.0000000 0.3636364 1.294118     8\n",
      "[7]  {ctr bajo,                                                                                                          \n",
      "      suscriptores bajos}              => {tiempo_reproduccion_horas bajas} 0.3636364  1.0000000 0.3636364 1.222222     8\n",
      "[8]  {ctr bajo,                                                                                                          \n",
      "      tiempo_reproduccion_horas bajas} => {suscriptores bajos}              0.3636364  1.0000000 0.3636364 1.294118     8\n",
      "[9]  {Children,                                                                                                          \n",
      "      suscriptores bajos}              => {tiempo_reproduccion_horas bajas} 0.4545455  1.0000000 0.4545455 1.222222    10\n",
      "[10] {tiempo_reproduccion_horas bajas} => {suscriptores bajos}              0.7727273  0.9444444 0.8181818 1.222222    17\n",
      "[11] {Children}                        => {suscriptores bajos}              0.4545455  0.9090909 0.5000000 1.176471    10\n",
      "[12] {Children,                                                                                                          \n",
      "      tiempo_reproduccion_horas bajas} => {suscriptores bajos}              0.4545455  0.9090909 0.5000000 1.176471    10\n",
      "[13] {duracion_promedio_vistas bajas}  => {tiempo_reproduccion_horas bajas} 0.3636364  0.8888889 0.4090909 1.086420     8\n",
      "[14] {ctr bajo}                        => {suscriptores bajos}              0.3636364  0.8888889 0.4090909 1.150327     8\n",
      "[15] {ctr bajo}                        => {tiempo_reproduccion_horas bajas} 0.3636364  0.8888889 0.4090909 1.086420     8\n",
      "[16] {}                                => {tiempo_reproduccion_horas bajas} 0.8181818  0.8181818 1.0000000 1.000000    18\n",
      "[17] {}                                => {suscriptores bajos}              0.7727273  0.7727273 1.0000000 1.000000    17\n"
     ]
    }
   ],
   "source": [
    "inspect(sort(x = reglas, decreasing = TRUE, by = \"confidence\"))"
   ]
  },
  {
   "cell_type": "code",
   "execution_count": 148,
   "metadata": {
    "vscode": {
     "languageId": "r"
    }
   },
   "outputs": [
    {
     "name": "stdout",
     "output_type": "stream",
     "text": [
      "Apriori\n",
      "\n",
      "Parameter specification:\n",
      " confidence minval smax arem  aval originalSupport maxtime    support minlen\n",
      "        0.7    0.1    1 none FALSE            TRUE       5 0.09090909      1\n",
      " maxlen target  ext\n",
      "     10  rules TRUE\n",
      "\n",
      "Algorithmic control:\n",
      " filter tree heap memopt load sort verbose\n",
      "    0.1 TRUE TRUE  FALSE TRUE    2    TRUE\n",
      "\n",
      "Absolute minimum support count: 2 \n",
      "\n",
      "set item appearances ...[14 item(s)] done [0.00s].\n",
      "set transactions ...[14 item(s), 22 transaction(s)] done [0.00s].\n",
      "sorting and recoding items ... [10 item(s)] done [0.00s].\n",
      "creating transaction tree ... done [0.00s].\n",
      "checking subsets of size 1 2 done [0.00s].\n",
      "writing ... [2 rule(s)] done [0.00s].\n",
      "creating S4 object  ... done [0.00s].\n",
      "    lhs       rhs             support    confidence coverage   lift     count\n",
      "[1] {Gray} => {vistas medias} 0.09090909 1          0.09090909 3.142857 2    \n",
      "[2] {Gray} => {ctr medio}     0.09090909 1          0.09090909 2.750000 2    \n"
     ]
    }
   ],
   "source": [
    "colores <- c(\"Blue\", \"Pink\", \"Yellow\", \"Purple\", \"White\", \"Gray\", \"Beige\", \"Indigo\")\n",
    "rhs_values <- c(\"impresiones medias\", \"suscriptores media\", \"vistas altas\", \"vistas medias\", \"ctr alto\", \"ctr medio\")\n",
    "\n",
    "soporte <- 2 / dim(transacciones)[1]\n",
    "reglas_suscriptores_medias <- apriori(data = transacciones,\n",
    "                             parameter = list(support = soporte,\n",
    "                                              confidence = 0.70,\n",
    "                                             # Se especifica que se creen reglas\n",
    "                                              target = \"rules\"),\n",
    "                             appearance = list(rhs = rhs_values, lhs = colores))\n",
    "inspect(reglas_suscriptores_medias)"
   ]
  },
  {
   "cell_type": "code",
   "execution_count": 132,
   "metadata": {
    "vscode": {
     "languageId": "r"
    }
   },
   "outputs": [
    {
     "name": "stdout",
     "output_type": "stream",
     "text": [
      "     lhs                                   rhs               support confidence  coverage     lift count\n",
      "[1]  {impresiones medias}               => {vistas medias} 0.1818182        0.8 0.2272727 2.514286     4\n",
      "[2]  {Children,                                                                                         \n",
      "      impresiones medias}               => {vistas medias} 0.1818182        1.0 0.1818182 3.142857     4\n",
      "[3]  {impresiones medias,                                                                               \n",
      "      suscriptores bajos}               => {vistas medias} 0.1818182        0.8 0.2272727 2.514286     4\n",
      "[4]  {impresiones medias,                                                                               \n",
      "      tiempo_reproduccion_horas bajas}  => {vistas medias} 0.1818182        0.8 0.2272727 2.514286     4\n",
      "[5]  {Children,                                                                                         \n",
      "      duracion_promedio_vistas medias}  => {vistas medias} 0.1818182        1.0 0.1818182 3.142857     4\n",
      "[6]  {Children,                                                                                         \n",
      "      impresiones medias,                                                                               \n",
      "      suscriptores bajos}               => {vistas medias} 0.1818182        1.0 0.1818182 3.142857     4\n",
      "[7]  {Children,                                                                                         \n",
      "      impresiones medias,                                                                               \n",
      "      tiempo_reproduccion_horas bajas}  => {vistas medias} 0.1818182        1.0 0.1818182 3.142857     4\n",
      "[8]  {impresiones medias,                                                                               \n",
      "      suscriptores bajos,                                                                               \n",
      "      tiempo_reproduccion_horas bajas}  => {vistas medias} 0.1818182        0.8 0.2272727 2.514286     4\n",
      "[9]  {Children,                                                                                         \n",
      "      duracion_promedio_vistas medias,                                                                  \n",
      "      suscriptores bajos}               => {vistas medias} 0.1818182        1.0 0.1818182 3.142857     4\n",
      "[10] {Children,                                                                                         \n",
      "      duracion_promedio_vistas medias,                                                                  \n",
      "      tiempo_reproduccion_horas bajas}  => {vistas medias} 0.1818182        1.0 0.1818182 3.142857     4\n",
      "[11] {Children,                                                                                         \n",
      "      impresiones medias,                                                                               \n",
      "      suscriptores bajos,                                                                               \n",
      "      tiempo_reproduccion_horas bajas}  => {vistas medias} 0.1818182        1.0 0.1818182 3.142857     4\n",
      "[12] {Children,                                                                                         \n",
      "      duracion_promedio_vistas medias,                                                                  \n",
      "      suscriptores bajos,                                                                               \n",
      "      tiempo_reproduccion_horas bajas}  => {vistas medias} 0.1818182        1.0 0.1818182 3.142857     4\n"
     ]
    }
   ],
   "source": [
    "inspect(reglas_suscriptores_medias)"
   ]
  },
  {
   "cell_type": "code",
   "execution_count": 150,
   "metadata": {
    "vscode": {
     "languageId": "r"
    }
   },
   "outputs": [
    {
     "data": {
      "text/html": [
       "<style>\n",
       ".list-inline {list-style: none; margin:0; padding: 0}\n",
       ".list-inline>li {display: inline-block}\n",
       ".list-inline>li:not(:last-child)::after {content: \"\\00b7\"; padding: 0 .5ex}\n",
       "</style>\n",
       "<ol class=list-inline><li>'{impresiones bajas} =&gt; {suscriptores bajos}'</li><li>'{impresiones bajas} =&gt; {tiempo_reproduccion_horas bajas}'</li><li>'{Children} =&gt; {tiempo_reproduccion_horas bajas}'</li></ol>\n"
      ],
      "text/latex": [
       "\\begin{enumerate*}\n",
       "\\item '\\{impresiones bajas\\} => \\{suscriptores bajos\\}'\n",
       "\\item '\\{impresiones bajas\\} => \\{tiempo\\_reproduccion\\_horas bajas\\}'\n",
       "\\item '\\{Children\\} => \\{tiempo\\_reproduccion\\_horas bajas\\}'\n",
       "\\end{enumerate*}\n"
      ],
      "text/markdown": [
       "1. '{impresiones bajas} =&gt; {suscriptores bajos}'\n",
       "2. '{impresiones bajas} =&gt; {tiempo_reproduccion_horas bajas}'\n",
       "3. '{Children} =&gt; {tiempo_reproduccion_horas bajas}'\n",
       "\n",
       "\n"
      ],
      "text/plain": [
       "[1] \"{impresiones bajas} => {suscriptores bajos}\"             \n",
       "[2] \"{impresiones bajas} => {tiempo_reproduccion_horas bajas}\"\n",
       "[3] \"{Children} => {tiempo_reproduccion_horas bajas}\"         "
      ]
     },
     "metadata": {},
     "output_type": "display_data"
    }
   ],
   "source": [
    "# Se identifica la regla con mayor confianza\n",
    "as(reglas, \"data.frame\") %>%\n",
    "    arrange(desc(confidence)) %>%\n",
    "    head(3) %>%\n",
    "    pull(rules)"
   ]
  },
  {
   "cell_type": "markdown",
   "metadata": {},
   "source": [
    "<div style=\"background-color: #FFFFE0; font-family: 'Times New Roman'; padding: 10px;\">    \n",
    "    \n",
    "   ##  Bibliografía\n",
    "</div>\n",
    "<div style=\"background-color: #FFFFE0; font-family: 'Times New Roman'; padding: 10px;\">    \n",
    "    <p>\n",
    "        Reglas de asociación y algoritmo Apriori con R por Joaquín Amat Rodrigo, disponible con licencia CC BY-NC-SA 4.0 en <a href=\"https://www.cienciadedatos.net/documentos/43_reglas_de_asociacion\">https://www.cienciadedatos.net/documentos/43_reglas_de_asociacion</a>\n",
    "    </p>\n",
    "</div>\n"
   ]
  }
 ],
 "metadata": {
  "kernelspec": {
   "display_name": "R",
   "language": "R",
   "name": "ir"
  },
  "language_info": {
   "codemirror_mode": "r",
   "file_extension": ".r",
   "mimetype": "text/x-r-source",
   "name": "R",
   "pygments_lexer": "r",
   "version": "4.3.3"
  }
 },
 "nbformat": 4,
 "nbformat_minor": 2
}
