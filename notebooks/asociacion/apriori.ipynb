{
 "cells": [
  {
   "attachments": {
    "flow.png": {
     "image/png": "[encoded data removed]"
    }
   },
   "cell_type": "markdown",
   "metadata": {},
   "source": [
    "<div style=\"background-color: #FFFFE0; font-family: 'Times New Roman'; padding: 10px;\"> \n",
    "\n",
    "## Introducción\n",
    "Este notebook tiene como objetivo realizar un análisis de transacciones utilizando técnicas de minería de datos, específicamente el algoritmo Apriori para la generación de reglas de asociación. A lo largo del documento, se llevan a cabo las siguientes tareas:\n",
    "\n",
    "1. **Carga y preparación de datos**: Se importan los datos de transacciones en formato basket, anteriormente preparados en tableau, utilizando el flujo proporcionado más abajo, y se preparan para el análisis, eliminando columnas innecesarias y asegurando el formato adecuado.\n",
    "**Flujo:**\n",
    "![flow.png](attachment:flow.png)\n",
    "2. **Visualización de datos**: Se generan gráficos para visualizar la distribución del tamaño de las transacciones y la frecuencia de los ítems.\n",
    "3. **Generación de itemsets frecuentes**: Se aplica el algoritmo Apriori para identificar conjuntos de ítems que aparecen frecuentemente juntos en las transacciones.\n",
    "4. **Generación de reglas de asociación**: Se crean reglas de asociación basadas en los itemsets frecuentes, utilizando umbrales de soporte y confianza definidos.\n",
    "5. **Evaluación de reglas**: Se calculan métricas adicionales para evaluar la calidad de las reglas generadas, como la cobertura y el test exacto de Fisher.\n",
    "6. **Filtrado y visualización de reglas**: Se filtran y visualizan las reglas más interesantes, enfocándose en aquellas con mayor confianza y relevancia.\n",
    "\n",
    "Este análisis permite identificar patrones y relaciones significativas entre los ítems en las transacciones, proporcionando información valiosa para la toma de decisiones en áreas como marketing, ventas, gestión de inventarios y a exitos de videos de youtube(como en el caso presente).\n",
    "\n",
    "</div>"
   ]
  },
  {
   "cell_type": "markdown",
   "metadata": {},
   "source": [
    "<div style=\"background-color: #FFFFE0; font-family: 'Times New Roman'; padding: 10px;\"> \n",
    "\n",
    "## Desarrollo\n",
    "</div>"
   ]
  },
  {
   "cell_type": "markdown",
   "metadata": {},
   "source": [
    "<div style=\"background-color: #FFFFE0; font-family: 'Times New Roman'; padding: 10px;\"> \n",
    "    <ul>\n",
    "        <li><strong>Propósito general:</strong> Esta celda carga el paquete <code>tidyverse</code> en R, que es una colección de paquetes diseñados para el análisis de datos de manera eficiente.</li>\n",
    "        <li><strong>Componentes incluidos:</strong> \n",
    "            <ul>\n",
    "                <li><code>ggplot2</code>: Para visualización de datos.</li>\n",
    "                <li><code>dplyr</code>: Para manipulación de datos.</li>\n",
    "                <li><code>tidyr</code>: Para estructuración de datos.</li>\n",
    "                <li><code>readr</code>: Para importar datos.</li>\n",
    "                <li><code>purrr</code>: Para programación funcional.</li>\n",
    "                <li><code>tibble</code>: Para trabajar con data frames modernos.</li>\n",
    "            </ul>\n",
    "        </li>\n",
    "        <li><strong>Uso común:</strong> Este paquete simplifica las tareas de limpieza, transformación y visualización de datos en proyectos de análisis y ciencia de datos.</li>\n",
    "        <li><strong>Requisitos previos:</strong> Es necesario que el paquete <code>tidyverse</code> esté instalado en el entorno. Si no está instalado, se puede hacer con <code>install.packages(\"tidyverse\")</code>.</li>\n",
    "    </ul>\n",
    "</div>\n"
   ]
  },
  {
   "cell_type": "code",
   "execution_count": 20,
   "metadata": {
    "vscode": {
     "languageId": "r"
    }
   },
   "outputs": [],
   "source": [
    "library(tidyverse)"
   ]
  },
  {
   "cell_type": "code",
   "execution_count": 21,
   "metadata": {
    "vscode": {
     "languageId": "r"
    }
   },
   "outputs": [
    {
     "data": {
      "text/html": [
       "<table class=\"dataframe\">\n",
       "<caption>A data.frame: 8 × 2</caption>\n",
       "<thead>\n",
       "\t<tr><th></th><th scope=col>content_id</th><th scope=col>items</th></tr>\n",
       "\t<tr><th></th><th scope=col>&lt;int&gt;</th><th scope=col>&lt;chr&gt;</th></tr>\n",
       "</thead>\n",
       "<tbody>\n",
       "\t<tr><th scope=row>1</th><td> 1</td><td>duracion_promedio_vistas bajas,Friday,vistas altas,tiempo_reproduccion_horas altas,suscriptores altos,impresiones altas,ctr bajo,Trivia Facts Quiz,General,Blue       </td></tr>\n",
       "\t<tr><th scope=row>2</th><td> 2</td><td>duracion_promedio_vistas altas,Thursday,vistas altas,tiempo_reproduccion_horas altas,suscriptores media,impresiones altas,ctr medio,Entertainment Quiz,General,Blue   </td></tr>\n",
       "\t<tr><th scope=row>3</th><td> 3</td><td>duracion_promedio_vistas bajas,Friday,vistas altas,tiempo_reproduccion_horas bajas,suscriptores media,impresiones altas,ctr alto,Trivia Facts Quiz,Children,Pink      </td></tr>\n",
       "\t<tr><th scope=row>4</th><td> 4</td><td>duracion_promedio_vistas medias,Thursday,vistas altas,tiempo_reproduccion_horas medias,suscriptores media,impresiones altas,ctr medio,Entertainment Quiz,General,Blue </td></tr>\n",
       "\t<tr><th scope=row>5</th><td> 5</td><td>duracion_promedio_vistas altas,Friday,vistas altas,tiempo_reproduccion_horas bajas,suscriptores bajos,impresiones altas,ctr bajo,Would You Rather,General,Yellow      </td></tr>\n",
       "\t<tr><th scope=row>6</th><td> 8</td><td>duracion_promedio_vistas medias,Thursday,vistas altas,tiempo_reproduccion_horas bajas,suscriptores bajos,impresiones altas,ctr medio,Holidays,General,Purple          </td></tr>\n",
       "\t<tr><th scope=row>7</th><td>15</td><td>duracion_promedio_vistas altas,Wednesday,vistas altas,tiempo_reproduccion_horas bajas,suscriptores bajos,impresiones altas,ctr bajo,Would You Rather,General,Purple   </td></tr>\n",
       "\t<tr><th scope=row>8</th><td>16</td><td>duracion_promedio_vistas medias,Thursday,vistas medias,tiempo_reproduccion_horas bajas,suscriptores bajos,impresiones medias,ctr bajo,Would You Rather,Children,Purple</td></tr>\n",
       "</tbody>\n",
       "</table>\n"
      ],
      "text/latex": [
       "A data.frame: 8 × 2\n",
       "\\begin{tabular}{r|ll}\n",
       "  & content\\_id & items\\\\\n",
       "  & <int> & <chr>\\\\\n",
       "\\hline\n",
       "\t1 &  1 & duracion\\_promedio\\_vistas bajas,Friday,vistas altas,tiempo\\_reproduccion\\_horas altas,suscriptores altos,impresiones altas,ctr bajo,Trivia Facts Quiz,General,Blue       \\\\\n",
       "\t2 &  2 & duracion\\_promedio\\_vistas altas,Thursday,vistas altas,tiempo\\_reproduccion\\_horas altas,suscriptores media,impresiones altas,ctr medio,Entertainment Quiz,General,Blue   \\\\\n",
       "\t3 &  3 & duracion\\_promedio\\_vistas bajas,Friday,vistas altas,tiempo\\_reproduccion\\_horas bajas,suscriptores media,impresiones altas,ctr alto,Trivia Facts Quiz,Children,Pink      \\\\\n",
       "\t4 &  4 & duracion\\_promedio\\_vistas medias,Thursday,vistas altas,tiempo\\_reproduccion\\_horas medias,suscriptores media,impresiones altas,ctr medio,Entertainment Quiz,General,Blue \\\\\n",
       "\t5 &  5 & duracion\\_promedio\\_vistas altas,Friday,vistas altas,tiempo\\_reproduccion\\_horas bajas,suscriptores bajos,impresiones altas,ctr bajo,Would You Rather,General,Yellow      \\\\\n",
       "\t6 &  8 & duracion\\_promedio\\_vistas medias,Thursday,vistas altas,tiempo\\_reproduccion\\_horas bajas,suscriptores bajos,impresiones altas,ctr medio,Holidays,General,Purple          \\\\\n",
       "\t7 & 15 & duracion\\_promedio\\_vistas altas,Wednesday,vistas altas,tiempo\\_reproduccion\\_horas bajas,suscriptores bajos,impresiones altas,ctr bajo,Would You Rather,General,Purple   \\\\\n",
       "\t8 & 16 & duracion\\_promedio\\_vistas medias,Thursday,vistas medias,tiempo\\_reproduccion\\_horas bajas,suscriptores bajos,impresiones medias,ctr bajo,Would You Rather,Children,Purple\\\\\n",
       "\\end{tabular}\n"
      ],
      "text/markdown": [
       "\n",
       "A data.frame: 8 × 2\n",
       "\n",
       "| <!--/--> | content_id &lt;int&gt; | items &lt;chr&gt; |\n",
       "|---|---|---|\n",
       "| 1 |  1 | duracion_promedio_vistas bajas,Friday,vistas altas,tiempo_reproduccion_horas altas,suscriptores altos,impresiones altas,ctr bajo,Trivia Facts Quiz,General,Blue        |\n",
       "| 2 |  2 | duracion_promedio_vistas altas,Thursday,vistas altas,tiempo_reproduccion_horas altas,suscriptores media,impresiones altas,ctr medio,Entertainment Quiz,General,Blue    |\n",
       "| 3 |  3 | duracion_promedio_vistas bajas,Friday,vistas altas,tiempo_reproduccion_horas bajas,suscriptores media,impresiones altas,ctr alto,Trivia Facts Quiz,Children,Pink       |\n",
       "| 4 |  4 | duracion_promedio_vistas medias,Thursday,vistas altas,tiempo_reproduccion_horas medias,suscriptores media,impresiones altas,ctr medio,Entertainment Quiz,General,Blue  |\n",
       "| 5 |  5 | duracion_promedio_vistas altas,Friday,vistas altas,tiempo_reproduccion_horas bajas,suscriptores bajos,impresiones altas,ctr bajo,Would You Rather,General,Yellow       |\n",
       "| 6 |  8 | duracion_promedio_vistas medias,Thursday,vistas altas,tiempo_reproduccion_horas bajas,suscriptores bajos,impresiones altas,ctr medio,Holidays,General,Purple           |\n",
       "| 7 | 15 | duracion_promedio_vistas altas,Wednesday,vistas altas,tiempo_reproduccion_horas bajas,suscriptores bajos,impresiones altas,ctr bajo,Would You Rather,General,Purple    |\n",
       "| 8 | 16 | duracion_promedio_vistas medias,Thursday,vistas medias,tiempo_reproduccion_horas bajas,suscriptores bajos,impresiones medias,ctr bajo,Would You Rather,Children,Purple |\n",
       "\n"
      ],
      "text/plain": [
       "  content_id\n",
       "1  1        \n",
       "2  2        \n",
       "3  3        \n",
       "4  4        \n",
       "5  5        \n",
       "6  8        \n",
       "7 15        \n",
       "8 16        \n",
       "  items                                                                                                                                                                 \n",
       "1 duracion_promedio_vistas bajas,Friday,vistas altas,tiempo_reproduccion_horas altas,suscriptores altos,impresiones altas,ctr bajo,Trivia Facts Quiz,General,Blue       \n",
       "2 duracion_promedio_vistas altas,Thursday,vistas altas,tiempo_reproduccion_horas altas,suscriptores media,impresiones altas,ctr medio,Entertainment Quiz,General,Blue   \n",
       "3 duracion_promedio_vistas bajas,Friday,vistas altas,tiempo_reproduccion_horas bajas,suscriptores media,impresiones altas,ctr alto,Trivia Facts Quiz,Children,Pink      \n",
       "4 duracion_promedio_vistas medias,Thursday,vistas altas,tiempo_reproduccion_horas medias,suscriptores media,impresiones altas,ctr medio,Entertainment Quiz,General,Blue \n",
       "5 duracion_promedio_vistas altas,Friday,vistas altas,tiempo_reproduccion_horas bajas,suscriptores bajos,impresiones altas,ctr bajo,Would You Rather,General,Yellow      \n",
       "6 duracion_promedio_vistas medias,Thursday,vistas altas,tiempo_reproduccion_horas bajas,suscriptores bajos,impresiones altas,ctr medio,Holidays,General,Purple          \n",
       "7 duracion_promedio_vistas altas,Wednesday,vistas altas,tiempo_reproduccion_horas bajas,suscriptores bajos,impresiones altas,ctr bajo,Would You Rather,General,Purple   \n",
       "8 duracion_promedio_vistas medias,Thursday,vistas medias,tiempo_reproduccion_horas bajas,suscriptores bajos,impresiones medias,ctr bajo,Would You Rather,Children,Purple"
      ]
     },
     "metadata": {},
     "output_type": "display_data"
    }
   ],
   "source": [
    "datos <- read.csv(\"../../datasets/transactions.csv\")\n",
    "head(datos, 8)"
   ]
  },
  {
   "cell_type": "markdown",
   "metadata": {},
   "source": [
    "<div style=\"background-color: #FFFFE0; font-family: 'Times New Roman'; padding: 10px;\">    \n",
    "    <ul>\n",
    "        <li><strong>Propósito general:</strong> Este código prepara un conjunto de datos para ser utilizado en un análisis de transacciones estilo \"basket\" (cesta de compras), eliminando columnas innecesarias y asegurando que el formato cumpla con los requisitos esperados.</li>\n",
    "        <li><strong>Operaciones realizadas:</strong>\n",
    "            <ul>\n",
    "                <li><code>datos$content_id <- NULL</code>: Esta línea elimina la columna <code>content_id</code> del conjunto de datos. En el análisis estilo \"basket\", solo debe haber una columna que contenga la lista de todos los items de las transacciones. La columna <code>content_id</code> es innecesaria para este propósito.</li>\n",
    "                <li><code>colnames(datos) <- c(\"items\")</code>: Renombra la única columna restante en el data frame como <code>items</code> para reflejar su propósito, que es contener todos los artículos comprados en cada transacción.</li>\n",
    "            </ul>\n",
    "        </li>\n",
    "        <li><strong>Nota aclaratoria:</strong> En un análisis estilo \"basket\", cada fila representa una transacción y debe contener únicamente una columna con los elementos asociados a esa transacción. Este formato fue seleccionado por conveniencia para utilizar el algoritmo Apriori.</li>\n",
    "    </ul>\n",
    "</div>\n"
   ]
  },
  {
   "cell_type": "code",
   "execution_count": 22,
   "metadata": {
    "vscode": {
     "languageId": "r"
    }
   },
   "outputs": [],
   "source": [
    "datos$content_id <- NULL\n",
    "colnames(datos) <- c(\"items\")"
   ]
  },
  {
   "cell_type": "markdown",
   "metadata": {},
   "source": [
    "<div style=\"background-color: #FFFFE0; font-family: 'Times New Roman'; padding: 10px;\">    \n",
    "    <ul>\n",
    "        <li><strong>Propósito general:</strong> Esta celda realiza dos acciones principales: guarda el conjunto de datos procesado en un archivo CSV y muestra las primeras filas de los datos para verificación.</li>\n",
    "        <li><strong>Operaciones realizadas:</strong>\n",
    "            <ul>\n",
    "                <li><code>write.csv(datos, \"../../datasets/transactions_formated.csv\", quote = FALSE, row.names = TRUE)</code>:  \n",
    "                    <ul>\n",
    "                        <li>Guarda el conjunto de datos <code>datos</code> en un archivo CSV ubicado en <code>../../datasets/transactions_formated.csv</code>.</li>\n",
    "                        <li><code>quote = FALSE</code>: Indica que las cadenas de texto no deben estar entre comillas en el archivo generado.</li>\n",
    "                        <li><code>row.names = TRUE</code>: Incluye los nombres de las filas como una columna adicional en el archivo CSV. Esto puede ser útil si las filas tienen identificadores importantes.</li>\n",
    "                    </ul>\n",
    "                </li>\n",
    "                <li><code>head(datos)</code>:  \n",
    "                    <ul>\n",
    "                        <li>Muestra las primeras seis filas del conjunto de datos <code>datos</code>.</li>\n",
    "                        <li>Esto permite verificar que los datos se hayan procesado correctamente antes de guardarlos y facilita una inspección rápida del formato final.</li>\n",
    "                    </ul>\n",
    "                </li>\n",
    "            </ul>\n",
    "        </li>\n",
    "        <li><strong>Requisitos previos:</strong> \n",
    "            <ul>\n",
    "                <li>El conjunto de datos <code>datos</code> debe estar preparado y estructurado adecuadamente.</li>\n",
    "                <li>La ruta <code>../../datasets/</code> debe existir y tener permisos de escritura para almacenar el archivo CSV.</li>\n",
    "            </ul>\n",
    "        </li>\n",
    "        <li><strong>Resultados esperados:</strong>\n",
    "            <ul>\n",
    "                <li>Un archivo llamado <code>transactions_formated.csv</code> que contiene los datos procesados en el formato esperado.</li>\n",
    "                <li>La salida en consola de las primeras seis filas del conjunto de datos, mostrando la columna <code>items</code>.</li>\n",
    "            </ul>\n",
    "        </li>\n",
    "    </ul>\n",
    "</div>\n"
   ]
  },
  {
   "cell_type": "code",
   "execution_count": 23,
   "metadata": {
    "vscode": {
     "languageId": "r"
    }
   },
   "outputs": [
    {
     "data": {
      "text/html": [
       "<table class=\"dataframe\">\n",
       "<caption>A data.frame: 6 × 1</caption>\n",
       "<thead>\n",
       "\t<tr><th></th><th scope=col>items</th></tr>\n",
       "\t<tr><th></th><th scope=col>&lt;chr&gt;</th></tr>\n",
       "</thead>\n",
       "<tbody>\n",
       "\t<tr><th scope=row>1</th><td>duracion_promedio_vistas bajas,Friday,vistas altas,tiempo_reproduccion_horas altas,suscriptores altos,impresiones altas,ctr bajo,Trivia Facts Quiz,General,Blue      </td></tr>\n",
       "\t<tr><th scope=row>2</th><td>duracion_promedio_vistas altas,Thursday,vistas altas,tiempo_reproduccion_horas altas,suscriptores media,impresiones altas,ctr medio,Entertainment Quiz,General,Blue  </td></tr>\n",
       "\t<tr><th scope=row>3</th><td>duracion_promedio_vistas bajas,Friday,vistas altas,tiempo_reproduccion_horas bajas,suscriptores media,impresiones altas,ctr alto,Trivia Facts Quiz,Children,Pink     </td></tr>\n",
       "\t<tr><th scope=row>4</th><td>duracion_promedio_vistas medias,Thursday,vistas altas,tiempo_reproduccion_horas medias,suscriptores media,impresiones altas,ctr medio,Entertainment Quiz,General,Blue</td></tr>\n",
       "\t<tr><th scope=row>5</th><td>duracion_promedio_vistas altas,Friday,vistas altas,tiempo_reproduccion_horas bajas,suscriptores bajos,impresiones altas,ctr bajo,Would You Rather,General,Yellow     </td></tr>\n",
       "\t<tr><th scope=row>6</th><td>duracion_promedio_vistas medias,Thursday,vistas altas,tiempo_reproduccion_horas bajas,suscriptores bajos,impresiones altas,ctr medio,Holidays,General,Purple         </td></tr>\n",
       "</tbody>\n",
       "</table>\n"
      ],
      "text/latex": [
       "A data.frame: 6 × 1\n",
       "\\begin{tabular}{r|l}\n",
       "  & items\\\\\n",
       "  & <chr>\\\\\n",
       "\\hline\n",
       "\t1 & duracion\\_promedio\\_vistas bajas,Friday,vistas altas,tiempo\\_reproduccion\\_horas altas,suscriptores altos,impresiones altas,ctr bajo,Trivia Facts Quiz,General,Blue      \\\\\n",
       "\t2 & duracion\\_promedio\\_vistas altas,Thursday,vistas altas,tiempo\\_reproduccion\\_horas altas,suscriptores media,impresiones altas,ctr medio,Entertainment Quiz,General,Blue  \\\\\n",
       "\t3 & duracion\\_promedio\\_vistas bajas,Friday,vistas altas,tiempo\\_reproduccion\\_horas bajas,suscriptores media,impresiones altas,ctr alto,Trivia Facts Quiz,Children,Pink     \\\\\n",
       "\t4 & duracion\\_promedio\\_vistas medias,Thursday,vistas altas,tiempo\\_reproduccion\\_horas medias,suscriptores media,impresiones altas,ctr medio,Entertainment Quiz,General,Blue\\\\\n",
       "\t5 & duracion\\_promedio\\_vistas altas,Friday,vistas altas,tiempo\\_reproduccion\\_horas bajas,suscriptores bajos,impresiones altas,ctr bajo,Would You Rather,General,Yellow     \\\\\n",
       "\t6 & duracion\\_promedio\\_vistas medias,Thursday,vistas altas,tiempo\\_reproduccion\\_horas bajas,suscriptores bajos,impresiones altas,ctr medio,Holidays,General,Purple         \\\\\n",
       "\\end{tabular}\n"
      ],
      "text/markdown": [
       "\n",
       "A data.frame: 6 × 1\n",
       "\n",
       "| <!--/--> | items &lt;chr&gt; |\n",
       "|---|---|\n",
       "| 1 | duracion_promedio_vistas bajas,Friday,vistas altas,tiempo_reproduccion_horas altas,suscriptores altos,impresiones altas,ctr bajo,Trivia Facts Quiz,General,Blue       |\n",
       "| 2 | duracion_promedio_vistas altas,Thursday,vistas altas,tiempo_reproduccion_horas altas,suscriptores media,impresiones altas,ctr medio,Entertainment Quiz,General,Blue   |\n",
       "| 3 | duracion_promedio_vistas bajas,Friday,vistas altas,tiempo_reproduccion_horas bajas,suscriptores media,impresiones altas,ctr alto,Trivia Facts Quiz,Children,Pink      |\n",
       "| 4 | duracion_promedio_vistas medias,Thursday,vistas altas,tiempo_reproduccion_horas medias,suscriptores media,impresiones altas,ctr medio,Entertainment Quiz,General,Blue |\n",
       "| 5 | duracion_promedio_vistas altas,Friday,vistas altas,tiempo_reproduccion_horas bajas,suscriptores bajos,impresiones altas,ctr bajo,Would You Rather,General,Yellow      |\n",
       "| 6 | duracion_promedio_vistas medias,Thursday,vistas altas,tiempo_reproduccion_horas bajas,suscriptores bajos,impresiones altas,ctr medio,Holidays,General,Purple          |\n",
       "\n"
      ],
      "text/plain": [
       "  items                                                                                                                                                                \n",
       "1 duracion_promedio_vistas bajas,Friday,vistas altas,tiempo_reproduccion_horas altas,suscriptores altos,impresiones altas,ctr bajo,Trivia Facts Quiz,General,Blue      \n",
       "2 duracion_promedio_vistas altas,Thursday,vistas altas,tiempo_reproduccion_horas altas,suscriptores media,impresiones altas,ctr medio,Entertainment Quiz,General,Blue  \n",
       "3 duracion_promedio_vistas bajas,Friday,vistas altas,tiempo_reproduccion_horas bajas,suscriptores media,impresiones altas,ctr alto,Trivia Facts Quiz,Children,Pink     \n",
       "4 duracion_promedio_vistas medias,Thursday,vistas altas,tiempo_reproduccion_horas medias,suscriptores media,impresiones altas,ctr medio,Entertainment Quiz,General,Blue\n",
       "5 duracion_promedio_vistas altas,Friday,vistas altas,tiempo_reproduccion_horas bajas,suscriptores bajos,impresiones altas,ctr bajo,Would You Rather,General,Yellow     \n",
       "6 duracion_promedio_vistas medias,Thursday,vistas altas,tiempo_reproduccion_horas bajas,suscriptores bajos,impresiones altas,ctr medio,Holidays,General,Purple         "
      ]
     },
     "metadata": {},
     "output_type": "display_data"
    }
   ],
   "source": [
    "write.csv(datos, \"../../datasets/transactions_formated.csv\",\n",
    "          quote = FALSE, row.names = TRUE)\n",
    "head(datos)"
   ]
  },
  {
   "cell_type": "markdown",
   "metadata": {},
   "source": [
    "<div style=\"background-color: #FFFFE0; font-family: 'Times New Roman'; padding: 10px;\">    \n",
    "    <ul>\n",
    "        <li><strong>Propósito general:</strong> Este código importa los datos procesados en un formato específico para análisis de transacciones, convierte los datos en un objeto tipo <code>transactions</code>, y luego inspecciona las primeras transacciones para verificar su contenido.</li>\n",
    "        <li><strong>Operaciones realizadas:</strong>\n",
    "            <ul>\n",
    "                <li><code>library(arules)</code>:  \n",
    "                    <ul>\n",
    "                        <li>Carga el paquete <code>arules</code>, necesario para realizar análisis de asociación y trabajar con objetos tipo <code>transactions</code>.</li>\n",
    "                    </ul>\n",
    "                </li>\n",
    "                <li><code>read.transactions(...)</code>:  \n",
    "                    <ul>\n",
    "                        <li>Importa el archivo <code>transactions_formated.csv</code> y lo convierte en un objeto tipo <code>transactions</code>.</li>\n",
    "                        <li><strong>Parámetros principales:</strong>\n",
    "                            <ul>\n",
    "                                <li><code>file</code>: Especifica la ruta del archivo que contiene los datos, en este caso <code>../../datasets/transactions_formated.csv</code>.</li>\n",
    "                                <li><code>format = \"basket\"</code>: Indica que los datos están en formato \"basket\" (cesta), donde cada transacción corresponde a una lista de artículos.</li>\n",
    "                                <li><code>sep = \",\"</code>: Define que las columnas en el archivo están separadas por comas.</li>\n",
    "                                <li><code>cols = 1</code>: Indica que la primera columna del archivo contiene las listas de artículos.</li>\n",
    "                                <li><code>rm.duplicates = TRUE</code>: Elimina elementos duplicados dentro de cada transacción, asegurando que cada artículo aparezca una sola vez por transacción.</li>\n",
    "                            </ul>\n",
    "                        </li>\n",
    "                    </ul>\n",
    "                </li>\n",
    "                <li><code>inspect(transacciones[1:3])</code>:  \n",
    "                    <ul>\n",
    "                        <li>Inspecciona y muestra las primeras cuatro transacciones del objeto <code>transacciones</code>.</li>\n",
    "                        <li>Proporciona detalles como los identificadores de las transacciones y los elementos asociados a cada una.</li>\n",
    "                        <li>Esto es útil para verificar que los datos hayan sido cargados correctamente y que el formato sea el esperado.</li>\n",
    "                    </ul>\n",
    "                </li>\n",
    "            </ul>\n",
    "        </li>\n",
    "        <li><strong>Resultados esperados:</strong>\n",
    "            <ul>\n",
    "                <li>Un objeto de tipo <code>transactions</code> llamado <code>transacciones</code>, listo para realizar análisis de asociación.</li>\n",
    "                <li>La salida en consola de las primeras tres transacciones, mostrando los elementos contenidos en cada una.</li>\n",
    "            </ul>\n",
    "        </li>\n",
    "    </ul>\n",
    "</div>\n"
   ]
  },
  {
   "cell_type": "code",
   "execution_count": 24,
   "metadata": {
    "vscode": {
     "languageId": "r"
    }
   },
   "outputs": [
    {
     "data": {
      "text/plain": [
       "transactions in sparse format with\n",
       " 22 transactions (rows) and\n",
       " 40 items (columns)"
      ]
     },
     "metadata": {},
     "output_type": "display_data"
    }
   ],
   "source": [
    "# IMPORTACIÓN DIRECTA DE LOS DATOS A UN OBJETO TIPO TRANSACTION\n",
    "# ==============================================================================\n",
    "library(arules)\n",
    "transacciones <- read.transactions(\n",
    "  file = \"../../datasets/transactions_formated.csv\",\n",
    "  format = \"basket\",\n",
    "  sep = \",\",\n",
    "  cols = 1,\n",
    "  rm.duplicates = TRUE\n",
    ")\n",
    "transacciones"
   ]
  },
  {
   "cell_type": "code",
   "execution_count": 25,
   "metadata": {
    "vscode": {
     "languageId": "r"
    }
   },
   "outputs": [
    {
     "name": "stdout",
     "output_type": "stream",
     "text": [
      "    items                              transactionID\n",
      "[1] {items}                                         \n",
      "[2] {Blue,                                          \n",
      "     ctr bajo,                                      \n",
      "     duracion_promedio_vistas bajas,                \n",
      "     Friday,                                        \n",
      "     General,                                       \n",
      "     impresiones altas,                             \n",
      "     suscriptores altos,                            \n",
      "     tiempo_reproduccion_horas altas,               \n",
      "     Trivia Facts Quiz,                             \n",
      "     vistas altas}                                 1\n",
      "[3] {Blue,                                          \n",
      "     ctr medio,                                     \n",
      "     duracion_promedio_vistas altas,                \n",
      "     Entertainment Quiz,                            \n",
      "     General,                                       \n",
      "     impresiones altas,                             \n",
      "     suscriptores media,                            \n",
      "     Thursday,                                      \n",
      "     tiempo_reproduccion_horas altas,               \n",
      "     vistas altas}                                 2\n"
     ]
    }
   ],
   "source": [
    "inspect(transacciones[1:3])"
   ]
  },
  {
   "cell_type": "markdown",
   "metadata": {},
   "source": [
    "<div style=\"background-color: #FFFFE0; font-family: 'Times New Roman'; padding: 10px;\">    \n",
    "    <ul>\n",
    "        <li><strong>Propósito general:</strong> Este código calcula el tamaño de cada transacción (es decir, la cantidad de artículos en cada una) y proporciona un resumen estadístico de los tamaños obtenidos.</li>\n",
    "        <li><strong>Operaciones realizadas:</strong>\n",
    "            <ul>\n",
    "                <li><code>tamanyos <- size(transacciones)</code>:  \n",
    "                    <ul>\n",
    "                        <li>Calcula el tamaño de cada transacción en el objeto <code>transacciones</code>.</li>\n",
    "                        <li>El tamaño de una transacción se refiere al número de artículos únicos que contiene.</li>\n",
    "                        <li>El resultado es un vector donde cada elemento representa el tamaño de una transacción específica.</li>\n",
    "                    </ul>\n",
    "                </li>\n",
    "                <li><code>summary(tamanyos)</code>:  \n",
    "                    <ul>\n",
    "                        <li>Proporciona un resumen estadístico del vector <code>tamanyos</code>, incluyendo métricas como:\n",
    "                            <ul>\n",
    "                                <li><strong>Mínimo:</strong> El tamaño más pequeño de las transacciones.</li>\n",
    "                                <li><strong>Primer cuartil:</strong> El valor que separa el 25% de las transacciones más pequeñas.</li>\n",
    "                                <li><strong>Mediana:</strong> El tamaño central de las transacciones.</li>\n",
    "                                <li><strong>Media:</strong> El tamaño promedio de las transacciones.</li>\n",
    "                                <li><strong>Tercer cuartil:</strong> El valor que separa el 25% de las transacciones más grandes.</li>\n",
    "                                <li><strong>Máximo:</strong> El tamaño más grande de las transacciones.</li>\n",
    "                            </ul>\n",
    "                        </li>\n",
    "                        <li>Esto permite obtener una visión general de la distribución de los tamaños de las transacciones en el conjunto de datos.</li>\n",
    "                    </ul>\n",
    "                </li>\n",
    "            </ul>\n",
    "        </li>\n",
    "        <li><strong>Resultados esperados:</strong>\n",
    "            <ul>\n",
    "                <li>Un vector <code>tamanyos</code> que contiene el número de artículos por transacción.</li>\n",
    "                <li>Un resumen estadístico en la consola que describe la distribución de los tamaños de las transacciones.</li>\n",
    "            </ul>\n",
    "        </li>\n",
    "    </ul>\n",
    "</div>\n"
   ]
  },
  {
   "cell_type": "code",
   "execution_count": 26,
   "metadata": {
    "vscode": {
     "languageId": "r"
    }
   },
   "outputs": [
    {
     "data": {
      "text/plain": [
       "   Min. 1st Qu.  Median    Mean 3rd Qu.    Max. \n",
       "  1.000  10.000  10.000   9.591  10.000  10.000 "
      ]
     },
     "metadata": {},
     "output_type": "display_data"
    }
   ],
   "source": [
    "tamanyos <- size(transacciones)\n",
    "summary(tamanyos)"
   ]
  },
  {
   "cell_type": "markdown",
   "metadata": {},
   "source": [
    "<div style=\"background-color: #FFFFE0; font-family: 'Times New Roman'; padding: 10px;\">    \n",
    "    <ul>\n",
    "        <li><strong>Propósito general:</strong> Este código crea un histograma que visualiza la distribución del tamaño de las transacciones, mostrando cuántas transacciones tienen una cantidad específica de artículos.</li>\n",
    "        <li><strong>Operaciones realizadas:</strong>\n",
    "            <ul>\n",
    "                <li><code>data.frame(tamanyos)</code>:  \n",
    "                    <ul>\n",
    "                        <li>Convierte el vector <code>tamanyos</code>, que contiene los tamaños de las transacciones, en un <code>data.frame</code>.</li>\n",
    "                        <li>Esto es necesario para usar <code>ggplot</code>, ya que trabaja principalmente con data frames.</li>\n",
    "                    </ul>\n",
    "                </li>\n",
    "                <li><code>ggplot(aes(x = tamanyos))</code>:  \n",
    "                    <ul>\n",
    "                        <li>Crea un objeto base de <code>ggplot</code> y define el eje <code>x</code> como los valores de <code>tamanyos</code>.</li>\n",
    "                    </ul>\n",
    "                </li>\n",
    "                <li><code>geom_histogram()</code>:  \n",
    "                    <ul>\n",
    "                        <li>Agrega un histograma que representa la frecuencia de cada tamaño de transacción.</li>\n",
    "                        <li>Las barras del histograma muestran cuántas transacciones tienen un tamaño específico.</li>\n",
    "                    </ul>\n",
    "                </li>\n",
    "                <li><code>labs(...)</code>:  \n",
    "                    <ul>\n",
    "                        <li>Define los títulos y etiquetas del gráfico:</li>\n",
    "                        <ul>\n",
    "                            <li><code>title</code>: Título principal del gráfico, \"Distribución del tamaño de las transacciones\".</li>\n",
    "                            <li><code>x</code>: Etiqueta del eje X, \"Tamaño\".</li>\n",
    "                        </ul>\n",
    "                    </ul>\n",
    "                </li>\n",
    "                <li><code>theme_bw()</code>:  \n",
    "                    <ul>\n",
    "                        <li>Aplica el tema blanco y negro, que mejora la legibilidad del gráfico con un diseño limpio.</li>\n",
    "                    </ul>\n",
    "                </li>\n",
    "            </ul>\n",
    "        </li>\n",
    "        <li><strong>Resultados esperados:</strong>\n",
    "            <ul>\n",
    "                <li>Un histograma que muestra la distribución del tamaño de las transacciones en el conjunto de datos.</li>\n",
    "                <li>El gráfico aparecerá en el visor de gráficos del entorno R.</li>\n",
    "            </ul>\n",
    "        </li>\n",
    "    </ul>\n",
    "</div>\n"
   ]
  },
  {
   "cell_type": "code",
   "execution_count": 27,
   "metadata": {
    "vscode": {
     "languageId": "r"
    }
   },
   "outputs": [
    {
     "name": "stderr",
     "output_type": "stream",
     "text": [
      "\u001b[1m\u001b[22m`stat_bin()` using `bins = 30`. Pick better value with `binwidth`.\n"
     ]
    },
    {
     "data": {
      "image/png": "[encoded data removed]",
      "text/plain": [
       "plot without title"
      ]
     },
     "metadata": {
      "image/png": {
       "height": 420,
       "width": 420
      }
     },
     "output_type": "display_data"
    }
   ],
   "source": [
    "data.frame(tamanyos) %>%\n",
    "  ggplot(aes(x = tamanyos)) +\n",
    "  geom_histogram() +\n",
    "  labs(\n",
    "    title = \"Distribución del tamaño de las transacciones\",\n",
    "    x = \"Tamaño\"\n",
    "  ) +\n",
    "  theme_bw()"
   ]
  },
  {
   "cell_type": "markdown",
   "metadata": {},
   "source": [
    "<div style=\"background-color: #FFFFE0; font-family: 'Times New Roman'; padding: 10px;\">    \n",
    "    <ul>\n",
    "        <li><strong>Propósito general:</strong> Este código calcula la frecuencia relativa de los elementos en las transacciones y muestra los 5 artículos más frecuentes.</li>\n",
    "        <li><strong>Operaciones realizadas:</strong>\n",
    "            <ul>\n",
    "                <li><code>frecuencia_items <- itemFrequency(x = transacciones, type = \"relative\")</code>:  \n",
    "                    <ul>\n",
    "                        <li>Calcula la frecuencia relativa de cada artículo en el conjunto de transacciones.</li>\n",
    "                        <li>La función <code>itemFrequency()</code> devuelve un vector donde cada elemento representa la frecuencia relativa de un artículo en todas las transacciones.</li>\n",
    "                        <li>El parámetro <code>type = \"relative\"</code> especifica que se debe calcular la frecuencia relativa, es decir, la proporción de transacciones que contienen un artículo específico en lugar de su frecuencia absoluta.</li>\n",
    "                    </ul>\n",
    "                </li>\n",
    "                <li><code>frecuencia_items %>% sort(decreasing = TRUE) %>% head(5)</code>:  \n",
    "                    <ul>\n",
    "                        <li>Usa la tubería <code>%>%</code> para encadenar operaciones sobre el vector de frecuencias:</li>\n",
    "                        <ul>\n",
    "                            <li><code>sort(decreasing = TRUE)</code>: Ordena las frecuencias de manera descendente, mostrando primero los artículos más frecuentes.</li>\n",
    "                            <li><code>head(5)</code>: Muestra los primeros 5 artículos más frecuentes en el conjunto de transacciones.</li>\n",
    "                        </ul>\n",
    "                    </ul>\n",
    "                </li>\n",
    "            </ul>\n",
    "        </li>\n",
    "        <li><strong>Resultados esperados:</strong>\n",
    "            <ul>\n",
    "                <li>Un vector que contiene la frecuencia relativa de los artículos más frecuentes en las transacciones, ordenados de mayor a menor.</li>\n",
    "                <li>La salida en consola mostrará los 5 artículos con la mayor frecuencia relativa.</li>\n",
    "            </ul>\n",
    "        </li>\n",
    "    </ul>\n",
    "</div>\n"
   ]
  },
  {
   "cell_type": "code",
   "execution_count": 28,
   "metadata": {
    "vscode": {
     "languageId": "r"
    }
   },
   "outputs": [
    {
     "data": {
      "text/html": [
       "<style>\n",
       ".dl-inline {width: auto; margin:0; padding: 0}\n",
       ".dl-inline>dt, .dl-inline>dd {float: none; width: auto; display: inline-block}\n",
       ".dl-inline>dt::after {content: \":\\0020\"; padding-right: .5ex}\n",
       ".dl-inline>dt:not(:first-of-type) {padding-left: .5ex}\n",
       "</style><dl class=dl-inline><dt>tiempo_reproduccion_horas bajas</dt><dd>0.818181818181818</dd><dt>suscriptores bajos</dt><dd>0.772727272727273</dd><dt>Children</dt><dd>0.5</dd><dt>General</dt><dd>0.454545454545455</dd><dt>Blue</dt><dd>0.409090909090909</dd></dl>\n"
      ],
      "text/latex": [
       "\\begin{description*}\n",
       "\\item[tiempo\\textbackslash{}\\_reproduccion\\textbackslash{}\\_horas bajas] 0.818181818181818\n",
       "\\item[suscriptores bajos] 0.772727272727273\n",
       "\\item[Children] 0.5\n",
       "\\item[General] 0.454545454545455\n",
       "\\item[Blue] 0.409090909090909\n",
       "\\end{description*}\n"
      ],
      "text/markdown": [
       "tiempo_reproduccion_horas bajas\n",
       ":   0.818181818181818suscriptores bajos\n",
       ":   0.772727272727273Children\n",
       ":   0.5General\n",
       ":   0.454545454545455Blue\n",
       ":   0.409090909090909\n",
       "\n"
      ],
      "text/plain": [
       "tiempo_reproduccion_horas bajas              suscriptores bajos \n",
       "                      0.8181818                       0.7727273 \n",
       "                       Children                         General \n",
       "                      0.5000000                       0.4545455 \n",
       "                           Blue \n",
       "                      0.4090909 "
      ]
     },
     "metadata": {},
     "output_type": "display_data"
    }
   ],
   "source": [
    "frecuencia_items <- itemFrequency(x = transacciones, type = \"relative\")\n",
    "frecuencia_items %>%\n",
    "  sort(decreasing = TRUE) %>%\n",
    "  head(5)"
   ]
  },
  {
   "cell_type": "markdown",
   "metadata": {},
   "source": [
    "<div style=\"background-color: #FFFFE0; font-family: 'Times New Roman'; padding: 10px;\">    \n",
    "    <ul>\n",
    "        <li><strong>Propósito general:</strong> Este código utiliza el algoritmo <code>apriori</code> para encontrar conjuntos de artículos frecuentes en las transacciones, basándose en un umbral de soporte mínimo calculado dinámicamente.</li>\n",
    "        <li><strong>Operaciones realizadas:</strong>\n",
    "            <ul>\n",
    "                <li><code>soporte <- 2 / dim(transacciones)[1]</code>:  \n",
    "                    <ul>\n",
    "                        <li>Calcula el soporte mínimo para los conjuntos frecuentes.</li>\n",
    "                        <li><code>dim(transacciones)[1]</code> devuelve el número de transacciones en el conjunto de datos.</li>\n",
    "                        <li>El soporte se define como la proporción de transacciones que deben contener un artículo o conjunto de artículos para ser considerados frecuentes. En este caso, el soporte mínimo es 2 dividido por el número total de transacciones.</li>\n",
    "                    </ul>\n",
    "                </li>\n",
    "                <li><code>itemsets <- apriori(...)</code>:  \n",
    "                    <ul>\n",
    "                        <li>Aplica el algoritmo <code>apriori</code> para encontrar conjuntos de artículos frecuentes.</li>\n",
    "                        <li>El parámetro <code>data = transacciones</code> indica que el conjunto de datos de transacciones se utiliza para buscar los conjuntos frecuentes.</li>\n",
    "                        <li>El parámetro <code>parameter</code> define los criterios del algoritmo:\n",
    "                            <ul>\n",
    "                                <li><code>support = soporte</code>: Define el soporte mínimo calculado anteriormente.</li>\n",
    "                                <li><code>minlen = 1</code>: Define la longitud mínima de los conjuntos de artículos (en este caso, se buscan conjuntos de al menos un artículo).</li>\n",
    "                                <li><code>maxlen = 20</code>: Define la longitud máxima de los conjuntos de artículos (se consideran conjuntos de hasta 20 artículos).</li>\n",
    "                                <li><code>target = \"frequent itemset\"</code>: Especifica que el objetivo es encontrar \"conjuntos de artículos frecuentes\".</li>\n",
    "                            </ul>\n",
    "                        </li>\n",
    "                    </ul>\n",
    "                </li>\n",
    "            </ul>\n",
    "        </li>\n",
    "        <li><strong>Resultados esperados:</strong>\n",
    "            <ul>\n",
    "                <li>Un objeto <code>itemsets</code> que contiene los conjuntos de artículos frecuentes que cumplen con el umbral de soporte mínimo definido.</li>\n",
    "                <li>Este objeto puede ser inspeccionado para ver los conjuntos de artículos frecuentes generados por el algoritmo <code>apriori</code>.</li>\n",
    "            </ul>\n",
    "        </li>\n",
    "    </ul>\n",
    "</div>\n"
   ]
  },
  {
   "cell_type": "code",
   "execution_count": 29,
   "metadata": {
    "vscode": {
     "languageId": "r"
    }
   },
   "outputs": [
    {
     "name": "stdout",
     "output_type": "stream",
     "text": [
      "Apriori\n",
      "\n",
      "Parameter specification:\n",
      " confidence minval smax arem  aval originalSupport maxtime   support minlen\n",
      "         NA    0.1    1 none FALSE            TRUE       5 0.1818182      1\n",
      " maxlen            target  ext\n",
      "     20 frequent itemsets TRUE\n",
      "\n",
      "Algorithmic control:\n",
      " filter tree heap memopt load sort verbose\n",
      "    0.1 TRUE TRUE  FALSE TRUE    2    TRUE\n",
      "\n",
      "Absolute minimum support count: 4 \n",
      "\n",
      "set item appearances ...[0 item(s)] done [0.00s].\n",
      "set transactions ...[40 item(s), 22 transaction(s)] done [0.00s].\n",
      "sorting and recoding items ... [23 item(s)] done [0.00s].\n",
      "creating transaction tree ... done [0.00s].\n",
      "checking subsets of size 1 2 3 4 5 6 done [0.00s].\n",
      "sorting transactions ... done [0.00s].\n",
      "writing ... [289 set(s)] done [0.00s].\n",
      "creating S4 object  ... done [0.00s].\n"
     ]
    }
   ],
   "source": [
    "soporte <- 4 / dim(transacciones)[1]\n",
    "itemsets <- apriori(\n",
    "  data = transacciones,\n",
    "  parameter = list(\n",
    "    support = soporte,\n",
    "    minlen = 1,\n",
    "    maxlen = 20,\n",
    "    target = \"frequent itemset\"\n",
    "  )\n",
    ")"
   ]
  },
  {
   "cell_type": "code",
   "execution_count": 30,
   "metadata": {
    "vscode": {
     "languageId": "r"
    }
   },
   "outputs": [
    {
     "name": "stdout",
     "output_type": "stream",
     "text": [
      "     items                                support count\n",
      "[1]  {suscriptores bajos,                              \n",
      "      tiempo_reproduccion_horas bajas}  0.7727273    17\n",
      "[2]  {Children,                                        \n",
      "      tiempo_reproduccion_horas bajas}  0.5000000    11\n",
      "[3]  {Children,                                        \n",
      "      suscriptores bajos}               0.4545455    10\n",
      "[4]  {Children,                                        \n",
      "      suscriptores bajos,                              \n",
      "      tiempo_reproduccion_horas bajas}  0.4545455    10\n",
      "[5]  {impresiones bajas,                               \n",
      "      suscriptores bajos}               0.3636364     8\n",
      "[6]  {impresiones bajas,                               \n",
      "      tiempo_reproduccion_horas bajas}  0.3636364     8\n",
      "[7]  {duracion_promedio_vistas bajas,                  \n",
      "      tiempo_reproduccion_horas bajas}  0.3636364     8\n",
      "[8]  {ctr bajo,                                        \n",
      "      suscriptores bajos}               0.3636364     8\n",
      "[9]  {ctr bajo,                                        \n",
      "      tiempo_reproduccion_horas bajas}  0.3636364     8\n",
      "[10] {impresiones bajas,                               \n",
      "      suscriptores bajos,                              \n",
      "      tiempo_reproduccion_horas bajas}  0.3636364     8\n",
      "[11] {ctr bajo,                                        \n",
      "      suscriptores bajos,                              \n",
      "      tiempo_reproduccion_horas bajas}  0.3636364     8\n",
      "[12] {suscriptores bajos,                              \n",
      "      vistas medias}                    0.3181818     7\n",
      "[13] {tiempo_reproduccion_horas bajas,                 \n",
      "      vistas medias}                    0.3181818     7\n",
      "[14] {impresiones altas,                               \n",
      "      vistas altas}                     0.3181818     7\n",
      "[15] {suscriptores bajos,                              \n",
      "      vistas bajas}                     0.3181818     7\n",
      "[16] {tiempo_reproduccion_horas bajas,                 \n",
      "      vistas bajas}                     0.3181818     7\n",
      "[17] {General,                                         \n",
      "      impresiones altas}                0.3181818     7\n",
      "[18] {duracion_promedio_vistas medias,                 \n",
      "      suscriptores bajos}               0.3181818     7\n",
      "[19] {duracion_promedio_vistas medias,                 \n",
      "      tiempo_reproduccion_horas bajas}  0.3181818     7\n",
      "[20] {duracion_promedio_vistas bajas,                  \n",
      "      Trivia Facts Quiz}                0.3181818     7\n"
     ]
    }
   ],
   "source": [
    "# Se muestran los top 20 itemsets formados por más de un item.\n",
    "# de mayor a menor soporte\n",
    "top_20_itemsets <- sort(itemsets[size(itemsets) > 1], by = \"support\",\n",
    "                        decreasing = TRUE)[1:20]\n",
    "inspect(top_20_itemsets)\n"
   ]
  },
  {
   "cell_type": "markdown",
   "metadata": {},
   "source": [
    "<div style=\"background-color: #FFFFE0; font-family: 'Times New Roman'; padding: 10px;\">    \n",
    "    <ul>\n",
    "        <li><strong>Propósito general:</strong> Este código convierte los 20 conjuntos de artículos más frecuentes en un formato adecuado para <code>ggplot2</code> y los visualiza en un gráfico de barras horizontales.</li>\n",
    "        <li><strong>Operaciones realizadas:</strong>\n",
    "            <ul>\n",
    "                <li><code>as(sort(itemsets, by = \"support\", decreasing = TRUE)[1:20], Class = \"data.frame\")</code>:  \n",
    "                    <ul>\n",
    "                        <li>Convierte el objeto <code>itemsets</code> en un <code>data.frame</code> para ser utilizado en <code>ggplot</code>.</li>\n",
    "                        <li><code>sort(itemsets, by = \"support\", decreasing = TRUE)</code> ordena los conjuntos de artículos por su soporte de manera descendente.</li>\n",
    "                        <li>El parámetro <code>[1:20]</code> selecciona los primeros 20 conjuntos de artículos más frecuentes.</li>\n",
    "                    </ul>\n",
    "                </li>\n",
    "                <li><code>ggplot(aes(x = reorder(items, support), y = support))</code>:  \n",
    "                    <ul>\n",
    "                        <li>Usa <code>ggplot</code> para crear un gráfico donde el eje <code>x</code> representa los nombres de los artículos (<code>items</code>) y el eje <code>y</code> representa su soporte.</li>\n",
    "                        <li><code>reorder(items, support)</code> reorganiza los artículos en el eje <code>x</code> de acuerdo con su valor de soporte.</li>\n",
    "                    </ul>\n",
    "                </li>\n",
    "                <li><code>geom_col()</code>:  \n",
    "                    <ul>\n",
    "                        <li>Crea un gráfico de barras utilizando los valores de soporte para cada conjunto de artículos.</li>\n",
    "                    </ul>\n",
    "                </li>\n",
    "                <li><code>coord_flip()</code>:  \n",
    "                    <ul>\n",
    "                        <li>Invierte el gráfico, colocando las barras de manera horizontal en lugar de vertical.</li>\n",
    "                    </ul>\n",
    "                </li>\n",
    "                <li><code>labs(title = \"Itemsets más frecuentes\", x = \"itemsets\")</code>:  \n",
    "                    <ul>\n",
    "                        <li>Establece el título del gráfico como \"Itemsets más frecuentes\" y la etiqueta del eje <code>x</code> como \"itemsets\".</li>\n",
    "                    </ul>\n",
    "                </li>\n",
    "                <li><code>theme_bw()</code>:  \n",
    "                    <ul>\n",
    "                        <li>Aplica el tema blanco y negro para un estilo limpio y profesional.</li>\n",
    "                    </ul>\n",
    "                </li>\n",
    "            </ul>\n",
    "        </li>\n",
    "        <li><strong>Resultados esperados:</strong>\n",
    "            <ul>\n",
    "                <li>Un gráfico de barras horizontales que muestra los 20 conjuntos de artículos más frecuentes, ordenados por su soporte.</li>\n",
    "                <li>El gráfico será generado en el visor de gráficos de R y proporcionará una visualización clara de los conjuntos de artículos con mayor soporte.</li>\n",
    "            </ul>\n",
    "        </li>\n",
    "    </ul>\n",
    "</div>\n"
   ]
  },
  {
   "cell_type": "code",
   "execution_count": 31,
   "metadata": {
    "vscode": {
     "languageId": "r"
    }
   },
   "outputs": [
    {
     "data": {
      "image/png": "[encoded data removed]",
      "text/plain": [
       "plot without title"
      ]
     },
     "metadata": {
      "image/png": {
       "height": 420,
       "width": 420
      }
     },
     "output_type": "display_data"
    }
   ],
   "source": [
    "# Para representarlos con ggplot se convierte a dataframe\n",
    "as(sort(itemsets, by = \"support\", decreasing = TRUE)[1:20],\n",
    "   Class = \"data.frame\") %>%\n",
    "  ggplot(aes(x = reorder(items, support), y = support)) +\n",
    "  geom_col() +\n",
    "  coord_flip() +\n",
    "  labs(title = \"Itemsets más frecuentes\", x = \"itemsets\") +\n",
    "  theme_bw()"
   ]
  },
  {
   "cell_type": "markdown",
   "metadata": {},
   "source": [
    "<div style=\"background-color: #FFFFE0; font-family: 'Times New Roman'; padding: 10px;\">    \n",
    "    <ul>\n",
    "        <li><strong>Propósito general:</strong> Esta celda filtra los itemsets generados anteriormente para que solo contengan ciertos valores de interés definidos en el vector <code>interesting_values</code>, lo que permite enfocar el análisis en los itemsets que contienen combinaciones específicas de categorías, como \"vistas medias\", \"impresiones altas\", etc.</li>\n",
    "        <li><strong>Descripción detallada:</strong>\n",
    "            <ul>\n",
    "                <li><code>interesting_values <- c(...)</code>:  \n",
    "                    <ul>\n",
    "                        <li>Define un vector <code>interesting_values</code> con una lista de categorías de interés relacionadas con las características de los datos (por ejemplo, \"vistas medias\", \"impresiones altas\", \"suscriptores altos\", etc.). Este vector contiene las combinaciones que se buscan en los itemsets.</li>\n",
    "                    </ul>\n",
    "                </li>\n",
    "                <li><code>itemsets_filtrado <- arules::subset(itemsets, subset = items %in% interesting_values)</code>:  \n",
    "                    <ul>\n",
    "                        <li>Utiliza la función <code>subset()</code> del paquete <code>arules</code> para filtrar los itemsets en función de los elementos del vector <code>interesting_values</code>.</li>\n",
    "                        <li><code>%in%</code> es un operador que verifica si los items de los itemsets están presentes en el vector <code>interesting_values</code>.</li>\n",
    "                        <li>El resultado es un conjunto filtrado de itemsets que solo contiene aquellos que tienen items que coinciden con las categorías definidas en el vector.</li>\n",
    "                    </ul>\n",
    "                </li>\n",
    "                <li><code>itemsets_filtrado</code>:  \n",
    "                    <ul>\n",
    "                        <li>Muestra los itemsets filtrados que cumplen con los criterios establecidos (es decir, que contienen elementos de <code>interesting_values</code>).</li>\n",
    "                    </ul>\n",
    "                </li>\n",
    "            </ul>\n",
    "        </li>\n",
    "        <li><strong>Ventajas de saber esto de antemano:</strong>\n",
    "            <ul>\n",
    "                <li>Este filtrado permite que el análisis se enfoque solo en los itemsets más relevantes, lo que mejora la eficiencia y precisión del estudio.</li>\n",
    "                <li>El uso del operador <code>%in%</code> con un vector predefinido facilita la identificación de patrones y asociaciones de interés, sin tener que revisar manualmente todos los posibles itemsets.</li>\n",
    "                <li>Al concentrarse en categorías específicas, este enfoque reduce el volumen de datos procesados y mejora la comprensión de las relaciones entre las características clave del conjunto de datos.</li>\n",
    "                <li>El filtrado basado en valores predefinidos permite un análisis dirigido y puede ser útil para investigaciones o análisis posteriores que se centren en ciertas combinaciones de atributos.</li>\n",
    "            </ul>\n",
    "        </li>\n",
    "    </ul>\n",
    "</div>\n"
   ]
  },
  {
   "cell_type": "code",
   "execution_count": 32,
   "metadata": {
    "vscode": {
     "languageId": "r"
    }
   },
   "outputs": [
    {
     "data": {
      "text/plain": [
       "set of 82 itemsets "
      ]
     },
     "metadata": {},
     "output_type": "display_data"
    }
   ],
   "source": [
    "interesting_values <- c(\n",
    "  \"vistas medias\", \"vistas altas\",\n",
    "  \"impresiones medias\", \"impresiones altas\",\n",
    "  \"suscriptores media\", \"suscriptores altos\",\n",
    "  \"tiempo_reproduccion_horas medias\", \"tiempo_reproduccion_horas altas\",\n",
    "  \"duracion_promedio_vistas medias\", \"duracion_promedio_vistas altas\"\n",
    ")\n",
    "\n",
    "itemsets_filtrado <- arules::subset(itemsets,\n",
    "  subset = items %in% interesting_values\n",
    ")\n",
    "itemsets_filtrado"
   ]
  },
  {
   "cell_type": "code",
   "execution_count": 33,
   "metadata": {
    "vscode": {
     "languageId": "r"
    }
   },
   "outputs": [
    {
     "name": "stdout",
     "output_type": "stream",
     "text": [
      "     items                                                 support   count\n",
      "[1]  {duracion_promedio_vistas altas}                      0.1818182 4    \n",
      "[2]  {impresiones medias}                                  0.2272727 5    \n",
      "[3]  {vistas medias}                                       0.3181818 7    \n",
      "[4]  {vistas altas}                                        0.3181818 7    \n",
      "[5]  {impresiones altas}                                   0.3636364 8    \n",
      "[6]  {duracion_promedio_vistas medias}                     0.3636364 8    \n",
      "[7]  {duracion_promedio_vistas altas, impresiones altas}   0.1818182 4    \n",
      "[8]  {duracion_promedio_vistas altas, General}             0.1818182 4    \n",
      "[9]  {impresiones medias, vistas medias}                   0.1818182 4    \n",
      "[10] {duracion_promedio_vistas medias, impresiones medias} 0.1818182 4    \n",
      "[11] {ctr bajo, impresiones medias}                        0.1818182 4    \n",
      "[12] {Children, impresiones medias}                        0.1818182 4    \n",
      "[13] {impresiones medias, suscriptores bajos}              0.2272727 5    \n",
      "[14] {impresiones medias, tiempo_reproduccion_horas bajas} 0.2272727 5    \n",
      "[15] {Friday, impresiones altas}                           0.1818182 4    \n",
      "[16] {duracion_promedio_vistas medias, vistas medias}      0.1818182 4    \n",
      "[17] {ctr bajo, vistas medias}                             0.1818182 4    \n",
      "[18] {Children, vistas medias}                             0.2727273 6    \n",
      "[19] {suscriptores bajos, vistas medias}                   0.3181818 7    \n",
      "[20] {tiempo_reproduccion_horas bajas, vistas medias}      0.3181818 7    \n"
     ]
    }
   ],
   "source": [
    "# Se muestran 10 de ellos\n",
    "inspect(itemsets_filtrado[1:20])"
   ]
  },
  {
   "cell_type": "markdown",
   "metadata": {},
   "source": [
    "<div style=\"background-color: #FFFFE0; font-family: 'Times New Roman'; padding: 10px;\">    \n",
    "    <ul>\n",
    "        <li><strong>Propósito general:</strong> Esta celda genera reglas de asociación utilizando el algoritmo Apriori sobre el conjunto de transacciones. Las reglas se crean con un umbral mínimo de soporte y confianza, lo que ayuda a identificar asociaciones significativas entre los ítems en las transacciones.</li>\n",
    "        <li><strong>Descripción detallada:</strong>\n",
    "            <ul>\n",
    "                <li><code>soporte <- 8 / dim(transacciones)[1]</code>:  \n",
    "                    <ul>\n",
    "                        <li>Define el valor de soporte mínimo para las reglas de asociación. El soporte se calcula como el número 8 dividido por el número total de transacciones (obtenido con <code>dim(transacciones)[1]</code>). Este soporte indica cuántas transacciones deben contener un ítem para que una regla sea considerada válida.</li>\n",
    "                    </ul>\n",
    "                </li>\n",
    "                <li><code>reglas <- apriori(data = transacciones, parameter = list(...))</code>:  \n",
    "                    <ul>\n",
    "                        <li>Aplica el algoritmo Apriori para generar las reglas de asociación a partir del conjunto de transacciones. El parámetro <code>data = transacciones</code> indica el conjunto de datos sobre el cual se aplicará el algoritmo.</li>\n",
    "                        <li><code>parameter = list(support = soporte, confidence = 0.70, target = \"rules\")</code>:\n",
    "                            <ul>\n",
    "                                <li><code>support = soporte</code>: El valor de soporte mínimo establecido previamente se utiliza para filtrar las reglas. Solo las reglas con un soporte mayor o igual a este valor serán consideradas.</li>\n",
    "                                <li><code>confidence = 0.70</code>: Establece el valor mínimo de confianza para las reglas, es decir, la probabilidad de que la consecuencia de la regla ocurra dado que la condición se cumple. En este caso, solo se considerarán reglas con una confianza de al menos 70%.</li>\n",
    "                                <li><code>target = \"rules\"</code>: Especifica que el objetivo del algoritmo es generar reglas de asociación.</li>\n",
    "                            </ul>\n",
    "                        </li>\n",
    "                    </ul>\n",
    "                </li>\n",
    "            </ul>\n",
    "        </li>\n",
    "    </ul>\n",
    "</div>\n"
   ]
  },
  {
   "cell_type": "code",
   "execution_count": 34,
   "metadata": {
    "vscode": {
     "languageId": "r"
    }
   },
   "outputs": [
    {
     "name": "stdout",
     "output_type": "stream",
     "text": [
      "Apriori\n",
      "\n",
      "Parameter specification:\n",
      " confidence minval smax arem  aval originalSupport maxtime   support minlen\n",
      "        0.7    0.1    1 none FALSE            TRUE       5 0.3636364      1\n",
      " maxlen target  ext\n",
      "     10  rules TRUE\n",
      "\n",
      "Algorithmic control:\n",
      " filter tree heap memopt load sort verbose\n",
      "    0.1 TRUE TRUE  FALSE TRUE    2    TRUE\n",
      "\n",
      "Absolute minimum support count: 8 \n",
      "\n",
      "set item appearances ...[0 item(s)] done [0.00s].\n",
      "set transactions ...[40 item(s), 22 transaction(s)] done [0.00s].\n",
      "sorting and recoding items ... [13 item(s)] done [0.00s].\n",
      "creating transaction tree ... done [0.00s].\n",
      "checking subsets of size 1 2 3 done [0.00s].\n",
      "writing ... [17 rule(s)] done [0.00s].\n",
      "creating S4 object  ... done [0.00s].\n"
     ]
    }
   ],
   "source": [
    "soporte <- 8 / dim(transacciones)[1]\n",
    "reglas <- apriori(\n",
    "  data = transacciones,\n",
    "  parameter = list(\n",
    "    support = soporte,\n",
    "    confidence = 0.70,\n",
    "    # Se especifica que se creen reglas\n",
    "    target = \"rules\"\n",
    "  )\n",
    ")"
   ]
  },
  {
   "cell_type": "markdown",
   "metadata": {},
   "source": [
    "<div style=\"background-color: #FFFFE0; font-family: 'Times New Roman'; padding: 10px;\">    \n",
    "    <ul>\n",
    "        <li><strong>Propósito general:</strong> Esta celda calcula dos métricas adicionales, el <strong>coverage</strong> y el <strong>Fisher's Exact Test</strong>, para las reglas generadas por el algoritmo Apriori. Estas métricas permiten evaluar la calidad de las reglas en términos de su cobertura en las transacciones y la significancia estadística.</li>\n",
    "        <li><strong>Descripción detallada:</strong>\n",
    "            <ul>\n",
    "                <li><code>interestMeasure(reglas, measure = c(\"coverage\", \"fishersExactTest\"), transactions = transacciones)</code>:  \n",
    "                    <ul>\n",
    "                        <li>La función <code>interestMeasure()</code> calcula varias métricas de interés para las reglas generadas. En este caso, se están calculando dos métricas: <strong>coverage</strong> y <strong>Fisher's Exact Test</strong>.</li>\n",
    "                        <li><strong>Coverage</strong>:  \n",
    "                            <ul>\n",
    "                                <li>es el soporte de la parte izquierda de la regla (antecedente). Se interpreta como la frecuencia con la que el antecedente aparece en el conjunto de transacciones.</li>\n",
    "                            </ul>\n",
    "                        </li>\n",
    "                        <li><strong>Fisher's Exact Test</strong>:  \n",
    "                            <ul>\n",
    "                                <li>Este test calcula el valor p asociado con la probabilidad de que la regla haya ocurrido por azar.</li>\n",
    "                                <li><strong>Interpretación:</strong> Un valor p bajo (generalmente menor que 0.05) indica que la regla es estadísticamente significativa, es decir, es poco probable que haya ocurrido por azar.</li>\n",
    "                            </ul>\n",
    "                        </li>\n",
    "                    </ul>\n",
    "                </li>\n",
    "                <li><code>metricas</code>:  \n",
    "                    <ul>\n",
    "                        <li>El resultado de la función <code>interestMeasure()</code> se almacena en la variable <code>metricas</code>, que contiene las métricas calculadas para cada regla. Esto permite evaluar la calidad de las reglas en términos de su cobertura y significancia estadística.</li>\n",
    "                    </ul>\n",
    "                </li>\n",
    "            </ul>\n",
    "        </li>\n",
    "    </ul>\n",
    "</div>\n"
   ]
  },
  {
   "cell_type": "code",
   "execution_count": 35,
   "metadata": {
    "vscode": {
     "languageId": "r"
    }
   },
   "outputs": [
    {
     "data": {
      "text/html": [
       "<table class=\"dataframe\">\n",
       "<caption>A data.frame: 17 × 2</caption>\n",
       "<thead>\n",
       "\t<tr><th scope=col>coverage</th><th scope=col>fishersExactTest</th></tr>\n",
       "\t<tr><th scope=col>&lt;dbl&gt;</th><th scope=col>&lt;dbl&gt;</th></tr>\n",
       "</thead>\n",
       "<tbody>\n",
       "\t<tr><td>1.0000000</td><td>1.000000000</td></tr>\n",
       "\t<tr><td>1.0000000</td><td>1.000000000</td></tr>\n",
       "\t<tr><td>0.3636364</td><td>0.076023392</td></tr>\n",
       "\t<tr><td>0.3636364</td><td>0.136842105</td></tr>\n",
       "\t<tr><td>0.4090909</td><td>0.293233083</td></tr>\n",
       "\t<tr><td>0.4090909</td><td>0.449624060</td></tr>\n",
       "\t<tr><td>0.4090909</td><td>0.449624060</td></tr>\n",
       "\t<tr><td>0.5000000</td><td>0.155388471</td></tr>\n",
       "\t<tr><td>0.5000000</td><td>0.045112782</td></tr>\n",
       "\t<tr><td>0.7727273</td><td>0.000683527</td></tr>\n",
       "\t<tr><td>0.8181818</td><td>0.000683527</td></tr>\n",
       "\t<tr><td>0.3636364</td><td>0.136842105</td></tr>\n",
       "\t<tr><td>0.3636364</td><td>0.076023392</td></tr>\n",
       "\t<tr><td>0.3636364</td><td>0.136842105</td></tr>\n",
       "\t<tr><td>0.3636364</td><td>0.076023392</td></tr>\n",
       "\t<tr><td>0.4545455</td><td>0.067669173</td></tr>\n",
       "\t<tr><td>0.5000000</td><td>0.155388471</td></tr>\n",
       "</tbody>\n",
       "</table>\n"
      ],
      "text/latex": [
       "A data.frame: 17 × 2\n",
       "\\begin{tabular}{ll}\n",
       " coverage & fishersExactTest\\\\\n",
       " <dbl> & <dbl>\\\\\n",
       "\\hline\n",
       "\t 1.0000000 & 1.000000000\\\\\n",
       "\t 1.0000000 & 1.000000000\\\\\n",
       "\t 0.3636364 & 0.076023392\\\\\n",
       "\t 0.3636364 & 0.136842105\\\\\n",
       "\t 0.4090909 & 0.293233083\\\\\n",
       "\t 0.4090909 & 0.449624060\\\\\n",
       "\t 0.4090909 & 0.449624060\\\\\n",
       "\t 0.5000000 & 0.155388471\\\\\n",
       "\t 0.5000000 & 0.045112782\\\\\n",
       "\t 0.7727273 & 0.000683527\\\\\n",
       "\t 0.8181818 & 0.000683527\\\\\n",
       "\t 0.3636364 & 0.136842105\\\\\n",
       "\t 0.3636364 & 0.076023392\\\\\n",
       "\t 0.3636364 & 0.136842105\\\\\n",
       "\t 0.3636364 & 0.076023392\\\\\n",
       "\t 0.4545455 & 0.067669173\\\\\n",
       "\t 0.5000000 & 0.155388471\\\\\n",
       "\\end{tabular}\n"
      ],
      "text/markdown": [
       "\n",
       "A data.frame: 17 × 2\n",
       "\n",
       "| coverage &lt;dbl&gt; | fishersExactTest &lt;dbl&gt; |\n",
       "|---|---|\n",
       "| 1.0000000 | 1.000000000 |\n",
       "| 1.0000000 | 1.000000000 |\n",
       "| 0.3636364 | 0.076023392 |\n",
       "| 0.3636364 | 0.136842105 |\n",
       "| 0.4090909 | 0.293233083 |\n",
       "| 0.4090909 | 0.449624060 |\n",
       "| 0.4090909 | 0.449624060 |\n",
       "| 0.5000000 | 0.155388471 |\n",
       "| 0.5000000 | 0.045112782 |\n",
       "| 0.7727273 | 0.000683527 |\n",
       "| 0.8181818 | 0.000683527 |\n",
       "| 0.3636364 | 0.136842105 |\n",
       "| 0.3636364 | 0.076023392 |\n",
       "| 0.3636364 | 0.136842105 |\n",
       "| 0.3636364 | 0.076023392 |\n",
       "| 0.4545455 | 0.067669173 |\n",
       "| 0.5000000 | 0.155388471 |\n",
       "\n"
      ],
      "text/plain": [
       "   coverage  fishersExactTest\n",
       "1  1.0000000 1.000000000     \n",
       "2  1.0000000 1.000000000     \n",
       "3  0.3636364 0.076023392     \n",
       "4  0.3636364 0.136842105     \n",
       "5  0.4090909 0.293233083     \n",
       "6  0.4090909 0.449624060     \n",
       "7  0.4090909 0.449624060     \n",
       "8  0.5000000 0.155388471     \n",
       "9  0.5000000 0.045112782     \n",
       "10 0.7727273 0.000683527     \n",
       "11 0.8181818 0.000683527     \n",
       "12 0.3636364 0.136842105     \n",
       "13 0.3636364 0.076023392     \n",
       "14 0.3636364 0.136842105     \n",
       "15 0.3636364 0.076023392     \n",
       "16 0.4545455 0.067669173     \n",
       "17 0.5000000 0.155388471     "
      ]
     },
     "metadata": {},
     "output_type": "display_data"
    }
   ],
   "source": [
    "metricas <- interestMeasure(reglas,\n",
    "  measure = c(\"coverage\", \"fishersExactTest\"),\n",
    "  transactions = transacciones\n",
    ")\n",
    "metricas"
   ]
  },
  {
   "cell_type": "markdown",
   "metadata": {},
   "source": [
    "<div style=\"background-color: #FFFFE0; font-family: 'Times New Roman'; padding: 10px;\">    \n",
    "    <ul>\n",
    "        <li><strong>Propósito general:</strong> Esta celda agrega métricas adicionales a las reglas generadas y luego las convierte a un formato de <code>data.frame</code> para facilitar su visualización y análisis, ordenando las reglas por su nivel de confianza de manera descendente.</li>\n",
    "        <li><strong>Descripción detallada:</strong>\n",
    "            <ul>\n",
    "                <li><code>quality(reglas) <- cbind(quality(reglas), metricas)</code>:  \n",
    "                    <ul>\n",
    "                        <li>Esta línea de código agrega las métricas adicionales al objeto de reglas. La función <code>quality()</code> se usa para acceder a las métricas actuales de las reglas, y <code>cbind()</code> se usa para combinar las métricas existentes con nuevas métricas, en este caso representadas por el objeto <code>metricas</code>.</li>\n",
    "                    </ul>\n",
    "                </li>\n",
    "                <li><code>df_reglas <- as(reglas, Class = \"data.frame\")</code>:  \n",
    "                    <ul>\n",
    "                        <li>Convierte el objeto <code>reglas</code> (un objeto del tipo <code>rules</code>) a un <code>data.frame</code>. Este paso facilita la visualización y análisis de las reglas, ya que permite tratar las reglas como una tabla tradicional de R en lugar de trabajar con un objeto más especializado y menos accesible.</li>\n",
    "                    </ul>\n",
    "                </li>\n",
    "                <li><code>df_reglas %>% as.tibble() %>% arrange(desc(confidence)) %>% head()</code>:  \n",
    "                    <ul>\n",
    "                        <li>Convierte el <code>data.frame</code> a un <code>tibble</code> para una visualización más conveniente y legible, utilizando la función <code>as.tibble()</code>.</li>\n",
    "                        <li>Luego, las reglas se ordenan en orden descendente según la columna <code>confidence</code>, lo que asegura que las reglas con mayor confianza aparezcan primero. Esto se logra con <code>arrange(desc(confidence))</code>.</li>\n",
    "                        <li>Finalmente, <code>head()</code> muestra las primeras 6 reglas ordenadas por su confianza, lo que proporciona una visión rápida de las reglas más confiables en el conjunto de datos.</li>\n",
    "                    </ul>\n",
    "                </li>\n",
    "            </ul>\n",
    "        </li>\n",
    "    </ul>\n",
    "</div>\n"
   ]
  },
  {
   "cell_type": "code",
   "execution_count": 36,
   "metadata": {
    "vscode": {
     "languageId": "r"
    }
   },
   "outputs": [
    {
     "data": {
      "text/html": [
       "<table class=\"dataframe\">\n",
       "<caption>A tibble: 6 × 8</caption>\n",
       "<thead>\n",
       "\t<tr><th scope=col>rules</th><th scope=col>support</th><th scope=col>confidence</th><th scope=col>coverage</th><th scope=col>lift</th><th scope=col>count</th><th scope=col>coverage.1</th><th scope=col>fishersExactTest</th></tr>\n",
       "\t<tr><th scope=col>&lt;chr&gt;</th><th scope=col>&lt;dbl&gt;</th><th scope=col>&lt;dbl&gt;</th><th scope=col>&lt;dbl&gt;</th><th scope=col>&lt;dbl&gt;</th><th scope=col>&lt;int&gt;</th><th scope=col>&lt;dbl&gt;</th><th scope=col>&lt;dbl&gt;</th></tr>\n",
       "</thead>\n",
       "<tbody>\n",
       "\t<tr><td><span style=white-space:pre-wrap>{impresiones bajas} =&gt; {suscriptores bajos}                                </span></td><td>0.3636364</td><td>1</td><td>0.3636364</td><td>1.294118</td><td> 8</td><td>0.3636364</td><td>0.076023392</td></tr>\n",
       "\t<tr><td><span style=white-space:pre-wrap>{impresiones bajas} =&gt; {tiempo_reproduccion_horas bajas}                   </span></td><td>0.3636364</td><td>1</td><td>0.3636364</td><td>1.222222</td><td> 8</td><td>0.3636364</td><td>0.136842105</td></tr>\n",
       "\t<tr><td><span style=white-space:pre-wrap>{Children} =&gt; {tiempo_reproduccion_horas bajas}                            </span></td><td>0.5000000</td><td>1</td><td>0.5000000</td><td>1.222222</td><td>11</td><td>0.5000000</td><td>0.045112782</td></tr>\n",
       "\t<tr><td><span style=white-space:pre-wrap>{suscriptores bajos} =&gt; {tiempo_reproduccion_horas bajas}                  </span></td><td>0.7727273</td><td>1</td><td>0.7727273</td><td>1.222222</td><td>17</td><td>0.7727273</td><td>0.000683527</td></tr>\n",
       "\t<tr><td>{impresiones bajas,suscriptores bajos} =&gt; {tiempo_reproduccion_horas bajas}</td><td>0.3636364</td><td>1</td><td>0.3636364</td><td>1.222222</td><td> 8</td><td>0.3636364</td><td>0.136842105</td></tr>\n",
       "\t<tr><td>{impresiones bajas,tiempo_reproduccion_horas bajas} =&gt; {suscriptores bajos}</td><td>0.3636364</td><td>1</td><td>0.3636364</td><td>1.294118</td><td> 8</td><td>0.3636364</td><td>0.076023392</td></tr>\n",
       "</tbody>\n",
       "</table>\n"
      ],
      "text/latex": [
       "A tibble: 6 × 8\n",
       "\\begin{tabular}{llllllll}\n",
       " rules & support & confidence & coverage & lift & count & coverage.1 & fishersExactTest\\\\\n",
       " <chr> & <dbl> & <dbl> & <dbl> & <dbl> & <int> & <dbl> & <dbl>\\\\\n",
       "\\hline\n",
       "\t \\{impresiones bajas\\} => \\{suscriptores bajos\\}                                 & 0.3636364 & 1 & 0.3636364 & 1.294118 &  8 & 0.3636364 & 0.076023392\\\\\n",
       "\t \\{impresiones bajas\\} => \\{tiempo\\_reproduccion\\_horas bajas\\}                    & 0.3636364 & 1 & 0.3636364 & 1.222222 &  8 & 0.3636364 & 0.136842105\\\\\n",
       "\t \\{Children\\} => \\{tiempo\\_reproduccion\\_horas bajas\\}                             & 0.5000000 & 1 & 0.5000000 & 1.222222 & 11 & 0.5000000 & 0.045112782\\\\\n",
       "\t \\{suscriptores bajos\\} => \\{tiempo\\_reproduccion\\_horas bajas\\}                   & 0.7727273 & 1 & 0.7727273 & 1.222222 & 17 & 0.7727273 & 0.000683527\\\\\n",
       "\t \\{impresiones bajas,suscriptores bajos\\} => \\{tiempo\\_reproduccion\\_horas bajas\\} & 0.3636364 & 1 & 0.3636364 & 1.222222 &  8 & 0.3636364 & 0.136842105\\\\\n",
       "\t \\{impresiones bajas,tiempo\\_reproduccion\\_horas bajas\\} => \\{suscriptores bajos\\} & 0.3636364 & 1 & 0.3636364 & 1.294118 &  8 & 0.3636364 & 0.076023392\\\\\n",
       "\\end{tabular}\n"
      ],
      "text/markdown": [
       "\n",
       "A tibble: 6 × 8\n",
       "\n",
       "| rules &lt;chr&gt; | support &lt;dbl&gt; | confidence &lt;dbl&gt; | coverage &lt;dbl&gt; | lift &lt;dbl&gt; | count &lt;int&gt; | coverage.1 &lt;dbl&gt; | fishersExactTest &lt;dbl&gt; |\n",
       "|---|---|---|---|---|---|---|---|\n",
       "| {impresiones bajas} =&gt; {suscriptores bajos}                                 | 0.3636364 | 1 | 0.3636364 | 1.294118 |  8 | 0.3636364 | 0.076023392 |\n",
       "| {impresiones bajas} =&gt; {tiempo_reproduccion_horas bajas}                    | 0.3636364 | 1 | 0.3636364 | 1.222222 |  8 | 0.3636364 | 0.136842105 |\n",
       "| {Children} =&gt; {tiempo_reproduccion_horas bajas}                             | 0.5000000 | 1 | 0.5000000 | 1.222222 | 11 | 0.5000000 | 0.045112782 |\n",
       "| {suscriptores bajos} =&gt; {tiempo_reproduccion_horas bajas}                   | 0.7727273 | 1 | 0.7727273 | 1.222222 | 17 | 0.7727273 | 0.000683527 |\n",
       "| {impresiones bajas,suscriptores bajos} =&gt; {tiempo_reproduccion_horas bajas} | 0.3636364 | 1 | 0.3636364 | 1.222222 |  8 | 0.3636364 | 0.136842105 |\n",
       "| {impresiones bajas,tiempo_reproduccion_horas bajas} =&gt; {suscriptores bajos} | 0.3636364 | 1 | 0.3636364 | 1.294118 |  8 | 0.3636364 | 0.076023392 |\n",
       "\n"
      ],
      "text/plain": [
       "  rules                                                                      \n",
       "1 {impresiones bajas} => {suscriptores bajos}                                \n",
       "2 {impresiones bajas} => {tiempo_reproduccion_horas bajas}                   \n",
       "3 {Children} => {tiempo_reproduccion_horas bajas}                            \n",
       "4 {suscriptores bajos} => {tiempo_reproduccion_horas bajas}                  \n",
       "5 {impresiones bajas,suscriptores bajos} => {tiempo_reproduccion_horas bajas}\n",
       "6 {impresiones bajas,tiempo_reproduccion_horas bajas} => {suscriptores bajos}\n",
       "  support   confidence coverage  lift     count coverage.1 fishersExactTest\n",
       "1 0.3636364 1          0.3636364 1.294118  8    0.3636364  0.076023392     \n",
       "2 0.3636364 1          0.3636364 1.222222  8    0.3636364  0.136842105     \n",
       "3 0.5000000 1          0.5000000 1.222222 11    0.5000000  0.045112782     \n",
       "4 0.7727273 1          0.7727273 1.222222 17    0.7727273  0.000683527     \n",
       "5 0.3636364 1          0.3636364 1.222222  8    0.3636364  0.136842105     \n",
       "6 0.3636364 1          0.3636364 1.294118  8    0.3636364  0.076023392     "
      ]
     },
     "metadata": {},
     "output_type": "display_data"
    }
   ],
   "source": [
    "quality(reglas) <- cbind(quality(reglas), metricas)\n",
    "df_reglas <- as(reglas, Class = \"data.frame\")\n",
    "df_reglas %>%\n",
    "  as.tibble() %>%\n",
    "  arrange(desc(confidence)) %>%\n",
    "  head()"
   ]
  },
  {
   "cell_type": "markdown",
   "metadata": {},
   "source": [
    "<div style=\"background-color: #FFFFE0; font-family: 'Times New Roman'; padding: 10px;\">    \n",
    "    <ul>\n",
    "        <li><strong>Propósito general:</strong> Esta celda genera reglas de asociación donde se especifican los valores de los elementos en el lado izquierdo (antecedentes, <code>lhs</code>) y en el lado derecho (consecuentes, <code>rhs</code>) de las reglas, utilizando el algoritmo Apriori con soporte y confianza definidos. Luego, se ordenan y visualizan las reglas generadas basadas en su nivel de confianza.</li>\n",
    "        <li><strong>Descripción detallada:</strong>\n",
    "            <ul>\n",
    "                <li><code>lhs_values <- c(\"Blue\", \"Pink\", \"Yellow\", \"Purple\", \"White\", \"Gray\", \"Beige\", \"Indigo\")</code>:  \n",
    "                    <ul>\n",
    "                        <li>Se define un vector <code>lhs_values</code> que contiene los valores que se buscan en el lado izquierdo de las reglas (antecedentes). Estos valores representan los ítems que deben estar presentes en una transacción para que la regla se aplique.</li>\n",
    "                    </ul>\n",
    "                </li>\n",
    "                <li><code>rhs_values <- c(\"impresiones medias\", \"suscriptores media\", \"vistas altas\", \"vistas medias\", \"ctr alto\", \"ctr medio\")</code>:  \n",
    "                    <ul>\n",
    "                        <li>Se define un vector <code>rhs_values</code> que contiene los valores que se esperan en el lado derecho de las reglas (consecuentes). Estos valores representan los ítems que deben ocurrir en una transacción dada, si los antecedentes (lhs) se cumplen.</li>\n",
    "                    </ul>\n",
    "                </li>\n",
    "                <li><code>soporte <- 2 / dim(transacciones)[1]</code>:  \n",
    "                    <ul>\n",
    "                        <li>El soporte mínimo para las reglas se calcula como el valor 2 dividido por el número total de transacciones, lo que establece el umbral a partir del cual se generarán las reglas.</li>\n",
    "                    </ul>\n",
    "                </li>\n",
    "                <li><code>interesting_consequents_values <- apriori(data = transacciones, parameter = list(support = soporte, confidence = 0.70, target = \"rules\"), appearance = list(lhs = lhs_values, rhs = rhs_values), control = list(verbose = FALSE))</code>:  \n",
    "                    <ul>\n",
    "                        <li>Esta línea genera las reglas de asociación con el algoritmo Apriori. Se especifica el conjunto de transacciones <code>data = transacciones</code>, el soporte mínimo y la confianza de al menos 70% con <code>parameter = list(support = soporte, confidence = 0.70)</code>.</li>\n",
    "                        <li>Además, se limita el conjunto de reglas a aquellas que tienen los valores especificados en <code>lhs_values</code> (antecedentes) y <code>rhs_values</code> (consecuentes), utilizando el parámetro <code>appearance = list(lhs = lhs_values, rhs = rhs_values)</code>.</li>\n",
    "                        <li><code>control = list(verbose = FALSE)</code> asegura que el proceso no muestre información detallada mientras ejecuta el algoritmo.</li>\n",
    "                    </ul>\n",
    "                </li>\n",
    "                <li><code>data_frame <- as(interesting_consequents_values, Class = \"data.frame\")</code>:  \n",
    "                    <ul>\n",
    "                        <li>Convierte las reglas generadas en un <code>data.frame</code>, lo que permite trabajar con ellas en un formato tabular más accesible para análisis adicionales.</li>\n",
    "                    </ul>\n",
    "                </li>\n",
    "                <li><code>data_frame %>% as.tibble() %>% arrange(desc(confidence)) %>% head()</code>:  \n",
    "                    <ul>\n",
    "                        <li>Convierte el <code>data.frame</code> a un <code>tibble</code> para mejorar la legibilidad. Luego, ordena las reglas por el nivel de confianza en orden descendente usando <code>arrange(desc(confidence))</code>, y muestra las primeras 6 reglas con <code>head()</code>.</li>\n",
    "                    </ul>\n",
    "                </li>\n",
    "            </ul>\n",
    "        </li>\n",
    "    </ul>\n",
    "</div>\n"
   ]
  },
  {
   "cell_type": "code",
   "execution_count": 37,
   "metadata": {
    "vscode": {
     "languageId": "r"
    }
   },
   "outputs": [
    {
     "data": {
      "text/html": [
       "<table class=\"dataframe\">\n",
       "<caption>A tibble: 2 × 6</caption>\n",
       "<thead>\n",
       "\t<tr><th scope=col>rules</th><th scope=col>support</th><th scope=col>confidence</th><th scope=col>coverage</th><th scope=col>lift</th><th scope=col>count</th></tr>\n",
       "\t<tr><th scope=col>&lt;chr&gt;</th><th scope=col>&lt;dbl&gt;</th><th scope=col>&lt;dbl&gt;</th><th scope=col>&lt;dbl&gt;</th><th scope=col>&lt;dbl&gt;</th><th scope=col>&lt;int&gt;</th></tr>\n",
       "</thead>\n",
       "<tbody>\n",
       "\t<tr><td>{Gray} =&gt; {vistas medias}</td><td>0.09090909</td><td>1</td><td>0.09090909</td><td>3.142857</td><td>2</td></tr>\n",
       "\t<tr><td><span style=white-space:pre-wrap>{Gray} =&gt; {ctr medio}    </span></td><td>0.09090909</td><td>1</td><td>0.09090909</td><td>2.750000</td><td>2</td></tr>\n",
       "</tbody>\n",
       "</table>\n"
      ],
      "text/latex": [
       "A tibble: 2 × 6\n",
       "\\begin{tabular}{llllll}\n",
       " rules & support & confidence & coverage & lift & count\\\\\n",
       " <chr> & <dbl> & <dbl> & <dbl> & <dbl> & <int>\\\\\n",
       "\\hline\n",
       "\t \\{Gray\\} => \\{vistas medias\\} & 0.09090909 & 1 & 0.09090909 & 3.142857 & 2\\\\\n",
       "\t \\{Gray\\} => \\{ctr medio\\}     & 0.09090909 & 1 & 0.09090909 & 2.750000 & 2\\\\\n",
       "\\end{tabular}\n"
      ],
      "text/markdown": [
       "\n",
       "A tibble: 2 × 6\n",
       "\n",
       "| rules &lt;chr&gt; | support &lt;dbl&gt; | confidence &lt;dbl&gt; | coverage &lt;dbl&gt; | lift &lt;dbl&gt; | count &lt;int&gt; |\n",
       "|---|---|---|---|---|---|\n",
       "| {Gray} =&gt; {vistas medias} | 0.09090909 | 1 | 0.09090909 | 3.142857 | 2 |\n",
       "| {Gray} =&gt; {ctr medio}     | 0.09090909 | 1 | 0.09090909 | 2.750000 | 2 |\n",
       "\n"
      ],
      "text/plain": [
       "  rules                     support    confidence coverage   lift     count\n",
       "1 {Gray} => {vistas medias} 0.09090909 1          0.09090909 3.142857 2    \n",
       "2 {Gray} => {ctr medio}     0.09090909 1          0.09090909 2.750000 2    "
      ]
     },
     "metadata": {},
     "output_type": "display_data"
    }
   ],
   "source": [
    "lhs_values <- c(\"Blue\", \"Pink\", \"Yellow\", \"Purple\",\n",
    "                \"White\", \"Gray\", \"Beige\", \"Indigo\")\n",
    "rhs_values <- c(\"impresiones medias\", \"suscriptores media\",\n",
    "                \"vistas altas\", \"vistas medias\", \"ctr alto\", \"ctr medio\")\n",
    "\n",
    "soporte <- 2 / dim(transacciones)[1]\n",
    "interesting_consequents_values <- apriori(data = transacciones,\n",
    "                                          parameter = list(support = soporte,\n",
    "                                                           confidence = 0.70,\n",
    "                                                       # Se especifica que se creen reglas # nolint\n",
    "                                                       target = \"rules\"),\n",
    "                                          appearance = list(lhs = lhs_values,\n",
    "                                                            rhs = rhs_values),\n",
    "                                          control = list(verbose = FALSE))\n",
    "\n",
    "data_frame <- as(interesting_consequents_values, Class = \"data.frame\")\n",
    "data_frame %>%\n",
    "  as.tibble() %>%\n",
    "  arrange(desc(confidence)) %>%\n",
    "  head()"
   ]
  },
  {
   "cell_type": "code",
   "execution_count": 38,
   "metadata": {
    "vscode": {
     "languageId": "r"
    }
   },
   "outputs": [
    {
     "data": {
      "text/html": [
       "<style>\n",
       ".list-inline {list-style: none; margin:0; padding: 0}\n",
       ".list-inline>li {display: inline-block}\n",
       ".list-inline>li:not(:last-child)::after {content: \"\\00b7\"; padding: 0 .5ex}\n",
       "</style>\n",
       "<ol class=list-inline><li>'{impresiones bajas} =&gt; {suscriptores bajos}'</li><li>'{impresiones bajas} =&gt; {tiempo_reproduccion_horas bajas}'</li><li>'{Children} =&gt; {tiempo_reproduccion_horas bajas}'</li></ol>\n"
      ],
      "text/latex": [
       "\\begin{enumerate*}\n",
       "\\item '\\{impresiones bajas\\} => \\{suscriptores bajos\\}'\n",
       "\\item '\\{impresiones bajas\\} => \\{tiempo\\_reproduccion\\_horas bajas\\}'\n",
       "\\item '\\{Children\\} => \\{tiempo\\_reproduccion\\_horas bajas\\}'\n",
       "\\end{enumerate*}\n"
      ],
      "text/markdown": [
       "1. '{impresiones bajas} =&gt; {suscriptores bajos}'\n",
       "2. '{impresiones bajas} =&gt; {tiempo_reproduccion_horas bajas}'\n",
       "3. '{Children} =&gt; {tiempo_reproduccion_horas bajas}'\n",
       "\n",
       "\n"
      ],
      "text/plain": [
       "[1] \"{impresiones bajas} => {suscriptores bajos}\"             \n",
       "[2] \"{impresiones bajas} => {tiempo_reproduccion_horas bajas}\"\n",
       "[3] \"{Children} => {tiempo_reproduccion_horas bajas}\"         "
      ]
     },
     "metadata": {},
     "output_type": "display_data"
    }
   ],
   "source": [
    "# Se identifica las 3 reglas con mayor confianza\n",
    "as(reglas, \"data.frame\") %>%\n",
    "    arrange(desc(confidence)) %>%\n",
    "    head(3) %>%\n",
    "    pull(rules)"
   ]
  },
  {
   "cell_type": "markdown",
   "metadata": {},
   "source": [
    "<div style=\"background-color: #FFFFE0; font-family: 'Times New Roman'; padding: 10px;\">    \n",
    "    \n",
    "   ##  Bibliografía\n",
    "</div>\n",
    "<div style=\"background-color: #FFFFE0; font-family: 'Times New Roman'; padding: 10px;\">    \n",
    "    <p>\n",
    "        Reglas de asociación y algoritmo Apriori con R por Joaquín Amat Rodrigo, disponible con licencia CC BY-NC-SA 4.0 en <a href=\"https://www.cienciadedatos.net/documentos/43_reglas_de_asociacion\">https://www.cienciadedatos.net/documentos/43_reglas_de_asociacion</a>\n",
    "    </p>\n",
    "</div>\n"
   ]
  }
 ],
 "metadata": {
  "kernelspec": {
   "display_name": "R",
   "language": "R",
   "name": "ir"
  },
  "language_info": {
   "codemirror_mode": "r",
   "file_extension": ".r",
   "mimetype": "text/x-r-source",
   "name": "R",
   "pygments_lexer": "r",
   "version": "4.3.3"
  }
 },
 "nbformat": 4,
 "nbformat_minor": 2
}
