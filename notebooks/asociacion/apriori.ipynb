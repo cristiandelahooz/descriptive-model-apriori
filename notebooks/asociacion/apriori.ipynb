{
 "cells": [
  {
   "cell_type": "code",
   "execution_count": 7,
   "metadata": {},
   "outputs": [
    {
     "name": "stdout",
     "output_type": "stream",
     "text": [
      "          mayor_5_min         tiene_tags                      categoria  \\\n",
      "0  mayor_5_min: False   tiene_tags: True   categoria: Trivia Facts Quiz   \n",
      "1   mayor_5_min: True  tiene_tags: False  categoria: Entertainment Quiz   \n",
      "2  mayor_5_min: False   tiene_tags: True   categoria: Trivia Facts Quiz   \n",
      "3  mayor_5_min: False   tiene_tags: True  categoria: Entertainment Quiz   \n",
      "4   mayor_5_min: True   tiene_tags: True    categoria: Would You Rather   \n",
      "\n",
      "          popularidad           duracion_segundosclassified  \\\n",
      "0   popularidad: True  duracion_segundosclassified: Mediano   \n",
      "1   popularidad: True     duracion_segundosclassified: Alto   \n",
      "2   popularidad: True  duracion_segundosclassified: Mediano   \n",
      "3   popularidad: True  duracion_segundosclassified: Mediano   \n",
      "4  popularidad: False     duracion_segundosclassified: Alto   \n",
      "\n",
      "            promedio_tiempo_reproducidoclassified  \\\n",
      "0  promedio_tiempo_reproducidoclassified: Mediano   \n",
      "1     promedio_tiempo_reproducidoclassified: Alto   \n",
      "2  promedio_tiempo_reproducidoclassified: Mediano   \n",
      "3     promedio_tiempo_reproducidoclassified: Alto   \n",
      "4     promedio_tiempo_reproducidoclassified: Alto   \n",
      "\n",
      "         impresionesclassified           tasa_de_clicksclassified  \\\n",
      "0  impresionesclassified: Alto     tasa_de_clicksclassified: Bajo   \n",
      "1  impresionesclassified: Alto  tasa_de_clicksclassified: Mediano   \n",
      "2  impresionesclassified: Alto     tasa_de_clicksclassified: Alto   \n",
      "3  impresionesclassified: Alto  tasa_de_clicksclassified: Mediano   \n",
      "4  impresionesclassified: Alto  tasa_de_clicksclassified: Mediano   \n",
      "\n",
      "         vistasclassified  \n",
      "0  vistasclassified: Alto  \n",
      "1  vistasclassified: Alto  \n",
      "2  vistasclassified: Alto  \n",
      "3  vistasclassified: Alto  \n",
      "4  vistasclassified: Alto  \n"
     ]
    }
   ],
   "source": [
    "import pandas as pd\n",
    "\n",
    "# Cargar el dataset\n",
    "file_path = \"../../datasets/clasified_transactions_to_use.csv\"  # Cambia por la ruta de tu archivo CSV\n",
    "df = pd.read_csv(file_path)\n",
    "\n",
    "\n",
    "# Función para modificar los valores de las columnas seleccionadas\n",
    "def modificar_columnas(df, columnas):\n",
    "    for columna in columnas:\n",
    "        if columna in df.columns:  # Verificar si la columna existe en el DataFrame\n",
    "            df[columna] = df[columna].apply(lambda x: f\"{columna}: {x}\")\n",
    "    return df\n",
    "\n",
    "\n",
    "# Especificar las columnas que quieres modificar\n",
    "columnas_a_modificar = [\n",
    "    \"mayor_5_min\",\n",
    "    \"tiene_tags\",\n",
    "    \"categoria\",\n",
    "    \"popularidad\",\n",
    "    \"duracion_segundosclassified\",\n",
    "    \"promedio_tiempo_reproducidoclassified\",\n",
    "    \"impresionesclassified\",\n",
    "    \"tasa_de_clicksclassified\",\n",
    "    \"vistasclassified\",\n",
    "] # Cambia las columnas según lo que necesites\n",
    "\n",
    "# Aplicar la función\n",
    "df_modificado = modificar_columnas(df, columnas_a_modificar)\n",
    "\n",
    "# Guardar el DataFrame modificado en un nuevo archivo CSV\n",
    "output_file_path = \"../../datasets/organized.csv\"\n",
    "df_modificado.to_csv(output_file_path, index=False)\n",
    "\n",
    "# Ver el resultado\n",
    "print(df_modificado.head())\n"
   ]
  },
  {
   "cell_type": "code",
   "execution_count": null,
   "metadata": {},
   "outputs": [],
   "source": []
  }
 ],
 "metadata": {
  "kernelspec": {
   "display_name": "Python 3",
   "language": "python",
   "name": "python3"
  },
  "language_info": {
   "codemirror_mode": {
    "name": "ipython",
    "version": 3
   },
   "file_extension": ".py",
   "mimetype": "text/x-python",
   "name": "python",
   "nbconvert_exporter": "python",
   "pygments_lexer": "ipython3",
   "version": "3.10.11"
  }
 },
 "nbformat": 4,
 "nbformat_minor": 2
}
