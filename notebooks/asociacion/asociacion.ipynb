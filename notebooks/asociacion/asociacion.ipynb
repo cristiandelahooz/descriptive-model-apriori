{
 "cells": [
  {
   "cell_type": "code",
   "execution_count": 14,
   "id": "8853c009",
   "metadata": {
    "vscode": {
     "languageId": "r"
    }
   },
   "outputs": [],
   "source": [
    "#install.packages(\"dplyr\")"
   ]
  },
  {
   "cell_type": "code",
   "execution_count": 15,
   "id": "b5f3e796",
   "metadata": {
    "vscode": {
     "languageId": "r"
    }
   },
   "outputs": [],
   "source": [
    "# Librerías\n",
    "library(arules)\n",
    "library(dplyr)\n"
   ]
  },
  {
   "cell_type": "code",
   "execution_count": 16,
   "id": "08c98d83",
   "metadata": {
    "vscode": {
     "languageId": "r"
    }
   },
   "outputs": [],
   "source": [
    "# Cargar datos\n",
    "datos <- read.csv(\"../../datasets/Asociacion.csv\")"
   ]
  },
  {
   "cell_type": "code",
   "execution_count": 18,
   "id": "246bb566",
   "metadata": {
    "vscode": {
     "languageId": "r"
    }
   },
   "outputs": [
    {
     "name": "stdout",
     "output_type": "stream",
     "text": [
      "Apriori\n",
      "\n",
      "Parameter specification:\n",
      " confidence minval smax arem  aval originalSupport maxtime support minlen\n",
      "        0.7    0.1    1 none FALSE            TRUE       5     0.2      2\n",
      " maxlen target  ext\n",
      "     10  rules TRUE\n",
      "\n",
      "Algorithmic control:\n",
      " filter tree heap memopt load sort verbose\n",
      "    0.1 TRUE TRUE  FALSE TRUE    2    TRUE\n",
      "\n",
      "Absolute minimum support count: 7 \n",
      "\n",
      "set item appearances ...[0 item(s)] done [0.00s].\n",
      "set transactions ...[12 item(s), 35 transaction(s)] done [0.00s].\n",
      "sorting and recoding items ... [10 item(s)] done [0.00s].\n",
      "creating transaction tree ... done [0.00s].\n",
      "checking subsets of size 1 2 3 4 done [0.00s].\n",
      "writing ... [43 rule(s)] done [0.00s].\n",
      "creating S4 object  ... done [0.00s].\n",
      "     lhs                          rhs                                 support confidence  coverage     lift count\n",
      "[1]  {duracion_cat=media}      => {impresiones_cat=largas}          0.2571429          1 0.2571429 1.521739     9\n",
      "[2]  {duracion_cat=media}      => {suscriptores_promedio_cat=bajas} 0.2571429          1 0.2571429 1.000000     9\n",
      "[3]  {suscriptores_cat=muchos} => {suscriptores_promedio_cat=bajas} 0.2571429          1 0.2571429 1.000000     9\n",
      "[4]  {impresiones_cat=medias}  => {duracion_cat=corta}              0.2857143          1 0.2857143 1.346154    10\n",
      "[5]  {impresiones_cat=medias}  => {suscriptores_promedio_cat=bajas} 0.2857143          1 0.2857143 1.000000    10\n",
      "[6]  {vistas_cat=bajas}        => {suscriptores_promedio_cat=bajas} 0.3142857          1 0.3142857 1.000000    11\n",
      "[7]  {suscriptores_cat=pocos}  => {suscriptores_promedio_cat=bajas} 0.2857143          1 0.2857143 1.000000    10\n",
      "[8]  {vistas_cat=altas}        => {suscriptores_promedio_cat=bajas} 0.3142857          1 0.3142857 1.000000    11\n",
      "[9]  {vistas_cat=medias}       => {suscriptores_promedio_cat=bajas} 0.3142857          1 0.3142857 1.000000    11\n",
      "[10] {impresiones_cat=largas}  => {suscriptores_promedio_cat=bajas} 0.6571429          1 0.6571429 1.000000    23\n"
     ]
    }
   ],
   "source": [
    "# Librerías\n",
    "library(arules)\n",
    "library(dplyr)\n",
    "\n",
    "# Cargar datos\n",
    "datos <- read.csv(\"../../datasets/Asociacion.csv\")\n",
    "\n",
    "# Preprocesamiento automatizado\n",
    "datos <- datos %>%\n",
    "  mutate(\n",
    "    duracion_cat = cut(duracion_segundos, breaks = c(0, 300, 600, Inf), labels = c(\"corta\", \"media\", \"larga\")),\n",
    "    impresiones_cat = cut(impresiones, breaks = c(0, 300, 600, Inf), labels = c(\"bajas\", \"medias\", \"largas\")),\n",
    "    vistas_cat = cut(vistas, breaks = quantile(vistas, probs = seq(0, 1, 0.33), na.rm = TRUE), labels = c(\"bajas\", \"medias\", \"altas\")),\n",
    "    suscriptores_cat = cut(suscriptores, breaks = quantile(suscriptores, probs = seq(0, 1, 0.33), na.rm = TRUE), labels = c(\"pocos\", \"moderados\", \"muchos\")),\n",
    "    suscriptores_promedio_cat = cut(promedio_suscriptores, breaks = c(0, 300, 600, Inf), labels = c(\"bajas\", \"medias\", \"largas\"))\n",
    "  )\n",
    "\n",
    "# Convertir a transacciones\n",
    "datos_apriori <- datos %>%\n",
    "  select(impresiones_cat, duracion_cat, vistas_cat, suscriptores_cat,\n",
    "         suscriptores_promedio_cat)\n",
    "\n",
    "transacciones <- as(datos_apriori, \"transactions\")\n",
    "\n",
    "# Aplicar Apriori\n",
    "reglas <- apriori(transacciones, parameter = list(support = 0.2, confidence = 0.7, minlen = 2))\n",
    "\n",
    "# Exportar resultados\n",
    "write(reglas, file = \"../../datasets/reglas_apriori.csv\", sep = \",\", quote = TRUE, row.names = FALSE)\n",
    "inspect(sort(reglas, by = \"confidence\")[1:10])\n"
   ]
  },
  {
   "cell_type": "code",
   "execution_count": null,
   "id": "ab3274fb",
   "metadata": {
    "vscode": {
     "languageId": "r"
    }
   },
   "outputs": [],
   "source": []
  }
 ],
 "metadata": {
  "kernelspec": {
   "display_name": "R",
   "language": "R",
   "name": "ir"
  },
  "language_info": {
   "codemirror_mode": "r",
   "file_extension": ".r",
   "mimetype": "text/x-r-source",
   "name": "R",
   "pygments_lexer": "r",
   "version": "4.3.3"
  }
 },
 "nbformat": 4,
 "nbformat_minor": 5
}
