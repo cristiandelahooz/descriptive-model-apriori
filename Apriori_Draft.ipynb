{
 "cells": [
  {
   "cell_type": "code",
   "execution_count": null,
   "metadata": {
    "vscode": {
     "languageId": "r"
    }
   },
   "outputs": [],
   "source": [
    "library(tidyverse)\n",
    "library(arules)\n",
    "\n",
    "# Cargar los datos\n",
    "data <- read.csv(\"videos.csv\")\n",
    "\n",
    "# Añadir la columna 'mayor_5_min'\n",
    "data <- data %>%\n",
    "  mutate(mayor_5_min = ifelse(duracion > 5, 1, 0))\n",
    "\n",
    "# Convertir el dataset en formato transaccional\n",
    "data_bin <- data %>%\n",
    "  mutate(popularidad = ifelse(vistas > promedio_vistas & suscriptores >\n",
    "                                promedio_suscriptores, 1, 0)) %>%\n",
    "  select(-c(vistas, suscriptores, promedio_vistas, promedio_suscriptores))\n",
    "\n",
    "# Convertir a transacciones\n",
    "trans <- as(data_bin, \"transactions\")\n",
    "\n",
    "# Aplicar el algoritmo Apriori\n",
    "rules <- apriori(trans, parameter = list(support = 0.05, confidence = 0.8))\n",
    "\n",
    "# Inspeccionar las reglas\n",
    "inspect(rules)\n"
   ]
  }
 ],
 "metadata": {
  "kernelspec": {
   "display_name": "R",
   "language": "R",
   "name": "ir"
  },
  "language_info": {
   "name": "R"
  }
 },
 "nbformat": 4,
 "nbformat_minor": 2
}
