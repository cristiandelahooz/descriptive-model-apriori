{
 "cells": [
  {
   "cell_type": "code",
   "execution_count": 4,
   "id": "8853c009",
   "metadata": {
    "vscode": {
     "languageId": "r"
    }
   },
   "outputs": [
    {
     "name": "stderr",
     "output_type": "stream",
     "text": [
      "Warning message in install.packages(\"dplyr\"):\n",
      "\"'lib = \"C:/Program Files/R/R-4.4.2/library\"' is not writable\"\n"
     ]
    },
    {
     "ename": "ERROR",
     "evalue": "Error in install.packages(\"dplyr\"): unable to install packages\n",
     "output_type": "error",
     "traceback": [
      "Error in install.packages(\"dplyr\"): unable to install packages\nTraceback:\n",
      "1. stop(\"unable to install packages\")",
      "2. .handleSimpleError(function (cnd) \n . {\n .     watcher$capture_plot_and_output()\n .     cnd <- sanitize_call(cnd)\n .     watcher$push(cnd)\n .     switch(on_error, continue = invokeRestart(\"eval_continue\"), \n .         stop = invokeRestart(\"eval_stop\"), error = invokeRestart(\"eval_error\", \n .             cnd))\n . }, \"unable to install packages\", base::quote(install.packages(\"dplyr\")))"
     ]
    }
   ],
   "source": [
    "install.packages(\"dplyr\")\n",
    "installed.packages(\"arules\")"
   ]
  },
  {
   "cell_type": "code",
   "execution_count": null,
   "id": "246bb566",
   "metadata": {
    "vscode": {
     "languageId": "r"
    }
   },
   "outputs": [
    {
     "ename": "ERROR",
     "evalue": "Error in library(tidyverse): there is no package called 'tidyverse'\n",
     "output_type": "error",
     "traceback": [
      "Error in library(tidyverse): there is no package called 'tidyverse'\nTraceback:\n",
      "1. stop(packageNotFoundError(package, lib.loc, sys.call()))"
     ]
    }
   ],
   "source": [
    "# Librerías\n",
    "library(arules)\n",
    "library(dplyr)\n",
    "\n",
    "# Cargar datos\n",
    "datos <- read.csv(\"Asociacion.csv\")\n",
    "\n",
    "# Preprocesamiento automatizado\n",
    "datos <- datos %>%\n",
    "  mutate(\n",
    "    duracion_cat = cut(duracion_segundos, breaks = c(0, 300, 600, Inf), labels = c(\"corta\", \"media\", \"larga\")),\n",
    "    vistas_cat = cut(vistas, breaks = quantile(vistas, probs = seq(0, 1, 0.33), na.rm = TRUE), labels = c(\"bajas\", \"medias\", \"altas\")),\n",
    "    suscriptores_cat = cut(suscriptores, breaks = quantile(suscriptores, probs = seq(0, 1, 0.33), na.rm = TRUE), labels = c(\"pocos\", \"moderados\", \"muchos\"))\n",
    "  )\n",
    "\n",
    "# Convertir a transacciones\n",
    "datos_apriori <- datos %>%\n",
    "  select(duracion_cat, vistas_cat, suscriptores_cat, mayor_5_min, tags)\n",
    "\n",
    "transacciones <- as(datos_apriori, \"transactions\")\n",
    "\n",
    "# Aplicar Apriori\n",
    "reglas <- apriori(transacciones, parameter = list(support = 0.1, confidence = 0.6, minlen = 2))\n",
    "\n",
    "# Exportar resultados\n",
    "write(reglas, file = \"reglas_apriori.csv\", sep = \",\", quote = TRUE, row.names = FALSE)\n",
    "inspect(sort(reglas, by = \"confidence\")[1:10])\n"
   ]
  },
  {
   "cell_type": "code",
   "execution_count": null,
   "id": "7cadb8fc",
   "metadata": {
    "vscode": {
     "languageId": "r"
    }
   },
   "outputs": [],
   "source": []
  }
 ],
 "metadata": {
  "kernelspec": {
   "display_name": "R",
   "language": "R",
   "name": "ir"
  },
  "language_info": {
   "codemirror_mode": "r",
   "file_extension": ".r",
   "mimetype": "text/x-r-source",
   "name": "R",
   "pygments_lexer": "r",
   "version": "4.4.2"
  }
 },
 "nbformat": 4,
 "nbformat_minor": 5
}
