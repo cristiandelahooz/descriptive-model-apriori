{
 "cells": [
  {
   "cell_type": "code",
   "execution_count": null,
   "id": "8853c009",
   "metadata": {
    "vscode": {
     "languageId": "r"
    }
   },
   "outputs": [
    {
     "name": "stderr",
     "output_type": "stream",
     "text": [
      "Installing package into ‘/home/saratrasv/R/x86_64-pc-linux-gnu-library/4.3’\n",
      "(as ‘lib’ is unspecified)\n",
      "\n"
     ]
    }
   ],
   "source": [
    "#install.packages(\"dplyr\")"
   ]
  },
  {
   "cell_type": "code",
   "execution_count": 3,
   "id": "246bb566",
   "metadata": {
    "vscode": {
     "languageId": "r"
    }
   },
   "outputs": [
    {
     "name": "stderr",
     "output_type": "stream",
     "text": [
      "Warning message:\n",
      "“Column(s) 5, 6 not logical or factor. Applying default discretization (see '? discretizeDF').”\n"
     ]
    },
    {
     "name": "stdout",
     "output_type": "stream",
     "text": [
      "Apriori\n",
      "\n",
      "Parameter specification:\n",
      " confidence minval smax arem  aval originalSupport maxtime support minlen\n",
      "        0.6    0.1    1 none FALSE            TRUE       5     0.1      2\n",
      " maxlen target  ext\n",
      "     10  rules TRUE\n",
      "\n",
      "Algorithmic control:\n",
      " filter tree heap memopt load sort verbose\n",
      "    0.1 TRUE TRUE  FALSE TRUE    2    TRUE\n",
      "\n",
      "Absolute minimum support count: 3 \n",
      "\n",
      "set item appearances ...[0 item(s)] done [0.00s].\n",
      "set transactions ...[41 item(s), 35 transaction(s)] done [0.00s].\n",
      "sorting and recoding items ... [13 item(s)] done [0.00s].\n",
      "creating transaction tree ... done [0.00s].\n",
      "checking subsets of size 1 2 3 4 5 done [0.00s].\n",
      "writing ... [81 rule(s)] done [0.00s].\n",
      "creating S4 object  ... done [0.00s].\n",
      "     lhs                             rhs                       support confidence  coverage     lift count\n",
      "[1]  {suscriptores_cat=moderados} => {duracion_cat=corta}    0.1142857          1 0.1142857 1.346154     4\n",
      "[2]  {duracion_cat=media}         => {mayor_5_min}           0.2571429          1 0.2571429 3.888889     9\n",
      "[3]  {mayor_5_min}                => {duracion_cat=media}    0.2571429          1 0.2571429 3.888889     9\n",
      "[4]  {impresiones=[235,570)}      => {duracion_cat=corta}    0.3428571          1 0.3428571 1.346154    12\n",
      "[5]  {tags=,                                                                                              \n",
      "      impresiones=[235,570)}      => {duracion_cat=corta}    0.1428571          1 0.1428571 1.346154     5\n",
      "[6]  {duracion_cat=corta,                                                                                 \n",
      "      tags=}                      => {impresiones=[235,570)} 0.1428571          1 0.1428571 2.916667     5\n",
      "[7]  {duracion_cat=media,                                                                                 \n",
      "      suscriptores_cat=pocos}     => {mayor_5_min}           0.1428571          1 0.1428571 3.888889     5\n",
      "[8]  {suscriptores_cat=pocos,                                                                             \n",
      "      mayor_5_min}                => {duracion_cat=media}    0.1428571          1 0.1428571 3.888889     5\n",
      "[9]  {duracion_cat=media,                                                                                 \n",
      "      vistas_cat=medias}          => {mayor_5_min}           0.1428571          1 0.1428571 3.888889     5\n",
      "[10] {vistas_cat=medias,                                                                                  \n",
      "      mayor_5_min}                => {duracion_cat=media}    0.1428571          1 0.1428571 3.888889     5\n"
     ]
    }
   ],
   "source": [
    "# Librerías\n",
    "library(arules)\n",
    "library(dplyr)\n",
    "\n",
    "# Cargar datos\n",
    "datos <- read.csv(\"Asociacion.csv\")\n",
    "\n",
    "# Preprocesamiento automatizado\n",
    "datos <- datos %>%\n",
    "  mutate(\n",
    "    duracion_cat = cut(duracion_segundos, breaks = c(0, 300, 600, Inf), labels = c(\"corta\", \"media\", \"larga\")),\n",
    "    vistas_cat = cut(vistas, breaks = quantile(vistas, probs = seq(0, 1, 0.33), na.rm = TRUE), labels = c(\"bajas\", \"medias\", \"altas\")),\n",
    "    suscriptores_cat = cut(suscriptores, breaks = quantile(suscriptores, probs = seq(0, 1, 0.33), na.rm = TRUE), labels = c(\"pocos\", \"moderados\", \"muchos\"))\n",
    "  )\n",
    "\n",
    "# Convertir a transacciones\n",
    "datos_apriori <- datos %>%\n",
    "  select(duracion_cat, vistas_cat, suscriptores_cat, mayor_5_min, tags, impresiones)\n",
    "\n",
    "transacciones <- as(datos_apriori, \"transactions\")\n",
    "\n",
    "# Aplicar Apriori\n",
    "reglas <- apriori(transacciones, parameter = list(support = 0.1, confidence = 0.6, minlen = 2))\n",
    "\n",
    "# Exportar resultados\n",
    "write(reglas, file = \"reglas_apriori.csv\", sep = \",\", quote = TRUE, row.names = FALSE)\n",
    "inspect(sort(reglas, by = \"confidence\")[1:10])\n"
   ]
  },
  {
   "cell_type": "code",
   "execution_count": null,
   "id": "a95b0476",
   "metadata": {
    "vscode": {
     "languageId": "r"
    }
   },
   "outputs": [],
   "source": []
  }
 ],
 "metadata": {
  "kernelspec": {
   "display_name": "R",
   "language": "R",
   "name": "ir"
  },
  "language_info": {
   "codemirror_mode": "r",
   "file_extension": ".r",
   "mimetype": "text/x-r-source",
   "name": "R",
   "pygments_lexer": "r",
   "version": "4.3.3"
  }
 },
 "nbformat": 4,
 "nbformat_minor": 5
}
