{
 "cells": [
  {
   "cell_type": "code",
   "execution_count": 3,
   "id": "8853c009",
   "metadata": {
    "vscode": {
     "languageId": "r"
    }
   },
   "outputs": [
    {
     "name": "stderr",
     "output_type": "stream",
     "text": [
      "Installing package into ‘/home/saratrasv/R/x86_64-pc-linux-gnu-library/4.3’\n",
      "(as ‘lib’ is unspecified)\n",
      "\n"
     ]
    }
   ],
   "source": [
    "install.packages(\"ragg\", dependencies = TRUE, repos = \"http://cran.rstudio.com/\")\n"
   ]
  },
  {
   "cell_type": "code",
   "execution_count": 1,
   "id": "246bb566",
   "metadata": {
    "vscode": {
     "languageId": "r"
    }
   },
   "outputs": [
    {
     "ename": "ERROR",
     "evalue": "Error in library(tidyverse): there is no package called ‘tidyverse’\n",
     "output_type": "error",
     "traceback": [
      "Error in library(tidyverse): there is no package called ‘tidyverse’\nTraceback:\n",
      "1. stop(packageNotFoundError(package, lib.loc, sys.call()))"
     ]
    }
   ],
   "source": [
    "library(tidyverse)\n",
    "library(arules)\n",
    "\n",
    "# Cargar los datos\n",
    "data <- read.csv(\"Asociacion.csv\")\n",
    "\n",
    "# Añadir la columna 'mayor_5_min'\n",
    "#data <- data %>%\n",
    "  mutate(mayor_5_min = ifelse(duracion > 5, 1, 0))\n",
    "\n",
    "# Convertir el dataset en formato transaccional\n",
    "data_bin <- data %>%\n",
    "  mutate(popularidad = ifelse(vistas > promedio_vistas & suscriptores > promedio_suscriptores, 1, 0)) %>%\n",
    "  select(-c(vistas, suscriptores, promedio_vistas, promedio_suscriptores))\n",
    "\n",
    "# Convertir a transacciones\n",
    "trans <- as(data_bin, \"transactions\")\n",
    "\n",
    "# Aplicar el algoritmo Apriori\n",
    "rules <- apriori(trans, parameter = list(support = 0.05, confidence = 0.8))\n",
    "\n",
    "# Inspeccionar las reglas\n",
    "inspect(rules)\n"
   ]
  }
 ],
 "metadata": {
  "kernelspec": {
   "display_name": "R",
   "language": "R",
   "name": "ir"
  },
  "language_info": {
   "codemirror_mode": "r",
   "file_extension": ".r",
   "mimetype": "text/x-r-source",
   "name": "R",
   "pygments_lexer": "r",
   "version": "4.3.3"
  }
 },
 "nbformat": 4,
 "nbformat_minor": 5
}
