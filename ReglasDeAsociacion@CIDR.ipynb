{
 "cells": [
  {
   "cell_type": "markdown",
   "metadata": {
    "id": "UGpDhfKxKHwJ"
   },
   "source": [
    "<div style=\"background:#FFFFE0;padding:20px;color:#000000;margin-top:10px;\">\n",
    "  \n",
    "  # Descubriendo reglas de Asociación con R.\n",
    "  ### Cristian de la Hoz | 10149779\n",
    "\n",
    "  En el presente notebook se tiene como objetivo la aplicación del algoritmo apiori en el dataset 'Ferreteria', Además, se ha de analizar y mostrar los graficos necesarios.\n",
    "\n",
    "  Para empezar, se ha de instalar las librerias necesarias y luego de esto cargar el dataset y convertir el mismo a 'transactions'.\n",
    "\n",
    "\n",
    "</div>\n"
   ]
  },
  {
   "cell_type": "code",
   "execution_count": null,
   "metadata": {
    "colab": {
     "base_uri": "https://localhost:8080/"
    },
    "id": "Qdx3A969ncEB",
    "outputId": "b99ecbca-1714-4c5f-f366-1c7ff935589c",
    "vscode": {
     "languageId": "r"
    }
   },
   "outputs": [
    {
     "name": "stderr",
     "output_type": "stream",
     "text": [
      "Loading required package: Matrix\n",
      "\n",
      "\n",
      "Attaching package: ‘arules’\n",
      "\n",
      "\n",
      "The following objects are masked from ‘package:base’:\n",
      "\n",
      "    abbreviate, write\n",
      "\n",
      "\n"
     ]
    }
   ],
   "source": [
    "# Se hace la llamada al Kernel de R para que sepa que utilizaremos la librería.\n",
    "install.packages(\"dplyr\")"
   ]
  },
  {
   "cell_type": "code",
   "execution_count": 1,
   "metadata": {
    "vscode": {
     "languageId": "r"
    }
   },
   "outputs": [
    {
     "name": "stderr",
     "output_type": "stream",
     "text": [
      "Loading required package: Matrix\n",
      "\n",
      "\n",
      "Attaching package: ‘arules’\n",
      "\n",
      "\n",
      "The following objects are masked from ‘package:base’:\n",
      "\n",
      "    abbreviate, write\n",
      "\n",
      "\n",
      "\n",
      "Attaching package: ‘dplyr’\n",
      "\n",
      "\n",
      "The following objects are masked from ‘package:arules’:\n",
      "\n",
      "    intersect, recode, setdiff, setequal, union\n",
      "\n",
      "\n",
      "The following objects are masked from ‘package:stats’:\n",
      "\n",
      "    filter, lag\n",
      "\n",
      "\n",
      "The following objects are masked from ‘package:base’:\n",
      "\n",
      "    intersect, setdiff, setequal, union\n",
      "\n",
      "\n",
      "Warning message:\n",
      "“Column(s) 5 not logical or factor. Applying default discretization (see '? discretizeDF').”\n"
     ]
    }
   ],
   "source": [
    "# Cargar librerías necesarias\n",
    "\n",
    "library(arules)\n",
    "library(dplyr)\n",
    "\n",
    "# Cargar los datos (reemplaza 'tus_datos.csv' por tu archivo real)\n",
    "datos <- read.csv(\"Asociacion.csv\")\n",
    "\n",
    "# Ejemplo de categorización automática para algunas columnas numéricas\n",
    "datos <- datos %>%\n",
    "  mutate(\n",
    "    duracion_cat = cut(duracion_segundos, breaks = c(0, 300, 600, Inf), labels = c(\"corta\", \"media\", \"larga\")),\n",
    "    vistas_cat = cut(vistas, breaks = quantile(vistas, probs = seq(0, 1, 0.33), na.rm = TRUE), labels = c(\"bajas\", \"medias\", \"altas\")),\n",
    "    suscriptores_cat = cut(suscriptores, breaks = quantile(suscriptores, probs = seq(0, 1, 0.33), na.rm = TRUE), labels = c(\"pocos\", \"moderados\", \"muchos\"))\n",
    "  )\n",
    "\n",
    "# Seleccionar solo columnas categóricas para el análisis de Apriori\n",
    "datos_apriori <- datos %>%\n",
    "  select(duracion_cat, vistas_cat, suscriptores_cat, mayor_5_min, tags)  # Agrega más columnas si es necesario\n",
    "\n",
    "# Convertir los datos a transacciones\n",
    "transacciones <- as(datos_apriori, \"transactions\")\n"
   ]
  },
  {
   "cell_type": "code",
   "execution_count": 2,
   "metadata": {
    "colab": {
     "base_uri": "https://localhost:8080/",
     "height": 349
    },
    "id": "jSYmrMFCQ2XF",
    "outputId": "c3544372-668b-4861-f7ba-6c0c5e01fd68",
    "vscode": {
     "languageId": "r"
    }
   },
   "outputs": [
    {
     "name": "stderr",
     "output_type": "stream",
     "text": [
      "Warning message:\n",
      "“Column(s) 1, 2, 4, 5, 6, 7, 8, 9, 10, 11, 12, 13, 14 not logical or factor. Applying default discretization (see '? discretizeDF').”\n",
      "Warning message in discretize(x = c(2577L, 2577L, 2577L, 2577L, 2577L, 2577L, 2577L, :\n",
      "“The calculated breaks are: 2577, 2577, 2577, 2577\n",
      "  Only unique breaks are used reducing the number of intervals. Look at ? discretize for details.”\n"
     ]
    },
    {
     "ename": "ERROR",
     "evalue": "Error in discretizeDF(from): Problem with column Impresiones_promedio\nError in discretize(x = c(2577L, 2577L, 2577L, 2577L, 2577L, 2577L, 2577L,  : \n  Less than 2 uniques breaks left. Maybe the variable has only one value!\n\n",
     "output_type": "error",
     "traceback": [
      "Error in discretizeDF(from): Problem with column Impresiones_promedio\nError in discretize(x = c(2577L, 2577L, 2577L, 2577L, 2577L, 2577L, 2577L,  : \n  Less than 2 uniques breaks left. Maybe the variable has only one value!\n\nTraceback:\n",
      "1. asMethod(object)",
      "2. discretizeDF(from)",
      "3. stop(\"Problem with column \", i, \"\\n\", err)",
      "4. .handleSimpleError(function (cnd) \n . {\n .     watcher$capture_plot_and_output()\n .     cnd <- sanitize_call(cnd)\n .     watcher$push(cnd)\n .     switch(on_error, continue = invokeRestart(\"eval_continue\"), \n .         stop = invokeRestart(\"eval_stop\"), error = invokeRestart(\"eval_error\", \n .             cnd))\n . }, \"Problem with column Impresiones_promedio\\nError in discretize(x = c(2577L, 2577L, 2577L, 2577L, 2577L, 2577L, 2577L,  : \\n  Less than 2 uniques breaks left. Maybe the variable has only one value!\\n\", \n .     base::quote(discretizeDF(from)))"
     ]
    }
   ],
   "source": [
    "Youtube <- read.csv('Asociacion.csv')\n",
    "Youtube <- as(Youtube, \"transactions\")\n",
    "Youtube"
   ]
  },
  {
   "cell_type": "code",
   "execution_count": null,
   "metadata": {
    "colab": {
     "base_uri": "https://localhost:8080/"
    },
    "id": "Y-7TbvuoH55c",
    "outputId": "df2ddc09-de07-4640-f9de-ac6be6d8579a",
    "vscode": {
     "languageId": "r"
    }
   },
   "outputs": [],
   "source": [
    "str(Youtube)"
   ]
  },
  {
   "cell_type": "code",
   "execution_count": null,
   "metadata": {
    "colab": {
     "base_uri": "https://localhost:8080/",
     "height": 52
    },
    "id": "GcBDbcv-RCXX",
    "outputId": "5aa3647b-eaf3-4406-d654-f26383103b74",
    "vscode": {
     "languageId": "r"
    }
   },
   "outputs": [],
   "source": [
    "class(Youtube)\n"
   ]
  },
  {
   "cell_type": "code",
   "execution_count": null,
   "metadata": {
    "colab": {
     "base_uri": "https://localhost:8080/",
     "height": 34
    },
    "id": "w4XOfhlXdRmo",
    "outputId": "9869c046-1872-4f2a-ccd5-ed2223c8fc5c",
    "vscode": {
     "languageId": "r"
    }
   },
   "outputs": [],
   "source": [
    "as(Youtube, \"matrix\")"
   ]
  },
  {
   "cell_type": "markdown",
   "metadata": {
    "id": "3o5I9l3EPvpi"
   },
   "source": [
    "<div style=\"background:#FFFFE0;padding:20px;color:#000000;margin-top:10px;\">\n",
    "\n",
    "### 2. Aplicación del algoritmo apriori.\n",
    "</div>"
   ]
  },
  {
   "cell_type": "code",
   "execution_count": null,
   "metadata": {
    "colab": {
     "base_uri": "https://localhost:8080/"
    },
    "id": "sWHvtzrHdZxd",
    "outputId": "c851411f-3d84-472b-c22b-904ea64fa661",
    "vscode": {
     "languageId": "r"
    }
   },
   "outputs": [],
   "source": [
    "modelo_asociacion <- apriori(Youtube, parameter=list(supp=0.40, conf=0.7))\n"
   ]
  },
  {
   "cell_type": "code",
   "execution_count": null,
   "metadata": {
    "colab": {
     "base_uri": "https://localhost:8080/",
     "height": 579
    },
    "id": "BXR9R2A3eWa5",
    "outputId": "c11644ac-c1bc-4157-e2c6-b06833679e88",
    "vscode": {
     "languageId": "r"
    }
   },
   "outputs": [],
   "source": [
    "top<-inspect(modelo_asociacion)\n",
    "class(top)\n",
    "top"
   ]
  },
  {
   "cell_type": "code",
   "execution_count": null,
   "metadata": {
    "colab": {
     "base_uri": "https://localhost:8080/",
     "height": 380
    },
    "id": "MXaIE3knHa9d",
    "outputId": "37f30e8d-a715-4dbc-ba9c-29060df870e0",
    "vscode": {
     "languageId": "r"
    }
   },
   "outputs": [],
   "source": [
    "top[order(top$lift, decreasing=FALSE),]"
   ]
  },
  {
   "cell_type": "code",
   "execution_count": null,
   "metadata": {
    "colab": {
     "base_uri": "https://localhost:8080/",
     "height": 437
    },
    "id": "qEhNnbDfHbye",
    "outputId": "e2f19cd1-748d-4a0a-ed54-2bad6cd14326",
    "vscode": {
     "languageId": "r"
    }
   },
   "outputs": [],
   "source": [
    "Youtube <- as(Youtube, \"transactions\")\n",
    "itemFrequencyPlot(Youtube, topN=20)"
   ]
  },
  {
   "cell_type": "markdown",
   "metadata": {
    "id": "dqP286BpQOTU"
   },
   "source": [
    "<div style=\"background:#FFFFE0;padding:20px;color:#000000;margin-top:10px;\">\n",
    "\n",
    "# Conclusión:\n",
    "Dado el proceso evidenciado se concluye que los resultados empíricos de manera manual es igual a los automatizados, Además, se comprende la importancia y utilidad del mismo para minar los datos con respecto a los items que corresponden a cierta regla y cuales no, asi como du dependencia e independencia.\n",
    "</div>"
   ]
  }
 ],
 "metadata": {
  "colab": {
   "provenance": []
  },
  "kernelspec": {
   "display_name": "R",
   "language": "R",
   "name": "ir"
  },
  "language_info": {
   "codemirror_mode": "r",
   "file_extension": ".r",
   "mimetype": "text/x-r-source",
   "name": "R",
   "pygments_lexer": "r",
   "version": "4.3.3"
  }
 },
 "nbformat": 4,
 "nbformat_minor": 0
}
